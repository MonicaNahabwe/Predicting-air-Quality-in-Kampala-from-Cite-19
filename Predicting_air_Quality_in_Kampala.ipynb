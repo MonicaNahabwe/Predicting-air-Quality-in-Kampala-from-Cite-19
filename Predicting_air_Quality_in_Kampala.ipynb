{
  "nbformat": 4,
  "nbformat_minor": 0,
  "metadata": {
    "colab": {
      "provenance": []
    },
    "kernelspec": {
      "name": "python3",
      "display_name": "Python 3"
    },
    "language_info": {
      "name": "python"
    }
  },
  "cells": [
    {
      "cell_type": "code",
      "execution_count": null,
      "metadata": {
        "id": "1I1iPDhFt0k3"
      },
      "outputs": [],
      "source": [
        "import pandas as pd\n",
        "from datetime import timedelta, datetime\n",
        "import numpy as np\n",
        "import matplotlib.pyplot as plt\n",
        "import plotly.express as px\n",
        "import pytz # time zone\n",
        "import seaborn as sns\n",
        "from sklearn.linear_model import LinearRegression\n",
        "from sklearn.metrics import mean_absolute_error\n",
        "import warnings\n",
        "warnings.filterwarnings(\"ignore\")\n",
        "#Stat models\n",
        "from statsmodels.graphics.tsaplots import plot_acf, plot_pacf\n",
        "from statsmodels.tsa.ar_model import AutoReg\n",
        "from statsmodels.tsa.arima.model import ARIMA\n"
      ]
    },
    {
      "cell_type": "code",
      "source": [
        "url1= \"https://open.africa/dataset/565b411c-1bfc-4ba8-a3d1-2b27a13f4d89/resource/764a9274-3057-4e67-adc5-60bf2b5d40a6/download/february_2018_sensor_data_archive.csv\"\n",
        "url2=\"https://open.africa/dataset/565b411c-1bfc-4ba8-a3d1-2b27a13f4d89/resource/7133202b-2f4f-46e9-b5a1-3e9b8f1bc994/download/march_2018_sensor_data_archive.csv\"\n",
        "url3=\"https://open.africa/dataset/565b411c-1bfc-4ba8-a3d1-2b27a13f4d89/resource/37bcc163-6b4f-4c7c-be06-bc0ae87cab24/download/april_2018_sensor_data_archive.csv\"\n",
        "url4=\"https://open.africa/dataset/565b411c-1bfc-4ba8-a3d1-2b27a13f4d89/resource/b5a11f77-8e35-48d0-ad5c-5d8014c46b56/download/may_2018_sensor_data_archive.csv\""
      ],
      "metadata": {
        "id": "L2JJHvByt3P7"
      },
      "execution_count": null,
      "outputs": []
    },
    {
      "cell_type": "code",
      "source": [
        "def wrangle(filepath):\n",
        "    # Read CSV file\n",
        "    df = pd.read_csv(filepath, sep=\";\")\n",
        "    df.set_index(\"timestamp\", inplace=True)\n",
        "    df.index= pd.to_datetime(df.index)\n",
        "    #choose reading for P2\n",
        "    df=df[df[\"value_type\"]== \"P2\"]\n",
        "    #remove outliers\n",
        "    df= df[df[\"value\"]<500]\n",
        "    # since this is Uganda, we shall follow 'Africa/Nairobi' time zone\n",
        "    df.index= df.index.tz_convert(\"Africa/Nairobi\")\n",
        "    return df"
      ],
      "metadata": {
        "id": "daQLyvYjuYNI"
      },
      "execution_count": null,
      "outputs": []
    },
    {
      "cell_type": "code",
      "source": [
        "frame1 = wrangle(url1)\n",
        "frame2 = wrangle(url2)\n",
        "frame3=wrangle(url3)\n",
        "frame4 = wrangle(url4)\n",
        "frame4.head()"
      ],
      "metadata": {
        "colab": {
          "base_uri": "https://localhost:8080/",
          "height": 238
        },
        "id": "tWHrSgH8usp4",
        "outputId": "7ee6294d-5279-4835-d4be-cab7bd1b774c"
      },
      "execution_count": null,
      "outputs": [
        {
          "output_type": "execute_result",
          "data": {
            "text/plain": [
              "                                  sensor_id sensor_type  location    lat  \\\n",
              "timestamp                                                                  \n",
              "2018-05-02 07:44:33.982172+03:00         42      SDS011        19  0.323   \n",
              "2018-05-02 08:06:50.144415+03:00         42      SDS011        19  0.323   \n",
              "2018-05-02 08:26:41.163608+03:00         42      SDS011        19  0.323   \n",
              "2018-05-02 08:31:39.843516+03:00         42      SDS011        19  0.323   \n",
              "2018-05-02 08:34:12.475604+03:00         42      SDS011        19  0.323   \n",
              "\n",
              "                                     lon value_type  value  \n",
              "timestamp                                                   \n",
              "2018-05-02 07:44:33.982172+03:00  32.576         P2   3.30  \n",
              "2018-05-02 08:06:50.144415+03:00  32.576         P2   2.60  \n",
              "2018-05-02 08:26:41.163608+03:00  32.576         P2   3.13  \n",
              "2018-05-02 08:31:39.843516+03:00  32.576         P2   3.30  \n",
              "2018-05-02 08:34:12.475604+03:00  32.576         P2   4.10  "
            ],
            "text/html": [
              "\n",
              "  <div id=\"df-8bdb766f-db51-4c7d-826f-eaae66626900\">\n",
              "    <div class=\"colab-df-container\">\n",
              "      <div>\n",
              "<style scoped>\n",
              "    .dataframe tbody tr th:only-of-type {\n",
              "        vertical-align: middle;\n",
              "    }\n",
              "\n",
              "    .dataframe tbody tr th {\n",
              "        vertical-align: top;\n",
              "    }\n",
              "\n",
              "    .dataframe thead th {\n",
              "        text-align: right;\n",
              "    }\n",
              "</style>\n",
              "<table border=\"1\" class=\"dataframe\">\n",
              "  <thead>\n",
              "    <tr style=\"text-align: right;\">\n",
              "      <th></th>\n",
              "      <th>sensor_id</th>\n",
              "      <th>sensor_type</th>\n",
              "      <th>location</th>\n",
              "      <th>lat</th>\n",
              "      <th>lon</th>\n",
              "      <th>value_type</th>\n",
              "      <th>value</th>\n",
              "    </tr>\n",
              "    <tr>\n",
              "      <th>timestamp</th>\n",
              "      <th></th>\n",
              "      <th></th>\n",
              "      <th></th>\n",
              "      <th></th>\n",
              "      <th></th>\n",
              "      <th></th>\n",
              "      <th></th>\n",
              "    </tr>\n",
              "  </thead>\n",
              "  <tbody>\n",
              "    <tr>\n",
              "      <th>2018-05-02 07:44:33.982172+03:00</th>\n",
              "      <td>42</td>\n",
              "      <td>SDS011</td>\n",
              "      <td>19</td>\n",
              "      <td>0.323</td>\n",
              "      <td>32.576</td>\n",
              "      <td>P2</td>\n",
              "      <td>3.30</td>\n",
              "    </tr>\n",
              "    <tr>\n",
              "      <th>2018-05-02 08:06:50.144415+03:00</th>\n",
              "      <td>42</td>\n",
              "      <td>SDS011</td>\n",
              "      <td>19</td>\n",
              "      <td>0.323</td>\n",
              "      <td>32.576</td>\n",
              "      <td>P2</td>\n",
              "      <td>2.60</td>\n",
              "    </tr>\n",
              "    <tr>\n",
              "      <th>2018-05-02 08:26:41.163608+03:00</th>\n",
              "      <td>42</td>\n",
              "      <td>SDS011</td>\n",
              "      <td>19</td>\n",
              "      <td>0.323</td>\n",
              "      <td>32.576</td>\n",
              "      <td>P2</td>\n",
              "      <td>3.13</td>\n",
              "    </tr>\n",
              "    <tr>\n",
              "      <th>2018-05-02 08:31:39.843516+03:00</th>\n",
              "      <td>42</td>\n",
              "      <td>SDS011</td>\n",
              "      <td>19</td>\n",
              "      <td>0.323</td>\n",
              "      <td>32.576</td>\n",
              "      <td>P2</td>\n",
              "      <td>3.30</td>\n",
              "    </tr>\n",
              "    <tr>\n",
              "      <th>2018-05-02 08:34:12.475604+03:00</th>\n",
              "      <td>42</td>\n",
              "      <td>SDS011</td>\n",
              "      <td>19</td>\n",
              "      <td>0.323</td>\n",
              "      <td>32.576</td>\n",
              "      <td>P2</td>\n",
              "      <td>4.10</td>\n",
              "    </tr>\n",
              "  </tbody>\n",
              "</table>\n",
              "</div>\n",
              "      <button class=\"colab-df-convert\" onclick=\"convertToInteractive('df-8bdb766f-db51-4c7d-826f-eaae66626900')\"\n",
              "              title=\"Convert this dataframe to an interactive table.\"\n",
              "              style=\"display:none;\">\n",
              "        \n",
              "  <svg xmlns=\"http://www.w3.org/2000/svg\" height=\"24px\"viewBox=\"0 0 24 24\"\n",
              "       width=\"24px\">\n",
              "    <path d=\"M0 0h24v24H0V0z\" fill=\"none\"/>\n",
              "    <path d=\"M18.56 5.44l.94 2.06.94-2.06 2.06-.94-2.06-.94-.94-2.06-.94 2.06-2.06.94zm-11 1L8.5 8.5l.94-2.06 2.06-.94-2.06-.94L8.5 2.5l-.94 2.06-2.06.94zm10 10l.94 2.06.94-2.06 2.06-.94-2.06-.94-.94-2.06-.94 2.06-2.06.94z\"/><path d=\"M17.41 7.96l-1.37-1.37c-.4-.4-.92-.59-1.43-.59-.52 0-1.04.2-1.43.59L10.3 9.45l-7.72 7.72c-.78.78-.78 2.05 0 2.83L4 21.41c.39.39.9.59 1.41.59.51 0 1.02-.2 1.41-.59l7.78-7.78 2.81-2.81c.8-.78.8-2.07 0-2.86zM5.41 20L4 18.59l7.72-7.72 1.47 1.35L5.41 20z\"/>\n",
              "  </svg>\n",
              "      </button>\n",
              "      \n",
              "  <style>\n",
              "    .colab-df-container {\n",
              "      display:flex;\n",
              "      flex-wrap:wrap;\n",
              "      gap: 12px;\n",
              "    }\n",
              "\n",
              "    .colab-df-convert {\n",
              "      background-color: #E8F0FE;\n",
              "      border: none;\n",
              "      border-radius: 50%;\n",
              "      cursor: pointer;\n",
              "      display: none;\n",
              "      fill: #1967D2;\n",
              "      height: 32px;\n",
              "      padding: 0 0 0 0;\n",
              "      width: 32px;\n",
              "    }\n",
              "\n",
              "    .colab-df-convert:hover {\n",
              "      background-color: #E2EBFA;\n",
              "      box-shadow: 0px 1px 2px rgba(60, 64, 67, 0.3), 0px 1px 3px 1px rgba(60, 64, 67, 0.15);\n",
              "      fill: #174EA6;\n",
              "    }\n",
              "\n",
              "    [theme=dark] .colab-df-convert {\n",
              "      background-color: #3B4455;\n",
              "      fill: #D2E3FC;\n",
              "    }\n",
              "\n",
              "    [theme=dark] .colab-df-convert:hover {\n",
              "      background-color: #434B5C;\n",
              "      box-shadow: 0px 1px 3px 1px rgba(0, 0, 0, 0.15);\n",
              "      filter: drop-shadow(0px 1px 2px rgba(0, 0, 0, 0.3));\n",
              "      fill: #FFFFFF;\n",
              "    }\n",
              "  </style>\n",
              "\n",
              "      <script>\n",
              "        const buttonEl =\n",
              "          document.querySelector('#df-8bdb766f-db51-4c7d-826f-eaae66626900 button.colab-df-convert');\n",
              "        buttonEl.style.display =\n",
              "          google.colab.kernel.accessAllowed ? 'block' : 'none';\n",
              "\n",
              "        async function convertToInteractive(key) {\n",
              "          const element = document.querySelector('#df-8bdb766f-db51-4c7d-826f-eaae66626900');\n",
              "          const dataTable =\n",
              "            await google.colab.kernel.invokeFunction('convertToInteractive',\n",
              "                                                     [key], {});\n",
              "          if (!dataTable) return;\n",
              "\n",
              "          const docLinkHtml = 'Like what you see? Visit the ' +\n",
              "            '<a target=\"_blank\" href=https://colab.research.google.com/notebooks/data_table.ipynb>data table notebook</a>'\n",
              "            + ' to learn more about interactive tables.';\n",
              "          element.innerHTML = '';\n",
              "          dataTable['output_type'] = 'display_data';\n",
              "          await google.colab.output.renderOutput(dataTable, element);\n",
              "          const docLink = document.createElement('div');\n",
              "          docLink.innerHTML = docLinkHtml;\n",
              "          element.appendChild(docLink);\n",
              "        }\n",
              "      </script>\n",
              "    </div>\n",
              "  </div>\n",
              "  "
            ]
          },
          "metadata": {},
          "execution_count": 5
        }
      ]
    },
    {
      "cell_type": "code",
      "source": [
        "data = pd.concat([frame1,frame2, frame3, frame4], ignore_index=False)\n",
        "data.head()"
      ],
      "metadata": {
        "colab": {
          "base_uri": "https://localhost:8080/",
          "height": 238
        },
        "id": "NknW2McH7kT4",
        "outputId": "a7686ceb-6033-4618-9740-5ee2cd89c9e6"
      },
      "execution_count": null,
      "outputs": [
        {
          "output_type": "execute_result",
          "data": {
            "text/plain": [
              "                                  sensor_id sensor_type  location    lat  \\\n",
              "timestamp                                                                  \n",
              "2018-02-21 10:24:27.103718+03:00         42      SDS011        19  0.323   \n",
              "2018-02-21 10:26:59.211947+03:00         42      SDS011        19  0.323   \n",
              "2018-02-21 10:29:31.816092+03:00         42      SDS011        19  0.323   \n",
              "2018-02-21 10:32:04.426529+03:00         42      SDS011        19  0.323   \n",
              "2018-02-21 10:34:35.389060+03:00         42      SDS011        19  0.323   \n",
              "\n",
              "                                     lon value_type  value  \n",
              "timestamp                                                   \n",
              "2018-02-21 10:24:27.103718+03:00  32.576         P2  22.10  \n",
              "2018-02-21 10:26:59.211947+03:00  32.576         P2  20.40  \n",
              "2018-02-21 10:29:31.816092+03:00  32.576         P2  14.00  \n",
              "2018-02-21 10:32:04.426529+03:00  32.576         P2  13.40  \n",
              "2018-02-21 10:34:35.389060+03:00  32.576         P2  12.73  "
            ],
            "text/html": [
              "\n",
              "  <div id=\"df-1430f3ab-bb60-4083-a099-bf14e339de33\">\n",
              "    <div class=\"colab-df-container\">\n",
              "      <div>\n",
              "<style scoped>\n",
              "    .dataframe tbody tr th:only-of-type {\n",
              "        vertical-align: middle;\n",
              "    }\n",
              "\n",
              "    .dataframe tbody tr th {\n",
              "        vertical-align: top;\n",
              "    }\n",
              "\n",
              "    .dataframe thead th {\n",
              "        text-align: right;\n",
              "    }\n",
              "</style>\n",
              "<table border=\"1\" class=\"dataframe\">\n",
              "  <thead>\n",
              "    <tr style=\"text-align: right;\">\n",
              "      <th></th>\n",
              "      <th>sensor_id</th>\n",
              "      <th>sensor_type</th>\n",
              "      <th>location</th>\n",
              "      <th>lat</th>\n",
              "      <th>lon</th>\n",
              "      <th>value_type</th>\n",
              "      <th>value</th>\n",
              "    </tr>\n",
              "    <tr>\n",
              "      <th>timestamp</th>\n",
              "      <th></th>\n",
              "      <th></th>\n",
              "      <th></th>\n",
              "      <th></th>\n",
              "      <th></th>\n",
              "      <th></th>\n",
              "      <th></th>\n",
              "    </tr>\n",
              "  </thead>\n",
              "  <tbody>\n",
              "    <tr>\n",
              "      <th>2018-02-21 10:24:27.103718+03:00</th>\n",
              "      <td>42</td>\n",
              "      <td>SDS011</td>\n",
              "      <td>19</td>\n",
              "      <td>0.323</td>\n",
              "      <td>32.576</td>\n",
              "      <td>P2</td>\n",
              "      <td>22.10</td>\n",
              "    </tr>\n",
              "    <tr>\n",
              "      <th>2018-02-21 10:26:59.211947+03:00</th>\n",
              "      <td>42</td>\n",
              "      <td>SDS011</td>\n",
              "      <td>19</td>\n",
              "      <td>0.323</td>\n",
              "      <td>32.576</td>\n",
              "      <td>P2</td>\n",
              "      <td>20.40</td>\n",
              "    </tr>\n",
              "    <tr>\n",
              "      <th>2018-02-21 10:29:31.816092+03:00</th>\n",
              "      <td>42</td>\n",
              "      <td>SDS011</td>\n",
              "      <td>19</td>\n",
              "      <td>0.323</td>\n",
              "      <td>32.576</td>\n",
              "      <td>P2</td>\n",
              "      <td>14.00</td>\n",
              "    </tr>\n",
              "    <tr>\n",
              "      <th>2018-02-21 10:32:04.426529+03:00</th>\n",
              "      <td>42</td>\n",
              "      <td>SDS011</td>\n",
              "      <td>19</td>\n",
              "      <td>0.323</td>\n",
              "      <td>32.576</td>\n",
              "      <td>P2</td>\n",
              "      <td>13.40</td>\n",
              "    </tr>\n",
              "    <tr>\n",
              "      <th>2018-02-21 10:34:35.389060+03:00</th>\n",
              "      <td>42</td>\n",
              "      <td>SDS011</td>\n",
              "      <td>19</td>\n",
              "      <td>0.323</td>\n",
              "      <td>32.576</td>\n",
              "      <td>P2</td>\n",
              "      <td>12.73</td>\n",
              "    </tr>\n",
              "  </tbody>\n",
              "</table>\n",
              "</div>\n",
              "      <button class=\"colab-df-convert\" onclick=\"convertToInteractive('df-1430f3ab-bb60-4083-a099-bf14e339de33')\"\n",
              "              title=\"Convert this dataframe to an interactive table.\"\n",
              "              style=\"display:none;\">\n",
              "        \n",
              "  <svg xmlns=\"http://www.w3.org/2000/svg\" height=\"24px\"viewBox=\"0 0 24 24\"\n",
              "       width=\"24px\">\n",
              "    <path d=\"M0 0h24v24H0V0z\" fill=\"none\"/>\n",
              "    <path d=\"M18.56 5.44l.94 2.06.94-2.06 2.06-.94-2.06-.94-.94-2.06-.94 2.06-2.06.94zm-11 1L8.5 8.5l.94-2.06 2.06-.94-2.06-.94L8.5 2.5l-.94 2.06-2.06.94zm10 10l.94 2.06.94-2.06 2.06-.94-2.06-.94-.94-2.06-.94 2.06-2.06.94z\"/><path d=\"M17.41 7.96l-1.37-1.37c-.4-.4-.92-.59-1.43-.59-.52 0-1.04.2-1.43.59L10.3 9.45l-7.72 7.72c-.78.78-.78 2.05 0 2.83L4 21.41c.39.39.9.59 1.41.59.51 0 1.02-.2 1.41-.59l7.78-7.78 2.81-2.81c.8-.78.8-2.07 0-2.86zM5.41 20L4 18.59l7.72-7.72 1.47 1.35L5.41 20z\"/>\n",
              "  </svg>\n",
              "      </button>\n",
              "      \n",
              "  <style>\n",
              "    .colab-df-container {\n",
              "      display:flex;\n",
              "      flex-wrap:wrap;\n",
              "      gap: 12px;\n",
              "    }\n",
              "\n",
              "    .colab-df-convert {\n",
              "      background-color: #E8F0FE;\n",
              "      border: none;\n",
              "      border-radius: 50%;\n",
              "      cursor: pointer;\n",
              "      display: none;\n",
              "      fill: #1967D2;\n",
              "      height: 32px;\n",
              "      padding: 0 0 0 0;\n",
              "      width: 32px;\n",
              "    }\n",
              "\n",
              "    .colab-df-convert:hover {\n",
              "      background-color: #E2EBFA;\n",
              "      box-shadow: 0px 1px 2px rgba(60, 64, 67, 0.3), 0px 1px 3px 1px rgba(60, 64, 67, 0.15);\n",
              "      fill: #174EA6;\n",
              "    }\n",
              "\n",
              "    [theme=dark] .colab-df-convert {\n",
              "      background-color: #3B4455;\n",
              "      fill: #D2E3FC;\n",
              "    }\n",
              "\n",
              "    [theme=dark] .colab-df-convert:hover {\n",
              "      background-color: #434B5C;\n",
              "      box-shadow: 0px 1px 3px 1px rgba(0, 0, 0, 0.15);\n",
              "      filter: drop-shadow(0px 1px 2px rgba(0, 0, 0, 0.3));\n",
              "      fill: #FFFFFF;\n",
              "    }\n",
              "  </style>\n",
              "\n",
              "      <script>\n",
              "        const buttonEl =\n",
              "          document.querySelector('#df-1430f3ab-bb60-4083-a099-bf14e339de33 button.colab-df-convert');\n",
              "        buttonEl.style.display =\n",
              "          google.colab.kernel.accessAllowed ? 'block' : 'none';\n",
              "\n",
              "        async function convertToInteractive(key) {\n",
              "          const element = document.querySelector('#df-1430f3ab-bb60-4083-a099-bf14e339de33');\n",
              "          const dataTable =\n",
              "            await google.colab.kernel.invokeFunction('convertToInteractive',\n",
              "                                                     [key], {});\n",
              "          if (!dataTable) return;\n",
              "\n",
              "          const docLinkHtml = 'Like what you see? Visit the ' +\n",
              "            '<a target=\"_blank\" href=https://colab.research.google.com/notebooks/data_table.ipynb>data table notebook</a>'\n",
              "            + ' to learn more about interactive tables.';\n",
              "          element.innerHTML = '';\n",
              "          dataTable['output_type'] = 'display_data';\n",
              "          await google.colab.output.renderOutput(dataTable, element);\n",
              "          const docLink = document.createElement('div');\n",
              "          docLink.innerHTML = docLinkHtml;\n",
              "          element.appendChild(docLink);\n",
              "        }\n",
              "      </script>\n",
              "    </div>\n",
              "  </div>\n",
              "  "
            ]
          },
          "metadata": {},
          "execution_count": 6
        }
      ]
    },
    {
      "cell_type": "code",
      "source": [
        "fig, ax = plt.subplots(figsize=(15, 6))\n",
        "data[\"value\"].plot(ax=ax, kind=\"box\", vert=False, title=\"Distribution of PM2.5 Reading\")"
      ],
      "metadata": {
        "colab": {
          "base_uri": "https://localhost:8080/",
          "height": 408
        },
        "id": "qBdZNulKu1KX",
        "outputId": "8134fdac-aabf-436d-e560-120d0741aead"
      },
      "execution_count": null,
      "outputs": [
        {
          "output_type": "execute_result",
          "data": {
            "text/plain": [
              "<matplotlib.axes._subplots.AxesSubplot at 0x7fd6bbb4af40>"
            ]
          },
          "metadata": {},
          "execution_count": 7
        },
        {
          "output_type": "display_data",
          "data": {
            "text/plain": [
              "<Figure size 1080x432 with 1 Axes>"
            ],
            "image/png": "[encoded data removed]"
          },
          "metadata": {
            "needs_background": "light"
          }
        }
      ]
    },
    {
      "cell_type": "code",
      "source": [
        "data[\"value\"].describe()"
      ],
      "metadata": {
        "colab": {
          "base_uri": "https://localhost:8080/"
        },
        "id": "2x1hkQYfws6A",
        "outputId": "deffde99-b33e-4a13-9cda-e4c6c0bc2520"
      },
      "execution_count": null,
      "outputs": [
        {
          "output_type": "execute_result",
          "data": {
            "text/plain": [
              "count    15801.000000\n",
              "mean        12.176220\n",
              "std         13.409718\n",
              "min          1.170000\n",
              "25%          5.470000\n",
              "50%          9.100000\n",
              "75%         14.600000\n",
              "max        214.070000\n",
              "Name: value, dtype: float64"
            ]
          },
          "metadata": {},
          "execution_count": 8
        }
      ]
    },
    {
      "cell_type": "code",
      "source": [
        "#low, high= data_f[\"value\"].quantile([0.1,0.9])\n",
        "#mask_pmread=data_f[\"value\"].between (low,high)\n",
        "#data_f=data_f[mask_pmread]"
      ],
      "metadata": {
        "id": "PoKlk5oBxpBg"
      },
      "execution_count": null,
      "outputs": []
    },
    {
      "cell_type": "code",
      "source": [
        "#fig, ax = plt.subplots(figsize=(15, 6))\n",
        "sns.distplot(data[\"value\"]);"
      ],
      "metadata": {
        "colab": {
          "base_uri": "https://localhost:8080/",
          "height": 279
        },
        "id": "HPc8cFW1AgjJ",
        "outputId": "a4adec78-1893-4365-b3f4-63955d3d34ee"
      },
      "execution_count": null,
      "outputs": [
        {
          "output_type": "display_data",
          "data": {
            "text/plain": [
              "<Figure size 432x288 with 1 Axes>"
            ],
            "image/png": "[encoded data removed]"
          },
          "metadata": {
            "needs_background": "light"
          }
        }
      ]
    },
    {
      "cell_type": "code",
      "source": [
        "fig, ax = plt.subplots(figsize=(15, 6))\n",
        "data[\"value\"].plot(ax=ax,\n",
        "             xlabel=\"Time\",\n",
        "             ylabel=\"PM2_5\",\n",
        "              title=\"PM2.5 readings from site 19 for Uganda\"\n",
        "             );"
      ],
      "metadata": {
        "colab": {
          "base_uri": "https://localhost:8080/",
          "height": 399
        },
        "id": "SWRfL7GaApeM",
        "outputId": "9e826f63-fb9b-4f23-c5f3-683818bbe16a"
      },
      "execution_count": null,
      "outputs": [
        {
          "output_type": "display_data",
          "data": {
            "text/plain": [
              "<Figure size 1080x432 with 1 Axes>"
            ],
            "image/png": "[encoded data removed]"
          },
          "metadata": {
            "needs_background": "light"
          }
        }
      ]
    },
    {
      "cell_type": "code",
      "source": [
        "#display(frame1, frame2, frame3, frame4)"
      ],
      "metadata": {
        "id": "r2mlUJF3BI0I"
      },
      "execution_count": null,
      "outputs": []
    },
    {
      "cell_type": "markdown",
      "source": [
        "Rolling average"
      ],
      "metadata": {
        "id": "7c851M73TzgH"
      }
    },
    {
      "cell_type": "code",
      "source": [
        "#resample to average per hour and establish the missing values\n",
        "data[[\"value\"]].resample(\"1H\").mean().isnull().sum()"
      ],
      "metadata": {
        "id": "kwzyJ9B8T2Z4",
        "colab": {
          "base_uri": "https://localhost:8080/"
        },
        "outputId": "ee800889-0949-41c6-888f-2867f0f5fcdf"
      },
      "execution_count": null,
      "outputs": [
        {
          "output_type": "execute_result",
          "data": {
            "text/plain": [
              "value    1431\n",
              "dtype: int64"
            ]
          },
          "metadata": {},
          "execution_count": 13
        }
      ]
    },
    {
      "cell_type": "code",
      "source": [
        "data_f= data[[\"value\" ]]\n",
        "# resample and fill in the missing values through foward filling\n",
        "data_f= data_f[[\"value\"]].resample(\"1H\").mean().fillna(method=\"ffill\")\n",
        "data_f[\"P2.L1\"]=data_f[\"value\"].shift(1)\n",
        "data_f.dropna(inplace=True)\n",
        "data_f.head()"
      ],
      "metadata": {
        "colab": {
          "base_uri": "https://localhost:8080/",
          "height": 238
        },
        "id": "gao3po5pXZkU",
        "outputId": "7944ff02-6879-4f8f-c84b-0494cd64a31a"
      },
      "execution_count": null,
      "outputs": [
        {
          "output_type": "execute_result",
          "data": {
            "text/plain": [
              "                              value      P2.L1\n",
              "timestamp                                     \n",
              "2018-02-21 11:00:00+03:00  4.430435  12.221429\n",
              "2018-02-21 12:00:00+03:00  5.575417   4.430435\n",
              "2018-02-21 13:00:00+03:00  4.508261   5.575417\n",
              "2018-02-21 14:00:00+03:00  4.985000   4.508261\n",
              "2018-02-21 15:00:00+03:00  4.613913   4.985000"
            ],
            "text/html": [
              "\n",
              "  <div id=\"df-8eae4f89-3b5e-4f7b-97cb-ad6e5f1f3fb9\">\n",
              "    <div class=\"colab-df-container\">\n",
              "      <div>\n",
              "<style scoped>\n",
              "    .dataframe tbody tr th:only-of-type {\n",
              "        vertical-align: middle;\n",
              "    }\n",
              "\n",
              "    .dataframe tbody tr th {\n",
              "        vertical-align: top;\n",
              "    }\n",
              "\n",
              "    .dataframe thead th {\n",
              "        text-align: right;\n",
              "    }\n",
              "</style>\n",
              "<table border=\"1\" class=\"dataframe\">\n",
              "  <thead>\n",
              "    <tr style=\"text-align: right;\">\n",
              "      <th></th>\n",
              "      <th>value</th>\n",
              "      <th>P2.L1</th>\n",
              "    </tr>\n",
              "    <tr>\n",
              "      <th>timestamp</th>\n",
              "      <th></th>\n",
              "      <th></th>\n",
              "    </tr>\n",
              "  </thead>\n",
              "  <tbody>\n",
              "    <tr>\n",
              "      <th>2018-02-21 11:00:00+03:00</th>\n",
              "      <td>4.430435</td>\n",
              "      <td>12.221429</td>\n",
              "    </tr>\n",
              "    <tr>\n",
              "      <th>2018-02-21 12:00:00+03:00</th>\n",
              "      <td>5.575417</td>\n",
              "      <td>4.430435</td>\n",
              "    </tr>\n",
              "    <tr>\n",
              "      <th>2018-02-21 13:00:00+03:00</th>\n",
              "      <td>4.508261</td>\n",
              "      <td>5.575417</td>\n",
              "    </tr>\n",
              "    <tr>\n",
              "      <th>2018-02-21 14:00:00+03:00</th>\n",
              "      <td>4.985000</td>\n",
              "      <td>4.508261</td>\n",
              "    </tr>\n",
              "    <tr>\n",
              "      <th>2018-02-21 15:00:00+03:00</th>\n",
              "      <td>4.613913</td>\n",
              "      <td>4.985000</td>\n",
              "    </tr>\n",
              "  </tbody>\n",
              "</table>\n",
              "</div>\n",
              "      <button class=\"colab-df-convert\" onclick=\"convertToInteractive('df-8eae4f89-3b5e-4f7b-97cb-ad6e5f1f3fb9')\"\n",
              "              title=\"Convert this dataframe to an interactive table.\"\n",
              "              style=\"display:none;\">\n",
              "        \n",
              "  <svg xmlns=\"http://www.w3.org/2000/svg\" height=\"24px\"viewBox=\"0 0 24 24\"\n",
              "       width=\"24px\">\n",
              "    <path d=\"M0 0h24v24H0V0z\" fill=\"none\"/>\n",
              "    <path d=\"M18.56 5.44l.94 2.06.94-2.06 2.06-.94-2.06-.94-.94-2.06-.94 2.06-2.06.94zm-11 1L8.5 8.5l.94-2.06 2.06-.94-2.06-.94L8.5 2.5l-.94 2.06-2.06.94zm10 10l.94 2.06.94-2.06 2.06-.94-2.06-.94-.94-2.06-.94 2.06-2.06.94z\"/><path d=\"M17.41 7.96l-1.37-1.37c-.4-.4-.92-.59-1.43-.59-.52 0-1.04.2-1.43.59L10.3 9.45l-7.72 7.72c-.78.78-.78 2.05 0 2.83L4 21.41c.39.39.9.59 1.41.59.51 0 1.02-.2 1.41-.59l7.78-7.78 2.81-2.81c.8-.78.8-2.07 0-2.86zM5.41 20L4 18.59l7.72-7.72 1.47 1.35L5.41 20z\"/>\n",
              "  </svg>\n",
              "      </button>\n",
              "      \n",
              "  <style>\n",
              "    .colab-df-container {\n",
              "      display:flex;\n",
              "      flex-wrap:wrap;\n",
              "      gap: 12px;\n",
              "    }\n",
              "\n",
              "    .colab-df-convert {\n",
              "      background-color: #E8F0FE;\n",
              "      border: none;\n",
              "      border-radius: 50%;\n",
              "      cursor: pointer;\n",
              "      display: none;\n",
              "      fill: #1967D2;\n",
              "      height: 32px;\n",
              "      padding: 0 0 0 0;\n",
              "      width: 32px;\n",
              "    }\n",
              "\n",
              "    .colab-df-convert:hover {\n",
              "      background-color: #E2EBFA;\n",
              "      box-shadow: 0px 1px 2px rgba(60, 64, 67, 0.3), 0px 1px 3px 1px rgba(60, 64, 67, 0.15);\n",
              "      fill: #174EA6;\n",
              "    }\n",
              "\n",
              "    [theme=dark] .colab-df-convert {\n",
              "      background-color: #3B4455;\n",
              "      fill: #D2E3FC;\n",
              "    }\n",
              "\n",
              "    [theme=dark] .colab-df-convert:hover {\n",
              "      background-color: #434B5C;\n",
              "      box-shadow: 0px 1px 3px 1px rgba(0, 0, 0, 0.15);\n",
              "      filter: drop-shadow(0px 1px 2px rgba(0, 0, 0, 0.3));\n",
              "      fill: #FFFFFF;\n",
              "    }\n",
              "  </style>\n",
              "\n",
              "      <script>\n",
              "        const buttonEl =\n",
              "          document.querySelector('#df-8eae4f89-3b5e-4f7b-97cb-ad6e5f1f3fb9 button.colab-df-convert');\n",
              "        buttonEl.style.display =\n",
              "          google.colab.kernel.accessAllowed ? 'block' : 'none';\n",
              "\n",
              "        async function convertToInteractive(key) {\n",
              "          const element = document.querySelector('#df-8eae4f89-3b5e-4f7b-97cb-ad6e5f1f3fb9');\n",
              "          const dataTable =\n",
              "            await google.colab.kernel.invokeFunction('convertToInteractive',\n",
              "                                                     [key], {});\n",
              "          if (!dataTable) return;\n",
              "\n",
              "          const docLinkHtml = 'Like what you see? Visit the ' +\n",
              "            '<a target=\"_blank\" href=https://colab.research.google.com/notebooks/data_table.ipynb>data table notebook</a>'\n",
              "            + ' to learn more about interactive tables.';\n",
              "          element.innerHTML = '';\n",
              "          dataTable['output_type'] = 'display_data';\n",
              "          await google.colab.output.renderOutput(dataTable, element);\n",
              "          const docLink = document.createElement('div');\n",
              "          docLink.innerHTML = docLinkHtml;\n",
              "          element.appendChild(docLink);\n",
              "        }\n",
              "      </script>\n",
              "    </div>\n",
              "  </div>\n",
              "  "
            ]
          },
          "metadata": {},
          "execution_count": 14
        }
      ]
    },
    {
      "cell_type": "code",
      "source": [
        "# rolling average plot\n",
        "fig, ax = plt.subplots(figsize=(15, 6))\n",
        "data_f[\"value\"].rolling(168).mean().plot(ax=ax, xlabel=\"PM2.5\", title=\"Weekly Rolling Average\");"
      ],
      "metadata": {
        "colab": {
          "base_uri": "https://localhost:8080/",
          "height": 416
        },
        "id": "Lx3LiUo9Ydka",
        "outputId": "76e2cfbd-8685-4bc1-e5c8-c1a7c79851c4"
      },
      "execution_count": null,
      "outputs": [
        {
          "output_type": "display_data",
          "data": {
            "text/plain": [
              "<Figure size 1080x432 with 1 Axes>"
            ],
            "image/png": "[encoded data removed]"
          },
          "metadata": {
            "needs_background": "light"
          }
        }
      ]
    },
    {
      "cell_type": "code",
      "source": [
        "data_f.corr()"
      ],
      "metadata": {
        "colab": {
          "base_uri": "https://localhost:8080/",
          "height": 112
        },
        "id": "b1-_WzdFe3om",
        "outputId": "7135bc93-a707-4e98-ce50-d0f7a16f6daa"
      },
      "execution_count": null,
      "outputs": [
        {
          "output_type": "execute_result",
          "data": {
            "text/plain": [
              "          value     P2.L1\n",
              "value  1.000000  0.874437\n",
              "P2.L1  0.874437  1.000000"
            ],
            "text/html": [
              "\n",
              "  <div id=\"df-1dcf46c3-5aae-49f7-adf3-0b5df592ff19\">\n",
              "    <div class=\"colab-df-container\">\n",
              "      <div>\n",
              "<style scoped>\n",
              "    .dataframe tbody tr th:only-of-type {\n",
              "        vertical-align: middle;\n",
              "    }\n",
              "\n",
              "    .dataframe tbody tr th {\n",
              "        vertical-align: top;\n",
              "    }\n",
              "\n",
              "    .dataframe thead th {\n",
              "        text-align: right;\n",
              "    }\n",
              "</style>\n",
              "<table border=\"1\" class=\"dataframe\">\n",
              "  <thead>\n",
              "    <tr style=\"text-align: right;\">\n",
              "      <th></th>\n",
              "      <th>value</th>\n",
              "      <th>P2.L1</th>\n",
              "    </tr>\n",
              "  </thead>\n",
              "  <tbody>\n",
              "    <tr>\n",
              "      <th>value</th>\n",
              "      <td>1.000000</td>\n",
              "      <td>0.874437</td>\n",
              "    </tr>\n",
              "    <tr>\n",
              "      <th>P2.L1</th>\n",
              "      <td>0.874437</td>\n",
              "      <td>1.000000</td>\n",
              "    </tr>\n",
              "  </tbody>\n",
              "</table>\n",
              "</div>\n",
              "      <button class=\"colab-df-convert\" onclick=\"convertToInteractive('df-1dcf46c3-5aae-49f7-adf3-0b5df592ff19')\"\n",
              "              title=\"Convert this dataframe to an interactive table.\"\n",
              "              style=\"display:none;\">\n",
              "        \n",
              "  <svg xmlns=\"http://www.w3.org/2000/svg\" height=\"24px\"viewBox=\"0 0 24 24\"\n",
              "       width=\"24px\">\n",
              "    <path d=\"M0 0h24v24H0V0z\" fill=\"none\"/>\n",
              "    <path d=\"M18.56 5.44l.94 2.06.94-2.06 2.06-.94-2.06-.94-.94-2.06-.94 2.06-2.06.94zm-11 1L8.5 8.5l.94-2.06 2.06-.94-2.06-.94L8.5 2.5l-.94 2.06-2.06.94zm10 10l.94 2.06.94-2.06 2.06-.94-2.06-.94-.94-2.06-.94 2.06-2.06.94z\"/><path d=\"M17.41 7.96l-1.37-1.37c-.4-.4-.92-.59-1.43-.59-.52 0-1.04.2-1.43.59L10.3 9.45l-7.72 7.72c-.78.78-.78 2.05 0 2.83L4 21.41c.39.39.9.59 1.41.59.51 0 1.02-.2 1.41-.59l7.78-7.78 2.81-2.81c.8-.78.8-2.07 0-2.86zM5.41 20L4 18.59l7.72-7.72 1.47 1.35L5.41 20z\"/>\n",
              "  </svg>\n",
              "      </button>\n",
              "      \n",
              "  <style>\n",
              "    .colab-df-container {\n",
              "      display:flex;\n",
              "      flex-wrap:wrap;\n",
              "      gap: 12px;\n",
              "    }\n",
              "\n",
              "    .colab-df-convert {\n",
              "      background-color: #E8F0FE;\n",
              "      border: none;\n",
              "      border-radius: 50%;\n",
              "      cursor: pointer;\n",
              "      display: none;\n",
              "      fill: #1967D2;\n",
              "      height: 32px;\n",
              "      padding: 0 0 0 0;\n",
              "      width: 32px;\n",
              "    }\n",
              "\n",
              "    .colab-df-convert:hover {\n",
              "      background-color: #E2EBFA;\n",
              "      box-shadow: 0px 1px 2px rgba(60, 64, 67, 0.3), 0px 1px 3px 1px rgba(60, 64, 67, 0.15);\n",
              "      fill: #174EA6;\n",
              "    }\n",
              "\n",
              "    [theme=dark] .colab-df-convert {\n",
              "      background-color: #3B4455;\n",
              "      fill: #D2E3FC;\n",
              "    }\n",
              "\n",
              "    [theme=dark] .colab-df-convert:hover {\n",
              "      background-color: #434B5C;\n",
              "      box-shadow: 0px 1px 3px 1px rgba(0, 0, 0, 0.15);\n",
              "      filter: drop-shadow(0px 1px 2px rgba(0, 0, 0, 0.3));\n",
              "      fill: #FFFFFF;\n",
              "    }\n",
              "  </style>\n",
              "\n",
              "      <script>\n",
              "        const buttonEl =\n",
              "          document.querySelector('#df-1dcf46c3-5aae-49f7-adf3-0b5df592ff19 button.colab-df-convert');\n",
              "        buttonEl.style.display =\n",
              "          google.colab.kernel.accessAllowed ? 'block' : 'none';\n",
              "\n",
              "        async function convertToInteractive(key) {\n",
              "          const element = document.querySelector('#df-1dcf46c3-5aae-49f7-adf3-0b5df592ff19');\n",
              "          const dataTable =\n",
              "            await google.colab.kernel.invokeFunction('convertToInteractive',\n",
              "                                                     [key], {});\n",
              "          if (!dataTable) return;\n",
              "\n",
              "          const docLinkHtml = 'Like what you see? Visit the ' +\n",
              "            '<a target=\"_blank\" href=https://colab.research.google.com/notebooks/data_table.ipynb>data table notebook</a>'\n",
              "            + ' to learn more about interactive tables.';\n",
              "          element.innerHTML = '';\n",
              "          dataTable['output_type'] = 'display_data';\n",
              "          await google.colab.output.renderOutput(dataTable, element);\n",
              "          const docLink = document.createElement('div');\n",
              "          docLink.innerHTML = docLinkHtml;\n",
              "          element.appendChild(docLink);\n",
              "        }\n",
              "      </script>\n",
              "    </div>\n",
              "  </div>\n",
              "  "
            ]
          },
          "metadata": {},
          "execution_count": 16
        }
      ]
    },
    {
      "cell_type": "code",
      "source": [
        "fig, ax = plt.subplots(figsize=(10, 6))\n",
        "ax.scatter(x=data_f[\"P2.L1\"], y=data_f[\"value\"])\n",
        "ax.plot([0,120],[0,120], linestyle=\"--\",color=\"orange\")\n",
        "plt.xlabel(\"P2.L1\")\n",
        "plt.ylabel(\"P2\")\n",
        "plt.title(\"PM2.5 Autocorrelation\")"
      ],
      "metadata": {
        "colab": {
          "base_uri": "https://localhost:8080/",
          "height": 422
        },
        "id": "SLmfPZjHkVro",
        "outputId": "5057d1db-0e80-450e-a0ee-ae967e3d3e97"
      },
      "execution_count": null,
      "outputs": [
        {
          "output_type": "execute_result",
          "data": {
            "text/plain": [
              "Text(0.5, 1.0, 'PM2.5 Autocorrelation')"
            ]
          },
          "metadata": {},
          "execution_count": 17
        },
        {
          "output_type": "display_data",
          "data": {
            "text/plain": [
              "<Figure size 720x432 with 1 Axes>"
            ],
            "image/png": "[encoded data removed]"
          },
          "metadata": {
            "needs_background": "light"
          }
        }
      ]
    },
    {
      "cell_type": "markdown",
      "source": [
        "# Modelling through Linear Regression"
      ],
      "metadata": {
        "id": "sxGn5YUsisoS"
      }
    },
    {
      "cell_type": "code",
      "source": [],
      "metadata": {
        "id": "yXu8J6k4i3I3"
      },
      "execution_count": null,
      "outputs": []
    },
    {
      "cell_type": "markdown",
      "source": [
        "Split"
      ],
      "metadata": {
        "id": "6p3e1dKsk9V4"
      }
    },
    {
      "cell_type": "code",
      "source": [
        "target = \"value\"\n",
        "y = data_f[target]\n",
        "X = data_f.drop(columns=target)"
      ],
      "metadata": {
        "id": "_mLG3Vm7lBim"
      },
      "execution_count": null,
      "outputs": []
    },
    {
      "cell_type": "code",
      "source": [
        "#Divide data into traing and testing set\n",
        "cutoff = int(len(X)*0.8)\n",
        "\n",
        "X_train, y_train = X.iloc[:cutoff], y.iloc[:cutoff]\n",
        "X_test, y_test = X.iloc[cutoff:], y.iloc[cutoff:]"
      ],
      "metadata": {
        "id": "ex0307dKlJei"
      },
      "execution_count": null,
      "outputs": []
    },
    {
      "cell_type": "code",
      "source": [
        "# baseline model\n",
        "y_mean= y_train.mean()\n",
        "y_pred_baseline= [y_mean]*len(y_train)\n",
        "mae_baseline = mean_absolute_error(y_train, y_pred_baseline)\n",
        "\n",
        "print(\"Mean P2 Reading:\", round(y_train.mean(), 2))\n",
        "print(\"Baseline MAE:\", round(mae_baseline, 2))"
      ],
      "metadata": {
        "colab": {
          "base_uri": "https://localhost:8080/"
        },
        "id": "9oEVDBZFlk_H",
        "outputId": "6c77a807-cf9c-4c8b-cffe-84799eb3d1b0"
      },
      "execution_count": null,
      "outputs": [
        {
          "output_type": "stream",
          "name": "stdout",
          "text": [
            "Mean P2 Reading: 11.97\n",
            "Baseline MAE: 8.2\n"
          ]
        }
      ]
    },
    {
      "cell_type": "code",
      "source": [
        "# model iteration\n",
        "model = LinearRegression()\n",
        "model.fit(X_train, y_train)"
      ],
      "metadata": {
        "colab": {
          "base_uri": "https://localhost:8080/"
        },
        "id": "MZh8AewZoJVk",
        "outputId": "c564a4f8-2600-4cf4-9575-b2daa29c3f33"
      },
      "execution_count": null,
      "outputs": [
        {
          "output_type": "execute_result",
          "data": {
            "text/plain": [
              "LinearRegression()"
            ]
          },
          "metadata": {},
          "execution_count": 21
        }
      ]
    },
    {
      "cell_type": "markdown",
      "source": [
        "The model predicts better on the test data than on the training data"
      ],
      "metadata": {
        "id": "rxHXXhB2pNxH"
      }
    },
    {
      "cell_type": "code",
      "source": [
        "#model evaluation\n",
        "training_mae = mean_absolute_error(y_train, model.predict(X_train)) # for insample\n",
        "test_mae = mean_absolute_error(y_test, model.predict(X_test)) # for out of sample\n",
        "print(\"Training MAE:\", round(training_mae, 2))\n",
        "print(\"Test MAE:\", round(test_mae, 2))"
      ],
      "metadata": {
        "colab": {
          "base_uri": "https://localhost:8080/"
        },
        "id": "m3t9agVAoXL0",
        "outputId": "a168c0b5-7ec0-4ce7-a453-bb2fa301fadf"
      },
      "execution_count": null,
      "outputs": [
        {
          "output_type": "stream",
          "name": "stdout",
          "text": [
            "Training MAE: 2.71\n",
            "Test MAE: 1.43\n"
          ]
        }
      ]
    },
    {
      "cell_type": "markdown",
      "source": [
        "# Communicating results"
      ],
      "metadata": {
        "id": "qab59eUBpW1z"
      }
    },
    {
      "cell_type": "code",
      "source": [
        "intercept = model.intercept_.round(2)\n",
        "coefficient = model.coef_.round(2)\n",
        "\n",
        "print(f\"P2 = {intercept} + ({coefficient} * P2.L1)\")"
      ],
      "metadata": {
        "colab": {
          "base_uri": "https://localhost:8080/"
        },
        "id": "XifU6KJ6og4J",
        "outputId": "43b32013-6819-43ed-b578-7cb50b165a92"
      },
      "execution_count": null,
      "outputs": [
        {
          "output_type": "stream",
          "name": "stdout",
          "text": [
            "P2 = 1.54 + ([0.87] * P2.L1)\n"
          ]
        }
      ]
    },
    {
      "cell_type": "code",
      "source": [
        "#creating dataframe to show \n",
        "df_pred_test = pd.DataFrame(\n",
        "    {\n",
        "        \"y_test\":y_test,\n",
        "        \"y_pred\":model.predict(X_test)\n",
        "    }\n",
        ")\n",
        "df_pred_test.head()"
      ],
      "metadata": {
        "colab": {
          "base_uri": "https://localhost:8080/",
          "height": 238
        },
        "id": "PKE0b7blp5WJ",
        "outputId": "e1db529d-1096-46bf-d1dd-897c71bdaa8c"
      },
      "execution_count": null,
      "outputs": [
        {
          "output_type": "execute_result",
          "data": {
            "text/plain": [
              "                           y_test    y_pred\n",
              "timestamp                                  \n",
              "2018-05-10 20:00:00+03:00   4.115  5.124833\n",
              "2018-05-10 21:00:00+03:00   4.115  5.124833\n",
              "2018-05-10 22:00:00+03:00   4.115  5.124833\n",
              "2018-05-10 23:00:00+03:00   4.115  5.124833\n",
              "2018-05-11 00:00:00+03:00   4.115  5.124833"
            ],
            "text/html": [
              "\n",
              "  <div id=\"df-391013dd-82b5-4a85-878d-b71f1d551790\">\n",
              "    <div class=\"colab-df-container\">\n",
              "      <div>\n",
              "<style scoped>\n",
              "    .dataframe tbody tr th:only-of-type {\n",
              "        vertical-align: middle;\n",
              "    }\n",
              "\n",
              "    .dataframe tbody tr th {\n",
              "        vertical-align: top;\n",
              "    }\n",
              "\n",
              "    .dataframe thead th {\n",
              "        text-align: right;\n",
              "    }\n",
              "</style>\n",
              "<table border=\"1\" class=\"dataframe\">\n",
              "  <thead>\n",
              "    <tr style=\"text-align: right;\">\n",
              "      <th></th>\n",
              "      <th>y_test</th>\n",
              "      <th>y_pred</th>\n",
              "    </tr>\n",
              "    <tr>\n",
              "      <th>timestamp</th>\n",
              "      <th></th>\n",
              "      <th></th>\n",
              "    </tr>\n",
              "  </thead>\n",
              "  <tbody>\n",
              "    <tr>\n",
              "      <th>2018-05-10 20:00:00+03:00</th>\n",
              "      <td>4.115</td>\n",
              "      <td>5.124833</td>\n",
              "    </tr>\n",
              "    <tr>\n",
              "      <th>2018-05-10 21:00:00+03:00</th>\n",
              "      <td>4.115</td>\n",
              "      <td>5.124833</td>\n",
              "    </tr>\n",
              "    <tr>\n",
              "      <th>2018-05-10 22:00:00+03:00</th>\n",
              "      <td>4.115</td>\n",
              "      <td>5.124833</td>\n",
              "    </tr>\n",
              "    <tr>\n",
              "      <th>2018-05-10 23:00:00+03:00</th>\n",
              "      <td>4.115</td>\n",
              "      <td>5.124833</td>\n",
              "    </tr>\n",
              "    <tr>\n",
              "      <th>2018-05-11 00:00:00+03:00</th>\n",
              "      <td>4.115</td>\n",
              "      <td>5.124833</td>\n",
              "    </tr>\n",
              "  </tbody>\n",
              "</table>\n",
              "</div>\n",
              "      <button class=\"colab-df-convert\" onclick=\"convertToInteractive('df-391013dd-82b5-4a85-878d-b71f1d551790')\"\n",
              "              title=\"Convert this dataframe to an interactive table.\"\n",
              "              style=\"display:none;\">\n",
              "        \n",
              "  <svg xmlns=\"http://www.w3.org/2000/svg\" height=\"24px\"viewBox=\"0 0 24 24\"\n",
              "       width=\"24px\">\n",
              "    <path d=\"M0 0h24v24H0V0z\" fill=\"none\"/>\n",
              "    <path d=\"M18.56 5.44l.94 2.06.94-2.06 2.06-.94-2.06-.94-.94-2.06-.94 2.06-2.06.94zm-11 1L8.5 8.5l.94-2.06 2.06-.94-2.06-.94L8.5 2.5l-.94 2.06-2.06.94zm10 10l.94 2.06.94-2.06 2.06-.94-2.06-.94-.94-2.06-.94 2.06-2.06.94z\"/><path d=\"M17.41 7.96l-1.37-1.37c-.4-.4-.92-.59-1.43-.59-.52 0-1.04.2-1.43.59L10.3 9.45l-7.72 7.72c-.78.78-.78 2.05 0 2.83L4 21.41c.39.39.9.59 1.41.59.51 0 1.02-.2 1.41-.59l7.78-7.78 2.81-2.81c.8-.78.8-2.07 0-2.86zM5.41 20L4 18.59l7.72-7.72 1.47 1.35L5.41 20z\"/>\n",
              "  </svg>\n",
              "      </button>\n",
              "      \n",
              "  <style>\n",
              "    .colab-df-container {\n",
              "      display:flex;\n",
              "      flex-wrap:wrap;\n",
              "      gap: 12px;\n",
              "    }\n",
              "\n",
              "    .colab-df-convert {\n",
              "      background-color: #E8F0FE;\n",
              "      border: none;\n",
              "      border-radius: 50%;\n",
              "      cursor: pointer;\n",
              "      display: none;\n",
              "      fill: #1967D2;\n",
              "      height: 32px;\n",
              "      padding: 0 0 0 0;\n",
              "      width: 32px;\n",
              "    }\n",
              "\n",
              "    .colab-df-convert:hover {\n",
              "      background-color: #E2EBFA;\n",
              "      box-shadow: 0px 1px 2px rgba(60, 64, 67, 0.3), 0px 1px 3px 1px rgba(60, 64, 67, 0.15);\n",
              "      fill: #174EA6;\n",
              "    }\n",
              "\n",
              "    [theme=dark] .colab-df-convert {\n",
              "      background-color: #3B4455;\n",
              "      fill: #D2E3FC;\n",
              "    }\n",
              "\n",
              "    [theme=dark] .colab-df-convert:hover {\n",
              "      background-color: #434B5C;\n",
              "      box-shadow: 0px 1px 3px 1px rgba(0, 0, 0, 0.15);\n",
              "      filter: drop-shadow(0px 1px 2px rgba(0, 0, 0, 0.3));\n",
              "      fill: #FFFFFF;\n",
              "    }\n",
              "  </style>\n",
              "\n",
              "      <script>\n",
              "        const buttonEl =\n",
              "          document.querySelector('#df-391013dd-82b5-4a85-878d-b71f1d551790 button.colab-df-convert');\n",
              "        buttonEl.style.display =\n",
              "          google.colab.kernel.accessAllowed ? 'block' : 'none';\n",
              "\n",
              "        async function convertToInteractive(key) {\n",
              "          const element = document.querySelector('#df-391013dd-82b5-4a85-878d-b71f1d551790');\n",
              "          const dataTable =\n",
              "            await google.colab.kernel.invokeFunction('convertToInteractive',\n",
              "                                                     [key], {});\n",
              "          if (!dataTable) return;\n",
              "\n",
              "          const docLinkHtml = 'Like what you see? Visit the ' +\n",
              "            '<a target=\"_blank\" href=https://colab.research.google.com/notebooks/data_table.ipynb>data table notebook</a>'\n",
              "            + ' to learn more about interactive tables.';\n",
              "          element.innerHTML = '';\n",
              "          dataTable['output_type'] = 'display_data';\n",
              "          await google.colab.output.renderOutput(dataTable, element);\n",
              "          const docLink = document.createElement('div');\n",
              "          docLink.innerHTML = docLinkHtml;\n",
              "          element.appendChild(docLink);\n",
              "        }\n",
              "      </script>\n",
              "    </div>\n",
              "  </div>\n",
              "  "
            ]
          },
          "metadata": {},
          "execution_count": 24
        }
      ]
    },
    {
      "cell_type": "code",
      "source": [
        "fig = px.line(df_pred_test, labels={\"values\":\"P2\"})\n",
        "fig.show();"
      ],
      "metadata": {
        "colab": {
          "base_uri": "https://localhost:8080/",
          "height": 542
        },
        "id": "ZSqvkGVqqevY",
        "outputId": "fc9d59b4-0911-4eba-ea04-4aa2dc90a222"
      },
      "execution_count": null,
      "outputs": [
        {
          "output_type": "display_data",
          "data": {
            "text/html": [
              "<html>\n",
              "<head><meta charset=\"utf-8\" /></head>\n",
              "<body>\n",
              "    <div>            <script src=\"https://cdnjs.cloudflare.com/ajax/libs/mathjax/2.7.5/MathJax.js?config=TeX-AMS-MML_SVG\"></script><script type=\"text/javascript\">if (window.MathJax) {MathJax.Hub.Config({SVG: {font: \"STIX-Web\"}});}</script>                <script type=\"text/javascript\">window.PlotlyConfig = {MathJaxConfig: 'local'};</script>\n",
              "        <script src=\"https://cdn.plot.ly/plotly-2.8.3.min.js\"></script>                <div id=\"ae60b173-46b5-4fb3-a2cb-21a892b875cb\" class=\"plotly-graph-div\" style=\"height:525px; width:100%;\"></div>            <script type=\"text/javascript\">                                    window.PLOTLYENV=window.PLOTLYENV || {};                                    if (document.getElementById(\"ae60b173-46b5-4fb3-a2cb-21a892b875cb\")) {                    Plotly.newPlot(                        \"ae60b173-46b5-4fb3-a2cb-21a892b875cb\",                        [{\"hovertemplate\":\"variable=y_test<br>timestamp=%{x}<br>value=%{y}<extra></extra>\",\"legendgroup\":\"y_test\",\"line\":{\"color\":\"#636efa\",\"dash\":\"solid\"},\"marker\":{\"symbol\":\"circle\"},\"mode\":\"lines\",\"name\":\"y_test\",\"orientation\":\"v\",\"showlegend\":true,\"x\":[\"2018-05-10T20:00:00+03:00\",\"2018-05-10T21:00:00+03:00\",\"2018-05-10T22:00:00+03:00\",\"2018-05-10T23:00:00+03:00\",\"2018-05-11T00:00:00+03:00\",\"2018-05-11T01:00:00+03:00\",\"2018-05-11T02:00:00+03:00\",\"2018-05-11T03:00:00+03:00\",\"2018-05-11T04:00:00+03:00\",\"2018-05-11T05:00:00+03:00\",\"2018-05-11T06:00:00+03:00\",\"2018-05-11T07:00:00+03:00\",\"2018-05-11T08:00:00+03:00\",\"2018-05-11T09:00:00+03:00\",\"2018-05-11T10:00:00+03:00\",\"2018-05-11T11:00:00+03:00\",\"2018-05-11T12:00:00+03:00\",\"2018-05-11T13:00:00+03:00\",\"2018-05-11T14:00:00+03:00\",\"2018-05-11T15:00:00+03:00\",\"2018-05-11T16:00:00+03:00\",\"2018-05-11T17:00:00+03:00\",\"2018-05-11T18:00:00+03:00\",\"2018-05-11T19:00:00+03:00\",\"2018-05-11T20:00:00+03:00\",\"2018-05-11T21:00:00+03:00\",\"2018-05-11T22:00:00+03:00\",\"2018-05-11T23:00:00+03:00\",\"2018-05-12T00:00:00+03:00\",\"2018-05-12T01:00:00+03:00\",\"2018-05-12T02:00:00+03:00\",\"2018-05-12T03:00:00+03:00\",\"2018-05-12T04:00:00+03:00\",\"2018-05-12T05:00:00+03:00\",\"2018-05-12T06:00:00+03:00\",\"2018-05-12T07:00:00+03:00\",\"2018-05-12T08:00:00+03:00\",\"2018-05-12T09:00:00+03:00\",\"2018-05-12T10:00:00+03:00\",\"2018-05-12T11:00:00+03:00\",\"2018-05-12T12:00:00+03:00\",\"2018-05-12T13:00:00+03:00\",\"2018-05-12T14:00:00+03:00\",\"2018-05-12T15:00:00+03:00\",\"2018-05-12T16:00:00+03:00\",\"2018-05-12T17:00:00+03:00\",\"2018-05-12T18:00:00+03:00\",\"2018-05-12T19:00:00+03:00\",\"2018-05-12T20:00:00+03:00\",\"2018-05-12T21:00:00+03:00\",\"2018-05-12T22:00:00+03:00\",\"2018-05-12T23:00:00+03:00\",\"2018-05-13T00:00:00+03:00\",\"2018-05-13T01:00:00+03:00\",\"2018-05-13T02:00:00+03:00\",\"2018-05-13T03:00:00+03:00\",\"2018-05-13T04:00:00+03:00\",\"2018-05-13T05:00:00+03:00\",\"2018-05-13T06:00:00+03:00\",\"2018-05-13T07:00:00+03:00\",\"2018-05-13T08:00:00+03:00\",\"2018-05-13T09:00:00+03:00\",\"2018-05-13T10:00:00+03:00\",\"2018-05-13T11:00:00+03:00\",\"2018-05-13T12:00:00+03:00\",\"2018-05-13T13:00:00+03:00\",\"2018-05-13T14:00:00+03:00\",\"2018-05-13T15:00:00+03:00\",\"2018-05-13T16:00:00+03:00\",\"2018-05-13T17:00:00+03:00\",\"2018-05-13T18:00:00+03:00\",\"2018-05-13T19:00:00+03:00\",\"2018-05-13T20:00:00+03:00\",\"2018-05-13T21:00:00+03:00\",\"2018-05-13T22:00:00+03:00\",\"2018-05-13T23:00:00+03:00\",\"2018-05-14T00:00:00+03:00\",\"2018-05-14T01:00:00+03:00\",\"2018-05-14T02:00:00+03:00\",\"2018-05-14T03:00:00+03:00\",\"2018-05-14T04:00:00+03:00\",\"2018-05-14T05:00:00+03:00\",\"2018-05-14T06:00:00+03:00\",\"2018-05-14T07:00:00+03:00\",\"2018-05-14T08:00:00+03:00\",\"2018-05-14T09:00:00+03:00\",\"2018-05-14T10:00:00+03:00\",\"2018-05-14T11:00:00+03:00\",\"2018-05-14T12:00:00+03:00\",\"2018-05-14T13:00:00+03:00\",\"2018-05-14T14:00:00+03:00\",\"2018-05-14T15:00:00+03:00\",\"2018-05-14T16:00:00+03:00\",\"2018-05-14T17:00:00+03:00\",\"2018-05-14T18:00:00+03:00\",\"2018-05-14T19:00:00+03:00\",\"2018-05-14T20:00:00+03:00\",\"2018-05-14T21:00:00+03:00\",\"2018-05-14T22:00:00+03:00\",\"2018-05-14T23:00:00+03:00\",\"2018-05-15T00:00:00+03:00\",\"2018-05-15T01:00:00+03:00\",\"2018-05-15T02:00:00+03:00\",\"2018-05-15T03:00:00+03:00\",\"2018-05-15T04:00:00+03:00\",\"2018-05-15T05:00:00+03:00\",\"2018-05-15T06:00:00+03:00\",\"2018-05-15T07:00:00+03:00\",\"2018-05-15T08:00:00+03:00\",\"2018-05-15T09:00:00+03:00\",\"2018-05-15T10:00:00+03:00\",\"2018-05-15T11:00:00+03:00\",\"2018-05-15T12:00:00+03:00\",\"2018-05-15T13:00:00+03:00\",\"2018-05-15T14:00:00+03:00\",\"2018-05-15T15:00:00+03:00\",\"2018-05-15T16:00:00+03:00\",\"2018-05-15T17:00:00+03:00\",\"2018-05-15T18:00:00+03:00\",\"2018-05-15T19:00:00+03:00\",\"2018-05-15T20:00:00+03:00\",\"2018-05-15T21:00:00+03:00\",\"2018-05-15T22:00:00+03:00\",\"2018-05-15T23:00:00+03:00\",\"2018-05-16T00:00:00+03:00\",\"2018-05-16T01:00:00+03:00\",\"2018-05-16T02:00:00+03:00\",\"2018-05-16T03:00:00+03:00\",\"2018-05-16T04:00:00+03:00\",\"2018-05-16T05:00:00+03:00\",\"2018-05-16T06:00:00+03:00\",\"2018-05-16T07:00:00+03:00\",\"2018-05-16T08:00:00+03:00\",\"2018-05-16T09:00:00+03:00\",\"2018-05-16T10:00:00+03:00\",\"2018-05-16T11:00:00+03:00\",\"2018-05-16T12:00:00+03:00\",\"2018-05-16T13:00:00+03:00\",\"2018-05-16T14:00:00+03:00\",\"2018-05-16T15:00:00+03:00\",\"2018-05-16T16:00:00+03:00\",\"2018-05-16T17:00:00+03:00\",\"2018-05-16T18:00:00+03:00\",\"2018-05-16T19:00:00+03:00\",\"2018-05-16T20:00:00+03:00\",\"2018-05-16T21:00:00+03:00\",\"2018-05-16T22:00:00+03:00\",\"2018-05-16T23:00:00+03:00\",\"2018-05-17T00:00:00+03:00\",\"2018-05-17T01:00:00+03:00\",\"2018-05-17T02:00:00+03:00\",\"2018-05-17T03:00:00+03:00\",\"2018-05-17T04:00:00+03:00\",\"2018-05-17T05:00:00+03:00\",\"2018-05-17T06:00:00+03:00\",\"2018-05-17T07:00:00+03:00\",\"2018-05-17T08:00:00+03:00\",\"2018-05-17T09:00:00+03:00\",\"2018-05-17T10:00:00+03:00\",\"2018-05-17T11:00:00+03:00\",\"2018-05-17T12:00:00+03:00\",\"2018-05-17T13:00:00+03:00\",\"2018-05-17T14:00:00+03:00\",\"2018-05-17T15:00:00+03:00\",\"2018-05-17T16:00:00+03:00\",\"2018-05-17T17:00:00+03:00\",\"2018-05-17T18:00:00+03:00\",\"2018-05-17T19:00:00+03:00\",\"2018-05-17T20:00:00+03:00\",\"2018-05-17T21:00:00+03:00\",\"2018-05-17T22:00:00+03:00\",\"2018-05-17T23:00:00+03:00\",\"2018-05-18T00:00:00+03:00\",\"2018-05-18T01:00:00+03:00\",\"2018-05-18T02:00:00+03:00\",\"2018-05-18T03:00:00+03:00\",\"2018-05-18T04:00:00+03:00\",\"2018-05-18T05:00:00+03:00\",\"2018-05-18T06:00:00+03:00\",\"2018-05-18T07:00:00+03:00\",\"2018-05-18T08:00:00+03:00\",\"2018-05-18T09:00:00+03:00\",\"2018-05-18T10:00:00+03:00\",\"2018-05-18T11:00:00+03:00\",\"2018-05-18T12:00:00+03:00\",\"2018-05-18T13:00:00+03:00\",\"2018-05-18T14:00:00+03:00\",\"2018-05-18T15:00:00+03:00\",\"2018-05-18T16:00:00+03:00\",\"2018-05-18T17:00:00+03:00\",\"2018-05-18T18:00:00+03:00\",\"2018-05-18T19:00:00+03:00\",\"2018-05-18T20:00:00+03:00\",\"2018-05-18T21:00:00+03:00\",\"2018-05-18T22:00:00+03:00\",\"2018-05-18T23:00:00+03:00\",\"2018-05-19T00:00:00+03:00\",\"2018-05-19T01:00:00+03:00\",\"2018-05-19T02:00:00+03:00\",\"2018-05-19T03:00:00+03:00\",\"2018-05-19T04:00:00+03:00\",\"2018-05-19T05:00:00+03:00\",\"2018-05-19T06:00:00+03:00\",\"2018-05-19T07:00:00+03:00\",\"2018-05-19T08:00:00+03:00\",\"2018-05-19T09:00:00+03:00\",\"2018-05-19T10:00:00+03:00\",\"2018-05-19T11:00:00+03:00\",\"2018-05-19T12:00:00+03:00\",\"2018-05-19T13:00:00+03:00\",\"2018-05-19T14:00:00+03:00\",\"2018-05-19T15:00:00+03:00\",\"2018-05-19T16:00:00+03:00\",\"2018-05-19T17:00:00+03:00\",\"2018-05-19T18:00:00+03:00\",\"2018-05-19T19:00:00+03:00\",\"2018-05-19T20:00:00+03:00\",\"2018-05-19T21:00:00+03:00\",\"2018-05-19T22:00:00+03:00\",\"2018-05-19T23:00:00+03:00\",\"2018-05-20T00:00:00+03:00\",\"2018-05-20T01:00:00+03:00\",\"2018-05-20T02:00:00+03:00\",\"2018-05-20T03:00:00+03:00\",\"2018-05-20T04:00:00+03:00\",\"2018-05-20T05:00:00+03:00\",\"2018-05-20T06:00:00+03:00\",\"2018-05-20T07:00:00+03:00\",\"2018-05-20T08:00:00+03:00\",\"2018-05-20T09:00:00+03:00\",\"2018-05-20T10:00:00+03:00\",\"2018-05-20T11:00:00+03:00\",\"2018-05-20T12:00:00+03:00\",\"2018-05-20T13:00:00+03:00\",\"2018-05-20T14:00:00+03:00\",\"2018-05-20T15:00:00+03:00\",\"2018-05-20T16:00:00+03:00\",\"2018-05-20T17:00:00+03:00\",\"2018-05-20T18:00:00+03:00\",\"2018-05-20T19:00:00+03:00\",\"2018-05-20T20:00:00+03:00\",\"2018-05-20T21:00:00+03:00\",\"2018-05-20T22:00:00+03:00\",\"2018-05-20T23:00:00+03:00\",\"2018-05-21T00:00:00+03:00\",\"2018-05-21T01:00:00+03:00\",\"2018-05-21T02:00:00+03:00\",\"2018-05-21T03:00:00+03:00\",\"2018-05-21T04:00:00+03:00\",\"2018-05-21T05:00:00+03:00\",\"2018-05-21T06:00:00+03:00\",\"2018-05-21T07:00:00+03:00\",\"2018-05-21T08:00:00+03:00\",\"2018-05-21T09:00:00+03:00\",\"2018-05-21T10:00:00+03:00\",\"2018-05-21T11:00:00+03:00\",\"2018-05-21T12:00:00+03:00\",\"2018-05-21T13:00:00+03:00\",\"2018-05-21T14:00:00+03:00\",\"2018-05-21T15:00:00+03:00\",\"2018-05-21T16:00:00+03:00\",\"2018-05-21T17:00:00+03:00\",\"2018-05-21T18:00:00+03:00\",\"2018-05-21T19:00:00+03:00\",\"2018-05-21T20:00:00+03:00\",\"2018-05-21T21:00:00+03:00\",\"2018-05-21T22:00:00+03:00\",\"2018-05-21T23:00:00+03:00\",\"2018-05-22T00:00:00+03:00\",\"2018-05-22T01:00:00+03:00\",\"2018-05-22T02:00:00+03:00\",\"2018-05-22T03:00:00+03:00\",\"2018-05-22T04:00:00+03:00\",\"2018-05-22T05:00:00+03:00\",\"2018-05-22T06:00:00+03:00\",\"2018-05-22T07:00:00+03:00\",\"2018-05-22T08:00:00+03:00\",\"2018-05-22T09:00:00+03:00\",\"2018-05-22T10:00:00+03:00\",\"2018-05-22T11:00:00+03:00\",\"2018-05-22T12:00:00+03:00\",\"2018-05-22T13:00:00+03:00\",\"2018-05-22T14:00:00+03:00\",\"2018-05-22T15:00:00+03:00\",\"2018-05-22T16:00:00+03:00\",\"2018-05-22T17:00:00+03:00\",\"2018-05-22T18:00:00+03:00\",\"2018-05-22T19:00:00+03:00\",\"2018-05-22T20:00:00+03:00\",\"2018-05-22T21:00:00+03:00\",\"2018-05-22T22:00:00+03:00\",\"2018-05-22T23:00:00+03:00\",\"2018-05-23T00:00:00+03:00\",\"2018-05-23T01:00:00+03:00\",\"2018-05-23T02:00:00+03:00\",\"2018-05-23T03:00:00+03:00\",\"2018-05-23T04:00:00+03:00\",\"2018-05-23T05:00:00+03:00\",\"2018-05-23T06:00:00+03:00\",\"2018-05-23T07:00:00+03:00\",\"2018-05-23T08:00:00+03:00\",\"2018-05-23T09:00:00+03:00\",\"2018-05-23T10:00:00+03:00\",\"2018-05-23T11:00:00+03:00\",\"2018-05-23T12:00:00+03:00\",\"2018-05-23T13:00:00+03:00\",\"2018-05-23T14:00:00+03:00\",\"2018-05-23T15:00:00+03:00\",\"2018-05-23T16:00:00+03:00\",\"2018-05-23T17:00:00+03:00\",\"2018-05-23T18:00:00+03:00\",\"2018-05-23T19:00:00+03:00\",\"2018-05-23T20:00:00+03:00\",\"2018-05-23T21:00:00+03:00\",\"2018-05-23T22:00:00+03:00\",\"2018-05-23T23:00:00+03:00\",\"2018-05-24T00:00:00+03:00\",\"2018-05-24T01:00:00+03:00\",\"2018-05-24T02:00:00+03:00\",\"2018-05-24T03:00:00+03:00\",\"2018-05-24T04:00:00+03:00\",\"2018-05-24T05:00:00+03:00\",\"2018-05-24T06:00:00+03:00\",\"2018-05-24T07:00:00+03:00\",\"2018-05-24T08:00:00+03:00\",\"2018-05-24T09:00:00+03:00\",\"2018-05-24T10:00:00+03:00\",\"2018-05-24T11:00:00+03:00\",\"2018-05-24T12:00:00+03:00\",\"2018-05-24T13:00:00+03:00\",\"2018-05-24T14:00:00+03:00\",\"2018-05-24T15:00:00+03:00\",\"2018-05-24T16:00:00+03:00\",\"2018-05-24T17:00:00+03:00\",\"2018-05-24T18:00:00+03:00\",\"2018-05-24T19:00:00+03:00\",\"2018-05-24T20:00:00+03:00\",\"2018-05-24T21:00:00+03:00\",\"2018-05-24T22:00:00+03:00\",\"2018-05-24T23:00:00+03:00\",\"2018-05-25T00:00:00+03:00\",\"2018-05-25T01:00:00+03:00\",\"2018-05-25T02:00:00+03:00\",\"2018-05-25T03:00:00+03:00\",\"2018-05-25T04:00:00+03:00\",\"2018-05-25T05:00:00+03:00\",\"2018-05-25T06:00:00+03:00\",\"2018-05-25T07:00:00+03:00\",\"2018-05-25T08:00:00+03:00\",\"2018-05-25T09:00:00+03:00\",\"2018-05-25T10:00:00+03:00\",\"2018-05-25T11:00:00+03:00\",\"2018-05-25T12:00:00+03:00\",\"2018-05-25T13:00:00+03:00\",\"2018-05-25T14:00:00+03:00\",\"2018-05-25T15:00:00+03:00\",\"2018-05-25T16:00:00+03:00\",\"2018-05-25T17:00:00+03:00\",\"2018-05-25T18:00:00+03:00\",\"2018-05-25T19:00:00+03:00\",\"2018-05-25T20:00:00+03:00\",\"2018-05-25T21:00:00+03:00\",\"2018-05-25T22:00:00+03:00\",\"2018-05-25T23:00:00+03:00\",\"2018-05-26T00:00:00+03:00\",\"2018-05-26T01:00:00+03:00\",\"2018-05-26T02:00:00+03:00\",\"2018-05-26T03:00:00+03:00\",\"2018-05-26T04:00:00+03:00\",\"2018-05-26T05:00:00+03:00\",\"2018-05-26T06:00:00+03:00\",\"2018-05-26T07:00:00+03:00\",\"2018-05-26T08:00:00+03:00\",\"2018-05-26T09:00:00+03:00\",\"2018-05-26T10:00:00+03:00\",\"2018-05-26T11:00:00+03:00\",\"2018-05-26T12:00:00+03:00\",\"2018-05-26T13:00:00+03:00\",\"2018-05-26T14:00:00+03:00\",\"2018-05-26T15:00:00+03:00\",\"2018-05-26T16:00:00+03:00\",\"2018-05-26T17:00:00+03:00\",\"2018-05-26T18:00:00+03:00\",\"2018-05-26T19:00:00+03:00\",\"2018-05-26T20:00:00+03:00\",\"2018-05-26T21:00:00+03:00\",\"2018-05-26T22:00:00+03:00\",\"2018-05-26T23:00:00+03:00\",\"2018-05-27T00:00:00+03:00\",\"2018-05-27T01:00:00+03:00\",\"2018-05-27T02:00:00+03:00\",\"2018-05-27T03:00:00+03:00\",\"2018-05-27T04:00:00+03:00\",\"2018-05-27T05:00:00+03:00\",\"2018-05-27T06:00:00+03:00\",\"2018-05-27T07:00:00+03:00\",\"2018-05-27T08:00:00+03:00\",\"2018-05-27T09:00:00+03:00\",\"2018-05-27T10:00:00+03:00\",\"2018-05-27T11:00:00+03:00\",\"2018-05-27T12:00:00+03:00\",\"2018-05-27T13:00:00+03:00\",\"2018-05-27T14:00:00+03:00\",\"2018-05-27T15:00:00+03:00\",\"2018-05-27T16:00:00+03:00\",\"2018-05-27T17:00:00+03:00\",\"2018-05-27T18:00:00+03:00\",\"2018-05-27T19:00:00+03:00\",\"2018-05-27T20:00:00+03:00\",\"2018-05-27T21:00:00+03:00\",\"2018-05-27T22:00:00+03:00\",\"2018-05-27T23:00:00+03:00\",\"2018-05-28T00:00:00+03:00\",\"2018-05-28T01:00:00+03:00\",\"2018-05-28T02:00:00+03:00\",\"2018-05-28T03:00:00+03:00\",\"2018-05-28T04:00:00+03:00\",\"2018-05-28T05:00:00+03:00\",\"2018-05-28T06:00:00+03:00\",\"2018-05-28T07:00:00+03:00\",\"2018-05-28T08:00:00+03:00\",\"2018-05-28T09:00:00+03:00\",\"2018-05-28T10:00:00+03:00\",\"2018-05-28T11:00:00+03:00\",\"2018-05-28T12:00:00+03:00\",\"2018-05-28T13:00:00+03:00\",\"2018-05-28T14:00:00+03:00\",\"2018-05-28T15:00:00+03:00\",\"2018-05-28T16:00:00+03:00\",\"2018-05-28T17:00:00+03:00\",\"2018-05-28T18:00:00+03:00\",\"2018-05-28T19:00:00+03:00\",\"2018-05-28T20:00:00+03:00\",\"2018-05-28T21:00:00+03:00\",\"2018-05-28T22:00:00+03:00\",\"2018-05-28T23:00:00+03:00\",\"2018-05-29T00:00:00+03:00\",\"2018-05-29T01:00:00+03:00\",\"2018-05-29T02:00:00+03:00\",\"2018-05-29T03:00:00+03:00\",\"2018-05-29T04:00:00+03:00\",\"2018-05-29T05:00:00+03:00\",\"2018-05-29T06:00:00+03:00\",\"2018-05-29T07:00:00+03:00\",\"2018-05-29T08:00:00+03:00\",\"2018-05-29T09:00:00+03:00\",\"2018-05-29T10:00:00+03:00\",\"2018-05-29T11:00:00+03:00\",\"2018-05-29T12:00:00+03:00\",\"2018-05-29T13:00:00+03:00\",\"2018-05-29T14:00:00+03:00\",\"2018-05-29T15:00:00+03:00\",\"2018-05-29T16:00:00+03:00\",\"2018-05-29T17:00:00+03:00\",\"2018-05-29T18:00:00+03:00\",\"2018-05-29T19:00:00+03:00\",\"2018-05-29T20:00:00+03:00\",\"2018-05-29T21:00:00+03:00\",\"2018-05-29T22:00:00+03:00\",\"2018-05-29T23:00:00+03:00\",\"2018-05-30T00:00:00+03:00\",\"2018-05-30T01:00:00+03:00\",\"2018-05-30T02:00:00+03:00\",\"2018-05-30T03:00:00+03:00\",\"2018-05-30T04:00:00+03:00\",\"2018-05-30T05:00:00+03:00\",\"2018-05-30T06:00:00+03:00\",\"2018-05-30T07:00:00+03:00\",\"2018-05-30T08:00:00+03:00\",\"2018-05-30T09:00:00+03:00\",\"2018-05-30T10:00:00+03:00\"],\"xaxis\":\"x\",\"y\":[4.115,4.115,4.115,4.115,4.115,4.115,4.115,4.115,4.115,4.115,4.115,4.115,4.115,4.115,5.847647058823529,5.640526315789474,10.908888888888889,8.885555555555555,4.197,6.022307692307693,6.022307692307693,16.69,24.5,24.5,24.5,24.5,24.5,24.5,24.5,24.5,24.5,24.5,24.5,24.5,24.5,24.5,24.5,24.5,24.5,24.5,24.5,24.5,24.5,24.5,24.5,24.5,24.5,24.5,24.5,24.5,24.5,24.5,24.5,24.5,24.5,24.5,24.5,24.5,24.5,24.5,24.5,24.5,24.5,24.5,24.5,24.5,24.5,24.5,24.5,24.5,24.5,24.5,24.5,24.5,24.5,24.5,24.5,24.5,24.5,24.5,24.5,24.5,24.5,24.5,16.23,3.154,3.33,3.0185714285714282,2.55,2.727,2.407142857142857,2.7678947368421056,3.316,4.905714285714285,4.905714285714285,4.905714285714285,4.905714285714285,4.905714285714285,4.905714285714285,4.905714285714285,4.905714285714285,4.905714285714285,4.905714285714285,4.905714285714285,4.905714285714285,4.905714285714285,4.905714285714285,4.905714285714285,4.27,3.85,3.98,3.9215384615384616,3.6999999999999997,2.406315789473684,2.5461538461538464,2.48,2.517058823529412,3.3844444444444446,3.3844444444444446,3.3844444444444446,3.3844444444444446,3.3844444444444446,3.3844444444444446,3.3844444444444446,3.3844444444444446,3.3844444444444446,3.3844444444444446,3.3844444444444446,3.3844444444444446,3.3844444444444446,3.3844444444444446,3.3844444444444446,3.3844444444444446,4.5,6.838571428571429,8.105,7.93625,5.117058823529412,3.48875,2.652142857142857,3.533333333333333,3.79,3.79,3.79,3.79,3.79,3.79,3.79,3.79,3.79,3.79,3.79,3.79,3.79,3.79,3.79,3.57,2.94,2.7235294117647055,2.5058333333333334,1.775263157894737,2.0217647058823527,1.8828571428571428,2.13,2.064,2.733333333333333,4.17,4.93,4.93,4.93,4.93,4.93,4.93,4.93,4.93,4.93,4.93,4.93,4.93,4.93,4.93,12.23,14.552222222222222,20.03,24.444444444444443,6.351999999999999,3.970625,3.394166666666667,4.97,4.0,4.0,4.0,4.0,4.0,4.0,4.0,4.0,4.0,4.0,4.0,4.0,4.0,4.0,4.0,4.0,4.0,4.0,4.0,4.0,4.0,4.0,4.0,4.0,4.0,4.0,4.0,4.0,4.0,4.0,4.0,4.0,4.0,4.0,4.0,4.0,4.0,4.0,4.0,4.0,4.0,4.0,4.0,4.0,4.0,4.0,4.0,4.0,4.0,4.0,4.0,4.0,4.0,4.0,4.0,4.0,4.0,4.0,4.0,4.0,4.0,4.0,4.0,4.0,4.75,4.75,4.218333333333333,8.252941176470587,5.818888888888889,5.662999999999999,8.956999999999999,15.799285714285714,10.126666666666667,6.715,6.715,6.715,6.715,6.715,6.715,6.715,6.715,6.715,6.715,6.715,6.715,6.715,6.715,6.715,6.715,6.715,6.715,6.715,6.715,6.715,6.715,6.715,6.715,6.715,6.715,6.715,6.715,6.715,6.715,6.715,6.715,6.715,6.715,6.715,6.715,6.715,6.715,6.715,6.715,6.715,6.715,6.715,6.715,6.715,6.715,6.715,6.715,6.715,6.715,6.715,6.715,6.715,6.715,6.715,6.715,6.715,6.715,6.715,6.715,6.715,6.715,6.715,6.715,6.715,6.715,6.715,6.715,6.715,6.715,6.715,6.715,6.715,6.715,6.715,6.715,6.715,6.715,6.715,6.715,6.715,6.715,6.715,6.715,6.715,6.715,6.715,6.715,6.715,6.715,6.715,6.715,11.13,9.625,4.152,5.085,5.234999999999999,5.234999999999999,5.234999999999999,5.234999999999999,5.234999999999999,5.234999999999999,5.234999999999999,5.234999999999999,5.234999999999999,5.234999999999999,5.234999999999999,5.234999999999999,5.234999999999999,5.234999999999999,5.234999999999999,5.234999999999999,5.234999999999999,5.234999999999999,13.07,16.27,9.465,7.75,7.75,7.75,7.75,7.75,7.75,7.75,7.75,7.75,7.75,7.75,7.75,7.75,7.75,7.75,7.75,7.75,7.75,8.23,8.23,8.23,8.23,8.23,8.23,8.23,4.17,4.17,4.17,4.17,4.17,4.17,4.17,4.17,4.17,4.17,4.17,4.17,4.17,4.17,4.17,4.17,11.235,8.7325,6.876363636363636,2.432857142857143,2.054,2.2072727272727275,1.9966666666666666,3.04,3.16,3.16,3.37,3.37,3.37,3.37,3.37,3.37,3.37,4.8,4.8,4.8,4.8,4.8,4.8,4.8,4.8,4.8,2.87,2.7,3.5,2.515,2.29,2.6399999999999997,3.28375,3.25,4.69,10.108333333333333,16.825499999999998,15.032222222222222,12.63,10.366666666666667,8.076666666666666,11.925,5.975,6.49,6.1,6.784000000000001,19.148,32.125,32.125,6.768421052631578,4.87],\"yaxis\":\"y\",\"type\":\"scatter\"},{\"hovertemplate\":\"variable=y_pred<br>timestamp=%{x}<br>value=%{y}<extra></extra>\",\"legendgroup\":\"y_pred\",\"line\":{\"color\":\"#EF553B\",\"dash\":\"solid\"},\"marker\":{\"symbol\":\"circle\"},\"mode\":\"lines\",\"name\":\"y_pred\",\"orientation\":\"v\",\"showlegend\":true,\"x\":[\"2018-05-10T20:00:00+03:00\",\"2018-05-10T21:00:00+03:00\",\"2018-05-10T22:00:00+03:00\",\"2018-05-10T23:00:00+03:00\",\"2018-05-11T00:00:00+03:00\",\"2018-05-11T01:00:00+03:00\",\"2018-05-11T02:00:00+03:00\",\"2018-05-11T03:00:00+03:00\",\"2018-05-11T04:00:00+03:00\",\"2018-05-11T05:00:00+03:00\",\"2018-05-11T06:00:00+03:00\",\"2018-05-11T07:00:00+03:00\",\"2018-05-11T08:00:00+03:00\",\"2018-05-11T09:00:00+03:00\",\"2018-05-11T10:00:00+03:00\",\"2018-05-11T11:00:00+03:00\",\"2018-05-11T12:00:00+03:00\",\"2018-05-11T13:00:00+03:00\",\"2018-05-11T14:00:00+03:00\",\"2018-05-11T15:00:00+03:00\",\"2018-05-11T16:00:00+03:00\",\"2018-05-11T17:00:00+03:00\",\"2018-05-11T18:00:00+03:00\",\"2018-05-11T19:00:00+03:00\",\"2018-05-11T20:00:00+03:00\",\"2018-05-11T21:00:00+03:00\",\"2018-05-11T22:00:00+03:00\",\"2018-05-11T23:00:00+03:00\",\"2018-05-12T00:00:00+03:00\",\"2018-05-12T01:00:00+03:00\",\"2018-05-12T02:00:00+03:00\",\"2018-05-12T03:00:00+03:00\",\"2018-05-12T04:00:00+03:00\",\"2018-05-12T05:00:00+03:00\",\"2018-05-12T06:00:00+03:00\",\"2018-05-12T07:00:00+03:00\",\"2018-05-12T08:00:00+03:00\",\"2018-05-12T09:00:00+03:00\",\"2018-05-12T10:00:00+03:00\",\"2018-05-12T11:00:00+03:00\",\"2018-05-12T12:00:00+03:00\",\"2018-05-12T13:00:00+03:00\",\"2018-05-12T14:00:00+03:00\",\"2018-05-12T15:00:00+03:00\",\"2018-05-12T16:00:00+03:00\",\"2018-05-12T17:00:00+03:00\",\"2018-05-12T18:00:00+03:00\",\"2018-05-12T19:00:00+03:00\",\"2018-05-12T20:00:00+03:00\",\"2018-05-12T21:00:00+03:00\",\"2018-05-12T22:00:00+03:00\",\"2018-05-12T23:00:00+03:00\",\"2018-05-13T00:00:00+03:00\",\"2018-05-13T01:00:00+03:00\",\"2018-05-13T02:00:00+03:00\",\"2018-05-13T03:00:00+03:00\",\"2018-05-13T04:00:00+03:00\",\"2018-05-13T05:00:00+03:00\",\"2018-05-13T06:00:00+03:00\",\"2018-05-13T07:00:00+03:00\",\"2018-05-13T08:00:00+03:00\",\"2018-05-13T09:00:00+03:00\",\"2018-05-13T10:00:00+03:00\",\"2018-05-13T11:00:00+03:00\",\"2018-05-13T12:00:00+03:00\",\"2018-05-13T13:00:00+03:00\",\"2018-05-13T14:00:00+03:00\",\"2018-05-13T15:00:00+03:00\",\"2018-05-13T16:00:00+03:00\",\"2018-05-13T17:00:00+03:00\",\"2018-05-13T18:00:00+03:00\",\"2018-05-13T19:00:00+03:00\",\"2018-05-13T20:00:00+03:00\",\"2018-05-13T21:00:00+03:00\",\"2018-05-13T22:00:00+03:00\",\"2018-05-13T23:00:00+03:00\",\"2018-05-14T00:00:00+03:00\",\"2018-05-14T01:00:00+03:00\",\"2018-05-14T02:00:00+03:00\",\"2018-05-14T03:00:00+03:00\",\"2018-05-14T04:00:00+03:00\",\"2018-05-14T05:00:00+03:00\",\"2018-05-14T06:00:00+03:00\",\"2018-05-14T07:00:00+03:00\",\"2018-05-14T08:00:00+03:00\",\"2018-05-14T09:00:00+03:00\",\"2018-05-14T10:00:00+03:00\",\"2018-05-14T11:00:00+03:00\",\"2018-05-14T12:00:00+03:00\",\"2018-05-14T13:00:00+03:00\",\"2018-05-14T14:00:00+03:00\",\"2018-05-14T15:00:00+03:00\",\"2018-05-14T16:00:00+03:00\",\"2018-05-14T17:00:00+03:00\",\"2018-05-14T18:00:00+03:00\",\"2018-05-14T19:00:00+03:00\",\"2018-05-14T20:00:00+03:00\",\"2018-05-14T21:00:00+03:00\",\"2018-05-14T22:00:00+03:00\",\"2018-05-14T23:00:00+03:00\",\"2018-05-15T00:00:00+03:00\",\"2018-05-15T01:00:00+03:00\",\"2018-05-15T02:00:00+03:00\",\"2018-05-15T03:00:00+03:00\",\"2018-05-15T04:00:00+03:00\",\"2018-05-15T05:00:00+03:00\",\"2018-05-15T06:00:00+03:00\",\"2018-05-15T07:00:00+03:00\",\"2018-05-15T08:00:00+03:00\",\"2018-05-15T09:00:00+03:00\",\"2018-05-15T10:00:00+03:00\",\"2018-05-15T11:00:00+03:00\",\"2018-05-15T12:00:00+03:00\",\"2018-05-15T13:00:00+03:00\",\"2018-05-15T14:00:00+03:00\",\"2018-05-15T15:00:00+03:00\",\"2018-05-15T16:00:00+03:00\",\"2018-05-15T17:00:00+03:00\",\"2018-05-15T18:00:00+03:00\",\"2018-05-15T19:00:00+03:00\",\"2018-05-15T20:00:00+03:00\",\"2018-05-15T21:00:00+03:00\",\"2018-05-15T22:00:00+03:00\",\"2018-05-15T23:00:00+03:00\",\"2018-05-16T00:00:00+03:00\",\"2018-05-16T01:00:00+03:00\",\"2018-05-16T02:00:00+03:00\",\"2018-05-16T03:00:00+03:00\",\"2018-05-16T04:00:00+03:00\",\"2018-05-16T05:00:00+03:00\",\"2018-05-16T06:00:00+03:00\",\"2018-05-16T07:00:00+03:00\",\"2018-05-16T08:00:00+03:00\",\"2018-05-16T09:00:00+03:00\",\"2018-05-16T10:00:00+03:00\",\"2018-05-16T11:00:00+03:00\",\"2018-05-16T12:00:00+03:00\",\"2018-05-16T13:00:00+03:00\",\"2018-05-16T14:00:00+03:00\",\"2018-05-16T15:00:00+03:00\",\"2018-05-16T16:00:00+03:00\",\"2018-05-16T17:00:00+03:00\",\"2018-05-16T18:00:00+03:00\",\"2018-05-16T19:00:00+03:00\",\"2018-05-16T20:00:00+03:00\",\"2018-05-16T21:00:00+03:00\",\"2018-05-16T22:00:00+03:00\",\"2018-05-16T23:00:00+03:00\",\"2018-05-17T00:00:00+03:00\",\"2018-05-17T01:00:00+03:00\",\"2018-05-17T02:00:00+03:00\",\"2018-05-17T03:00:00+03:00\",\"2018-05-17T04:00:00+03:00\",\"2018-05-17T05:00:00+03:00\",\"2018-05-17T06:00:00+03:00\",\"2018-05-17T07:00:00+03:00\",\"2018-05-17T08:00:00+03:00\",\"2018-05-17T09:00:00+03:00\",\"2018-05-17T10:00:00+03:00\",\"2018-05-17T11:00:00+03:00\",\"2018-05-17T12:00:00+03:00\",\"2018-05-17T13:00:00+03:00\",\"2018-05-17T14:00:00+03:00\",\"2018-05-17T15:00:00+03:00\",\"2018-05-17T16:00:00+03:00\",\"2018-05-17T17:00:00+03:00\",\"2018-05-17T18:00:00+03:00\",\"2018-05-17T19:00:00+03:00\",\"2018-05-17T20:00:00+03:00\",\"2018-05-17T21:00:00+03:00\",\"2018-05-17T22:00:00+03:00\",\"2018-05-17T23:00:00+03:00\",\"2018-05-18T00:00:00+03:00\",\"2018-05-18T01:00:00+03:00\",\"2018-05-18T02:00:00+03:00\",\"2018-05-18T03:00:00+03:00\",\"2018-05-18T04:00:00+03:00\",\"2018-05-18T05:00:00+03:00\",\"2018-05-18T06:00:00+03:00\",\"2018-05-18T07:00:00+03:00\",\"2018-05-18T08:00:00+03:00\",\"2018-05-18T09:00:00+03:00\",\"2018-05-18T10:00:00+03:00\",\"2018-05-18T11:00:00+03:00\",\"2018-05-18T12:00:00+03:00\",\"2018-05-18T13:00:00+03:00\",\"2018-05-18T14:00:00+03:00\",\"2018-05-18T15:00:00+03:00\",\"2018-05-18T16:00:00+03:00\",\"2018-05-18T17:00:00+03:00\",\"2018-05-18T18:00:00+03:00\",\"2018-05-18T19:00:00+03:00\",\"2018-05-18T20:00:00+03:00\",\"2018-05-18T21:00:00+03:00\",\"2018-05-18T22:00:00+03:00\",\"2018-05-18T23:00:00+03:00\",\"2018-05-19T00:00:00+03:00\",\"2018-05-19T01:00:00+03:00\",\"2018-05-19T02:00:00+03:00\",\"2018-05-19T03:00:00+03:00\",\"2018-05-19T04:00:00+03:00\",\"2018-05-19T05:00:00+03:00\",\"2018-05-19T06:00:00+03:00\",\"2018-05-19T07:00:00+03:00\",\"2018-05-19T08:00:00+03:00\",\"2018-05-19T09:00:00+03:00\",\"2018-05-19T10:00:00+03:00\",\"2018-05-19T11:00:00+03:00\",\"2018-05-19T12:00:00+03:00\",\"2018-05-19T13:00:00+03:00\",\"2018-05-19T14:00:00+03:00\",\"2018-05-19T15:00:00+03:00\",\"2018-05-19T16:00:00+03:00\",\"2018-05-19T17:00:00+03:00\",\"2018-05-19T18:00:00+03:00\",\"2018-05-19T19:00:00+03:00\",\"2018-05-19T20:00:00+03:00\",\"2018-05-19T21:00:00+03:00\",\"2018-05-19T22:00:00+03:00\",\"2018-05-19T23:00:00+03:00\",\"2018-05-20T00:00:00+03:00\",\"2018-05-20T01:00:00+03:00\",\"2018-05-20T02:00:00+03:00\",\"2018-05-20T03:00:00+03:00\",\"2018-05-20T04:00:00+03:00\",\"2018-05-20T05:00:00+03:00\",\"2018-05-20T06:00:00+03:00\",\"2018-05-20T07:00:00+03:00\",\"2018-05-20T08:00:00+03:00\",\"2018-05-20T09:00:00+03:00\",\"2018-05-20T10:00:00+03:00\",\"2018-05-20T11:00:00+03:00\",\"2018-05-20T12:00:00+03:00\",\"2018-05-20T13:00:00+03:00\",\"2018-05-20T14:00:00+03:00\",\"2018-05-20T15:00:00+03:00\",\"2018-05-20T16:00:00+03:00\",\"2018-05-20T17:00:00+03:00\",\"2018-05-20T18:00:00+03:00\",\"2018-05-20T19:00:00+03:00\",\"2018-05-20T20:00:00+03:00\",\"2018-05-20T21:00:00+03:00\",\"2018-05-20T22:00:00+03:00\",\"2018-05-20T23:00:00+03:00\",\"2018-05-21T00:00:00+03:00\",\"2018-05-21T01:00:00+03:00\",\"2018-05-21T02:00:00+03:00\",\"2018-05-21T03:00:00+03:00\",\"2018-05-21T04:00:00+03:00\",\"2018-05-21T05:00:00+03:00\",\"2018-05-21T06:00:00+03:00\",\"2018-05-21T07:00:00+03:00\",\"2018-05-21T08:00:00+03:00\",\"2018-05-21T09:00:00+03:00\",\"2018-05-21T10:00:00+03:00\",\"2018-05-21T11:00:00+03:00\",\"2018-05-21T12:00:00+03:00\",\"2018-05-21T13:00:00+03:00\",\"2018-05-21T14:00:00+03:00\",\"2018-05-21T15:00:00+03:00\",\"2018-05-21T16:00:00+03:00\",\"2018-05-21T17:00:00+03:00\",\"2018-05-21T18:00:00+03:00\",\"2018-05-21T19:00:00+03:00\",\"2018-05-21T20:00:00+03:00\",\"2018-05-21T21:00:00+03:00\",\"2018-05-21T22:00:00+03:00\",\"2018-05-21T23:00:00+03:00\",\"2018-05-22T00:00:00+03:00\",\"2018-05-22T01:00:00+03:00\",\"2018-05-22T02:00:00+03:00\",\"2018-05-22T03:00:00+03:00\",\"2018-05-22T04:00:00+03:00\",\"2018-05-22T05:00:00+03:00\",\"2018-05-22T06:00:00+03:00\",\"2018-05-22T07:00:00+03:00\",\"2018-05-22T08:00:00+03:00\",\"2018-05-22T09:00:00+03:00\",\"2018-05-22T10:00:00+03:00\",\"2018-05-22T11:00:00+03:00\",\"2018-05-22T12:00:00+03:00\",\"2018-05-22T13:00:00+03:00\",\"2018-05-22T14:00:00+03:00\",\"2018-05-22T15:00:00+03:00\",\"2018-05-22T16:00:00+03:00\",\"2018-05-22T17:00:00+03:00\",\"2018-05-22T18:00:00+03:00\",\"2018-05-22T19:00:00+03:00\",\"2018-05-22T20:00:00+03:00\",\"2018-05-22T21:00:00+03:00\",\"2018-05-22T22:00:00+03:00\",\"2018-05-22T23:00:00+03:00\",\"2018-05-23T00:00:00+03:00\",\"2018-05-23T01:00:00+03:00\",\"2018-05-23T02:00:00+03:00\",\"2018-05-23T03:00:00+03:00\",\"2018-05-23T04:00:00+03:00\",\"2018-05-23T05:00:00+03:00\",\"2018-05-23T06:00:00+03:00\",\"2018-05-23T07:00:00+03:00\",\"2018-05-23T08:00:00+03:00\",\"2018-05-23T09:00:00+03:00\",\"2018-05-23T10:00:00+03:00\",\"2018-05-23T11:00:00+03:00\",\"2018-05-23T12:00:00+03:00\",\"2018-05-23T13:00:00+03:00\",\"2018-05-23T14:00:00+03:00\",\"2018-05-23T15:00:00+03:00\",\"2018-05-23T16:00:00+03:00\",\"2018-05-23T17:00:00+03:00\",\"2018-05-23T18:00:00+03:00\",\"2018-05-23T19:00:00+03:00\",\"2018-05-23T20:00:00+03:00\",\"2018-05-23T21:00:00+03:00\",\"2018-05-23T22:00:00+03:00\",\"2018-05-23T23:00:00+03:00\",\"2018-05-24T00:00:00+03:00\",\"2018-05-24T01:00:00+03:00\",\"2018-05-24T02:00:00+03:00\",\"2018-05-24T03:00:00+03:00\",\"2018-05-24T04:00:00+03:00\",\"2018-05-24T05:00:00+03:00\",\"2018-05-24T06:00:00+03:00\",\"2018-05-24T07:00:00+03:00\",\"2018-05-24T08:00:00+03:00\",\"2018-05-24T09:00:00+03:00\",\"2018-05-24T10:00:00+03:00\",\"2018-05-24T11:00:00+03:00\",\"2018-05-24T12:00:00+03:00\",\"2018-05-24T13:00:00+03:00\",\"2018-05-24T14:00:00+03:00\",\"2018-05-24T15:00:00+03:00\",\"2018-05-24T16:00:00+03:00\",\"2018-05-24T17:00:00+03:00\",\"2018-05-24T18:00:00+03:00\",\"2018-05-24T19:00:00+03:00\",\"2018-05-24T20:00:00+03:00\",\"2018-05-24T21:00:00+03:00\",\"2018-05-24T22:00:00+03:00\",\"2018-05-24T23:00:00+03:00\",\"2018-05-25T00:00:00+03:00\",\"2018-05-25T01:00:00+03:00\",\"2018-05-25T02:00:00+03:00\",\"2018-05-25T03:00:00+03:00\",\"2018-05-25T04:00:00+03:00\",\"2018-05-25T05:00:00+03:00\",\"2018-05-25T06:00:00+03:00\",\"2018-05-25T07:00:00+03:00\",\"2018-05-25T08:00:00+03:00\",\"2018-05-25T09:00:00+03:00\",\"2018-05-25T10:00:00+03:00\",\"2018-05-25T11:00:00+03:00\",\"2018-05-25T12:00:00+03:00\",\"2018-05-25T13:00:00+03:00\",\"2018-05-25T14:00:00+03:00\",\"2018-05-25T15:00:00+03:00\",\"2018-05-25T16:00:00+03:00\",\"2018-05-25T17:00:00+03:00\",\"2018-05-25T18:00:00+03:00\",\"2018-05-25T19:00:00+03:00\",\"2018-05-25T20:00:00+03:00\",\"2018-05-25T21:00:00+03:00\",\"2018-05-25T22:00:00+03:00\",\"2018-05-25T23:00:00+03:00\",\"2018-05-26T00:00:00+03:00\",\"2018-05-26T01:00:00+03:00\",\"2018-05-26T02:00:00+03:00\",\"2018-05-26T03:00:00+03:00\",\"2018-05-26T04:00:00+03:00\",\"2018-05-26T05:00:00+03:00\",\"2018-05-26T06:00:00+03:00\",\"2018-05-26T07:00:00+03:00\",\"2018-05-26T08:00:00+03:00\",\"2018-05-26T09:00:00+03:00\",\"2018-05-26T10:00:00+03:00\",\"2018-05-26T11:00:00+03:00\",\"2018-05-26T12:00:00+03:00\",\"2018-05-26T13:00:00+03:00\",\"2018-05-26T14:00:00+03:00\",\"2018-05-26T15:00:00+03:00\",\"2018-05-26T16:00:00+03:00\",\"2018-05-26T17:00:00+03:00\",\"2018-05-26T18:00:00+03:00\",\"2018-05-26T19:00:00+03:00\",\"2018-05-26T20:00:00+03:00\",\"2018-05-26T21:00:00+03:00\",\"2018-05-26T22:00:00+03:00\",\"2018-05-26T23:00:00+03:00\",\"2018-05-27T00:00:00+03:00\",\"2018-05-27T01:00:00+03:00\",\"2018-05-27T02:00:00+03:00\",\"2018-05-27T03:00:00+03:00\",\"2018-05-27T04:00:00+03:00\",\"2018-05-27T05:00:00+03:00\",\"2018-05-27T06:00:00+03:00\",\"2018-05-27T07:00:00+03:00\",\"2018-05-27T08:00:00+03:00\",\"2018-05-27T09:00:00+03:00\",\"2018-05-27T10:00:00+03:00\",\"2018-05-27T11:00:00+03:00\",\"2018-05-27T12:00:00+03:00\",\"2018-05-27T13:00:00+03:00\",\"2018-05-27T14:00:00+03:00\",\"2018-05-27T15:00:00+03:00\",\"2018-05-27T16:00:00+03:00\",\"2018-05-27T17:00:00+03:00\",\"2018-05-27T18:00:00+03:00\",\"2018-05-27T19:00:00+03:00\",\"2018-05-27T20:00:00+03:00\",\"2018-05-27T21:00:00+03:00\",\"2018-05-27T22:00:00+03:00\",\"2018-05-27T23:00:00+03:00\",\"2018-05-28T00:00:00+03:00\",\"2018-05-28T01:00:00+03:00\",\"2018-05-28T02:00:00+03:00\",\"2018-05-28T03:00:00+03:00\",\"2018-05-28T04:00:00+03:00\",\"2018-05-28T05:00:00+03:00\",\"2018-05-28T06:00:00+03:00\",\"2018-05-28T07:00:00+03:00\",\"2018-05-28T08:00:00+03:00\",\"2018-05-28T09:00:00+03:00\",\"2018-05-28T10:00:00+03:00\",\"2018-05-28T11:00:00+03:00\",\"2018-05-28T12:00:00+03:00\",\"2018-05-28T13:00:00+03:00\",\"2018-05-28T14:00:00+03:00\",\"2018-05-28T15:00:00+03:00\",\"2018-05-28T16:00:00+03:00\",\"2018-05-28T17:00:00+03:00\",\"2018-05-28T18:00:00+03:00\",\"2018-05-28T19:00:00+03:00\",\"2018-05-28T20:00:00+03:00\",\"2018-05-28T21:00:00+03:00\",\"2018-05-28T22:00:00+03:00\",\"2018-05-28T23:00:00+03:00\",\"2018-05-29T00:00:00+03:00\",\"2018-05-29T01:00:00+03:00\",\"2018-05-29T02:00:00+03:00\",\"2018-05-29T03:00:00+03:00\",\"2018-05-29T04:00:00+03:00\",\"2018-05-29T05:00:00+03:00\",\"2018-05-29T06:00:00+03:00\",\"2018-05-29T07:00:00+03:00\",\"2018-05-29T08:00:00+03:00\",\"2018-05-29T09:00:00+03:00\",\"2018-05-29T10:00:00+03:00\",\"2018-05-29T11:00:00+03:00\",\"2018-05-29T12:00:00+03:00\",\"2018-05-29T13:00:00+03:00\",\"2018-05-29T14:00:00+03:00\",\"2018-05-29T15:00:00+03:00\",\"2018-05-29T16:00:00+03:00\",\"2018-05-29T17:00:00+03:00\",\"2018-05-29T18:00:00+03:00\",\"2018-05-29T19:00:00+03:00\",\"2018-05-29T20:00:00+03:00\",\"2018-05-29T21:00:00+03:00\",\"2018-05-29T22:00:00+03:00\",\"2018-05-29T23:00:00+03:00\",\"2018-05-30T00:00:00+03:00\",\"2018-05-30T01:00:00+03:00\",\"2018-05-30T02:00:00+03:00\",\"2018-05-30T03:00:00+03:00\",\"2018-05-30T04:00:00+03:00\",\"2018-05-30T05:00:00+03:00\",\"2018-05-30T06:00:00+03:00\",\"2018-05-30T07:00:00+03:00\",\"2018-05-30T08:00:00+03:00\",\"2018-05-30T09:00:00+03:00\",\"2018-05-30T10:00:00+03:00\"],\"xaxis\":\"x\",\"y\":[5.124833460764455,5.124833460764455,5.124833460764455,5.124833460764455,5.124833460764455,5.124833460764455,5.124833460764455,5.124833460764455,5.124833460764455,5.124833460764455,5.124833460764455,5.124833460764455,5.124833460764455,5.124833460764455,5.124833460764455,6.633905434127905,6.453510871471194,11.042061242473798,9.279812196682201,5.196252450099666,6.786028433153352,6.786028433153352,16.07719676430448,22.87942001684107,22.87942001684107,22.87942001684107,22.87942001684107,22.87942001684107,22.87942001684107,22.87942001684107,22.87942001684107,22.87942001684107,22.87942001684107,22.87942001684107,22.87942001684107,22.87942001684107,22.87942001684107,22.87942001684107,22.87942001684107,22.87942001684107,22.87942001684107,22.87942001684107,22.87942001684107,22.87942001684107,22.87942001684107,22.87942001684107,22.87942001684107,22.87942001684107,22.87942001684107,22.87942001684107,22.87942001684107,22.87942001684107,22.87942001684107,22.87942001684107,22.87942001684107,22.87942001684107,22.87942001684107,22.87942001684107,22.87942001684107,22.87942001684107,22.87942001684107,22.87942001684107,22.87942001684107,22.87942001684107,22.87942001684107,22.87942001684107,22.87942001684107,22.87942001684107,22.87942001684107,22.87942001684107,22.87942001684107,22.87942001684107,22.87942001684107,22.87942001684107,22.87942001684107,22.87942001684107,22.87942001684107,22.87942001684107,22.87942001684107,22.87942001684107,22.87942001684107,22.87942001684107,22.87942001684107,22.87942001684107,22.87942001684107,15.676553653399639,4.287837744287161,4.441127282372493,4.169884430890331,3.7617759204034096,3.915936421773317,3.6373525940354456,3.9515542360951783,4.428933796388432,5.813516572211134,5.813516572211134,5.813516572211134,5.813516572211134,5.813516572211134,5.813516572211134,5.813516572211134,5.813516572211134,5.813516572211134,5.813516572211134,5.813516572211134,5.813516572211134,5.813516572211134,5.813516572211134,5.813516572211134,5.259832769873695,4.894028190351882,5.007253417346729,4.956335563786916,4.763383697665519,3.6366322484617366,3.7584260616165803,3.7008084904831073,3.7330853651467972,4.488546394532728,4.488546394532728,4.488546394532728,4.488546394532728,4.488546394532728,4.488546394532728,4.488546394532728,4.488546394532728,4.488546394532728,4.488546394532728,4.488546394532728,4.488546394532728,4.488546394532728,4.488546394532728,4.488546394532728,4.488546394532728,5.460154325326117,7.496964177969688,8.59997696622169,8.453001911949531,5.997589905043741,4.579392703798893,3.850738598756504,4.618223150236228,4.841770393277336,4.841770393277336,4.841770393277336,4.841770393277336,4.841770393277336,4.841770393277336,4.841770393277336,4.841770393277336,4.841770393277336,4.841770393277336,4.841770393277336,4.841770393277336,4.841770393277336,4.841770393277336,4.841770393277336,4.6501584706706725,4.101451601387952,3.9129136668444953,3.7233083753346476,3.0870085757215677,3.3017023736098676,3.180718986265018,3.3959713408815957,3.3384877640995967,3.92145252257563,5.172736441416121,5.834668537693689,5.834668537693689,5.834668537693689,5.834668537693689,5.834668537693689,5.834668537693689,5.834668537693689,5.834668537693689,5.834668537693689,5.834668537693689,5.834668537693689,5.834668537693689,5.834668537693689,5.834668537693689,12.192700515096648,14.215270809278104,18.98621413478748,22.831033167697974,7.073178328360402,4.999088136553832,4.497014093132771,5.869507069076719,5.0246726830382435,5.0246726830382435,5.0246726830382435,5.0246726830382435,5.0246726830382435,5.0246726830382435,5.0246726830382435,5.0246726830382435,5.0246726830382435,5.0246726830382435,5.0246726830382435,5.0246726830382435,5.0246726830382435,5.0246726830382435,5.0246726830382435,5.0246726830382435,5.0246726830382435,5.0246726830382435,5.0246726830382435,5.0246726830382435,5.0246726830382435,5.0246726830382435,5.0246726830382435,5.0246726830382435,5.0246726830382435,5.0246726830382435,5.0246726830382435,5.0246726830382435,5.0246726830382435,5.0246726830382435,5.0246726830382435,5.0246726830382435,5.0246726830382435,5.0246726830382435,5.0246726830382435,5.0246726830382435,5.0246726830382435,5.0246726830382435,5.0246726830382435,5.0246726830382435,5.0246726830382435,5.0246726830382435,5.0246726830382435,5.0246726830382435,5.0246726830382435,5.0246726830382435,5.0246726830382435,5.0246726830382435,5.0246726830382435,5.0246726830382435,5.0246726830382435,5.0246726830382435,5.0246726830382435,5.0246726830382435,5.0246726830382435,5.0246726830382435,5.0246726830382435,5.0246726830382435,5.0246726830382435,5.0246726830382435,5.0246726830382435,5.0246726830382435,5.0246726830382435,5.0246726830382435,5.677895146470055,5.677895146470055,5.214833000170615,8.728828299204512,6.608858123983243,6.4730846252877114,9.342037684680225,15.301417324400227,10.360774406538992,7.3893380006613985,7.3893380006613985,7.3893380006613985,7.3893380006613985,7.3893380006613985,7.3893380006613985,7.3893380006613985,7.3893380006613985,7.3893380006613985,7.3893380006613985,7.3893380006613985,7.3893380006613985,7.3893380006613985,7.3893380006613985,7.3893380006613985,7.3893380006613985,7.3893380006613985,7.3893380006613985,7.3893380006613985,7.3893380006613985,7.3893380006613985,7.3893380006613985,7.3893380006613985,7.3893380006613985,7.3893380006613985,7.3893380006613985,7.3893380006613985,7.3893380006613985,7.3893380006613985,7.3893380006613985,7.3893380006613985,7.3893380006613985,7.3893380006613985,7.3893380006613985,7.3893380006613985,7.3893380006613985,7.3893380006613985,7.3893380006613985,7.3893380006613985,7.3893380006613985,7.3893380006613985,7.3893380006613985,7.3893380006613985,7.3893380006613985,7.3893380006613985,7.3893380006613985,7.3893380006613985,7.3893380006613985,7.3893380006613985,7.3893380006613985,7.3893380006613985,7.3893380006613985,7.3893380006613985,7.3893380006613985,7.3893380006613985,7.3893380006613985,7.3893380006613985,7.3893380006613985,7.3893380006613985,7.3893380006613985,7.3893380006613985,7.3893380006613985,7.3893380006613985,7.3893380006613985,7.3893380006613985,7.3893380006613985,7.3893380006613985,7.3893380006613985,7.3893380006613985,7.3893380006613985,7.3893380006613985,7.3893380006613985,7.3893380006613985,7.3893380006613985,7.3893380006613985,7.3893380006613985,7.3893380006613985,7.3893380006613985,7.3893380006613985,7.3893380006613985,7.3893380006613985,7.3893380006613985,7.3893380006613985,7.3893380006613985,7.3893380006613985,7.3893380006613985,7.3893380006613985,7.3893380006613985,7.3893380006613985,7.3893380006613985,7.3893380006613985,7.3893380006613985,11.234640902063326,9.923841158776824,5.157059102293758,5.96966784680293,6.1003123394892915,6.1003123394892915,6.1003123394892915,6.1003123394892915,6.1003123394892915,6.1003123394892915,6.1003123394892915,6.1003123394892915,6.1003123394892915,6.1003123394892915,6.1003123394892915,6.1003123394892915,6.1003123394892915,6.1003123394892915,6.1003123394892915,6.1003123394892915,6.1003123394892915,6.1003123394892915,12.924309674140275,15.711392184782667,9.784487033244705,8.290785000197298,8.290785000197298,8.290785000197298,8.290785000197298,8.290785000197298,8.290785000197298,8.290785000197298,8.290785000197298,8.290785000197298,8.290785000197298,8.290785000197298,8.290785000197298,8.290785000197298,8.290785000197298,8.290785000197298,8.290785000197298,8.290785000197298,8.290785000197298,8.708847376793656,8.708847376793656,8.708847376793656,8.708847376793656,8.708847376793656,8.708847376793656,8.708847376793656,5.172736441416121,5.172736441416121,5.172736441416121,5.172736441416121,5.172736441416121,5.172736441416121,5.172736441416121,5.172736441416121,5.172736441416121,5.172736441416121,5.172736441416121,5.172736441416121,5.172736441416121,5.172736441416121,5.172736441416121,5.172736441416121,11.326092046943778,9.14650642729297,7.529879803399758,3.6597487927816794,3.329778131253839,3.4632730492351764,3.279842902938163,4.188547929845527,4.293063523994617,4.293063523994617,4.475965813755523,4.475965813755523,4.475965813755523,4.475965813755523,4.475965813755523,4.475965813755523,4.475965813755523,5.721443310698842,5.721443310698842,5.721443310698842,5.721443310698842,5.721443310698842,5.721443310698842,5.721443310698842,5.721443310698842,5.721443310698842,4.040484171467649,3.892420413089772,4.58919104075037,3.7312922054432587,3.5353254664137155,3.8401626160152267,4.400845230460865,4.371450219606434,5.62563734939551,10.344806746321769,16.195212289364495,14.633333185874465,12.541085828926947,10.569805594837172,8.575299673158709,11.927056713301045,6.744825170075345,7.193371261631856,6.853695580647313,7.449434467297126,18.21802451779167,29.520515061731146,29.520515061731146,7.435865776126892],\"yaxis\":\"y\",\"type\":\"scatter\"}],                        {\"template\":{\"data\":{\"bar\":[{\"error_x\":{\"color\":\"#2a3f5f\"},\"error_y\":{\"color\":\"#2a3f5f\"},\"marker\":{\"line\":{\"color\":\"#E5ECF6\",\"width\":0.5},\"pattern\":{\"fillmode\":\"overlay\",\"size\":10,\"solidity\":0.2}},\"type\":\"bar\"}],\"barpolar\":[{\"marker\":{\"line\":{\"color\":\"#E5ECF6\",\"width\":0.5},\"pattern\":{\"fillmode\":\"overlay\",\"size\":10,\"solidity\":0.2}},\"type\":\"barpolar\"}],\"carpet\":[{\"aaxis\":{\"endlinecolor\":\"#2a3f5f\",\"gridcolor\":\"white\",\"linecolor\":\"white\",\"minorgridcolor\":\"white\",\"startlinecolor\":\"#2a3f5f\"},\"baxis\":{\"endlinecolor\":\"#2a3f5f\",\"gridcolor\":\"white\",\"linecolor\":\"white\",\"minorgridcolor\":\"white\",\"startlinecolor\":\"#2a3f5f\"},\"type\":\"carpet\"}],\"choropleth\":[{\"colorbar\":{\"outlinewidth\":0,\"ticks\":\"\"},\"type\":\"choropleth\"}],\"contour\":[{\"colorbar\":{\"outlinewidth\":0,\"ticks\":\"\"},\"colorscale\":[[0.0,\"#0d0887\"],[0.1111111111111111,\"#46039f\"],[0.2222222222222222,\"#7201a8\"],[0.3333333333333333,\"#9c179e\"],[0.4444444444444444,\"#bd3786\"],[0.5555555555555556,\"#d8576b\"],[0.6666666666666666,\"#ed7953\"],[0.7777777777777778,\"#fb9f3a\"],[0.8888888888888888,\"#fdca26\"],[1.0,\"#f0f921\"]],\"type\":\"contour\"}],\"contourcarpet\":[{\"colorbar\":{\"outlinewidth\":0,\"ticks\":\"\"},\"type\":\"contourcarpet\"}],\"heatmap\":[{\"colorbar\":{\"outlinewidth\":0,\"ticks\":\"\"},\"colorscale\":[[0.0,\"#0d0887\"],[0.1111111111111111,\"#46039f\"],[0.2222222222222222,\"#7201a8\"],[0.3333333333333333,\"#9c179e\"],[0.4444444444444444,\"#bd3786\"],[0.5555555555555556,\"#d8576b\"],[0.6666666666666666,\"#ed7953\"],[0.7777777777777778,\"#fb9f3a\"],[0.8888888888888888,\"#fdca26\"],[1.0,\"#f0f921\"]],\"type\":\"heatmap\"}],\"heatmapgl\":[{\"colorbar\":{\"outlinewidth\":0,\"ticks\":\"\"},\"colorscale\":[[0.0,\"#0d0887\"],[0.1111111111111111,\"#46039f\"],[0.2222222222222222,\"#7201a8\"],[0.3333333333333333,\"#9c179e\"],[0.4444444444444444,\"#bd3786\"],[0.5555555555555556,\"#d8576b\"],[0.6666666666666666,\"#ed7953\"],[0.7777777777777778,\"#fb9f3a\"],[0.8888888888888888,\"#fdca26\"],[1.0,\"#f0f921\"]],\"type\":\"heatmapgl\"}],\"histogram\":[{\"marker\":{\"pattern\":{\"fillmode\":\"overlay\",\"size\":10,\"solidity\":0.2}},\"type\":\"histogram\"}],\"histogram2d\":[{\"colorbar\":{\"outlinewidth\":0,\"ticks\":\"\"},\"colorscale\":[[0.0,\"#0d0887\"],[0.1111111111111111,\"#46039f\"],[0.2222222222222222,\"#7201a8\"],[0.3333333333333333,\"#9c179e\"],[0.4444444444444444,\"#bd3786\"],[0.5555555555555556,\"#d8576b\"],[0.6666666666666666,\"#ed7953\"],[0.7777777777777778,\"#fb9f3a\"],[0.8888888888888888,\"#fdca26\"],[1.0,\"#f0f921\"]],\"type\":\"histogram2d\"}],\"histogram2dcontour\":[{\"colorbar\":{\"outlinewidth\":0,\"ticks\":\"\"},\"colorscale\":[[0.0,\"#0d0887\"],[0.1111111111111111,\"#46039f\"],[0.2222222222222222,\"#7201a8\"],[0.3333333333333333,\"#9c179e\"],[0.4444444444444444,\"#bd3786\"],[0.5555555555555556,\"#d8576b\"],[0.6666666666666666,\"#ed7953\"],[0.7777777777777778,\"#fb9f3a\"],[0.8888888888888888,\"#fdca26\"],[1.0,\"#f0f921\"]],\"type\":\"histogram2dcontour\"}],\"mesh3d\":[{\"colorbar\":{\"outlinewidth\":0,\"ticks\":\"\"},\"type\":\"mesh3d\"}],\"parcoords\":[{\"line\":{\"colorbar\":{\"outlinewidth\":0,\"ticks\":\"\"}},\"type\":\"parcoords\"}],\"pie\":[{\"automargin\":true,\"type\":\"pie\"}],\"scatter\":[{\"marker\":{\"colorbar\":{\"outlinewidth\":0,\"ticks\":\"\"}},\"type\":\"scatter\"}],\"scatter3d\":[{\"line\":{\"colorbar\":{\"outlinewidth\":0,\"ticks\":\"\"}},\"marker\":{\"colorbar\":{\"outlinewidth\":0,\"ticks\":\"\"}},\"type\":\"scatter3d\"}],\"scattercarpet\":[{\"marker\":{\"colorbar\":{\"outlinewidth\":0,\"ticks\":\"\"}},\"type\":\"scattercarpet\"}],\"scattergeo\":[{\"marker\":{\"colorbar\":{\"outlinewidth\":0,\"ticks\":\"\"}},\"type\":\"scattergeo\"}],\"scattergl\":[{\"marker\":{\"colorbar\":{\"outlinewidth\":0,\"ticks\":\"\"}},\"type\":\"scattergl\"}],\"scattermapbox\":[{\"marker\":{\"colorbar\":{\"outlinewidth\":0,\"ticks\":\"\"}},\"type\":\"scattermapbox\"}],\"scatterpolar\":[{\"marker\":{\"colorbar\":{\"outlinewidth\":0,\"ticks\":\"\"}},\"type\":\"scatterpolar\"}],\"scatterpolargl\":[{\"marker\":{\"colorbar\":{\"outlinewidth\":0,\"ticks\":\"\"}},\"type\":\"scatterpolargl\"}],\"scatterternary\":[{\"marker\":{\"colorbar\":{\"outlinewidth\":0,\"ticks\":\"\"}},\"type\":\"scatterternary\"}],\"surface\":[{\"colorbar\":{\"outlinewidth\":0,\"ticks\":\"\"},\"colorscale\":[[0.0,\"#0d0887\"],[0.1111111111111111,\"#46039f\"],[0.2222222222222222,\"#7201a8\"],[0.3333333333333333,\"#9c179e\"],[0.4444444444444444,\"#bd3786\"],[0.5555555555555556,\"#d8576b\"],[0.6666666666666666,\"#ed7953\"],[0.7777777777777778,\"#fb9f3a\"],[0.8888888888888888,\"#fdca26\"],[1.0,\"#f0f921\"]],\"type\":\"surface\"}],\"table\":[{\"cells\":{\"fill\":{\"color\":\"#EBF0F8\"},\"line\":{\"color\":\"white\"}},\"header\":{\"fill\":{\"color\":\"#C8D4E3\"},\"line\":{\"color\":\"white\"}},\"type\":\"table\"}]},\"layout\":{\"annotationdefaults\":{\"arrowcolor\":\"#2a3f5f\",\"arrowhead\":0,\"arrowwidth\":1},\"autotypenumbers\":\"strict\",\"coloraxis\":{\"colorbar\":{\"outlinewidth\":0,\"ticks\":\"\"}},\"colorscale\":{\"diverging\":[[0,\"#8e0152\"],[0.1,\"#c51b7d\"],[0.2,\"#de77ae\"],[0.3,\"#f1b6da\"],[0.4,\"#fde0ef\"],[0.5,\"#f7f7f7\"],[0.6,\"#e6f5d0\"],[0.7,\"#b8e186\"],[0.8,\"#7fbc41\"],[0.9,\"#4d9221\"],[1,\"#276419\"]],\"sequential\":[[0.0,\"#0d0887\"],[0.1111111111111111,\"#46039f\"],[0.2222222222222222,\"#7201a8\"],[0.3333333333333333,\"#9c179e\"],[0.4444444444444444,\"#bd3786\"],[0.5555555555555556,\"#d8576b\"],[0.6666666666666666,\"#ed7953\"],[0.7777777777777778,\"#fb9f3a\"],[0.8888888888888888,\"#fdca26\"],[1.0,\"#f0f921\"]],\"sequentialminus\":[[0.0,\"#0d0887\"],[0.1111111111111111,\"#46039f\"],[0.2222222222222222,\"#7201a8\"],[0.3333333333333333,\"#9c179e\"],[0.4444444444444444,\"#bd3786\"],[0.5555555555555556,\"#d8576b\"],[0.6666666666666666,\"#ed7953\"],[0.7777777777777778,\"#fb9f3a\"],[0.8888888888888888,\"#fdca26\"],[1.0,\"#f0f921\"]]},\"colorway\":[\"#636efa\",\"#EF553B\",\"#00cc96\",\"#ab63fa\",\"#FFA15A\",\"#19d3f3\",\"#FF6692\",\"#B6E880\",\"#FF97FF\",\"#FECB52\"],\"font\":{\"color\":\"#2a3f5f\"},\"geo\":{\"bgcolor\":\"white\",\"lakecolor\":\"white\",\"landcolor\":\"#E5ECF6\",\"showlakes\":true,\"showland\":true,\"subunitcolor\":\"white\"},\"hoverlabel\":{\"align\":\"left\"},\"hovermode\":\"closest\",\"mapbox\":{\"style\":\"light\"},\"paper_bgcolor\":\"white\",\"plot_bgcolor\":\"#E5ECF6\",\"polar\":{\"angularaxis\":{\"gridcolor\":\"white\",\"linecolor\":\"white\",\"ticks\":\"\"},\"bgcolor\":\"#E5ECF6\",\"radialaxis\":{\"gridcolor\":\"white\",\"linecolor\":\"white\",\"ticks\":\"\"}},\"scene\":{\"xaxis\":{\"backgroundcolor\":\"#E5ECF6\",\"gridcolor\":\"white\",\"gridwidth\":2,\"linecolor\":\"white\",\"showbackground\":true,\"ticks\":\"\",\"zerolinecolor\":\"white\"},\"yaxis\":{\"backgroundcolor\":\"#E5ECF6\",\"gridcolor\":\"white\",\"gridwidth\":2,\"linecolor\":\"white\",\"showbackground\":true,\"ticks\":\"\",\"zerolinecolor\":\"white\"},\"zaxis\":{\"backgroundcolor\":\"#E5ECF6\",\"gridcolor\":\"white\",\"gridwidth\":2,\"linecolor\":\"white\",\"showbackground\":true,\"ticks\":\"\",\"zerolinecolor\":\"white\"}},\"shapedefaults\":{\"line\":{\"color\":\"#2a3f5f\"}},\"ternary\":{\"aaxis\":{\"gridcolor\":\"white\",\"linecolor\":\"white\",\"ticks\":\"\"},\"baxis\":{\"gridcolor\":\"white\",\"linecolor\":\"white\",\"ticks\":\"\"},\"bgcolor\":\"#E5ECF6\",\"caxis\":{\"gridcolor\":\"white\",\"linecolor\":\"white\",\"ticks\":\"\"}},\"title\":{\"x\":0.05},\"xaxis\":{\"automargin\":true,\"gridcolor\":\"white\",\"linecolor\":\"white\",\"ticks\":\"\",\"title\":{\"standoff\":15},\"zerolinecolor\":\"white\",\"zerolinewidth\":2},\"yaxis\":{\"automargin\":true,\"gridcolor\":\"white\",\"linecolor\":\"white\",\"ticks\":\"\",\"title\":{\"standoff\":15},\"zerolinecolor\":\"white\",\"zerolinewidth\":2}}},\"xaxis\":{\"anchor\":\"y\",\"domain\":[0.0,1.0],\"title\":{\"text\":\"timestamp\"}},\"yaxis\":{\"anchor\":\"x\",\"domain\":[0.0,1.0],\"title\":{\"text\":\"value\"}},\"legend\":{\"title\":{\"text\":\"variable\"},\"tracegroupgap\":0},\"margin\":{\"t\":60}},                        {\"responsive\": true}                    ).then(function(){\n",
              "                            \n",
              "var gd = document.getElementById('ae60b173-46b5-4fb3-a2cb-21a892b875cb');\n",
              "var x = new MutationObserver(function (mutations, observer) {{\n",
              "        var display = window.getComputedStyle(gd).display;\n",
              "        if (!display || display === 'none') {{\n",
              "            console.log([gd, 'removed!']);\n",
              "            Plotly.purge(gd);\n",
              "            observer.disconnect();\n",
              "        }}\n",
              "}});\n",
              "\n",
              "// Listen for the removal of the full notebook cells\n",
              "var notebookContainer = gd.closest('#notebook-container');\n",
              "if (notebookContainer) {{\n",
              "    x.observe(notebookContainer, {childList: true});\n",
              "}}\n",
              "\n",
              "// Listen for the clearing of the current output cell\n",
              "var outputEl = gd.closest('.output');\n",
              "if (outputEl) {{\n",
              "    x.observe(outputEl, {childList: true});\n",
              "}}\n",
              "\n",
              "                        })                };                            </script>        </div>\n",
              "</body>\n",
              "</html>"
            ]
          },
          "metadata": {}
        }
      ]
    },
    {
      "cell_type": "markdown",
      "source": [
        "## Auto_Regression Modelling"
      ],
      "metadata": {
        "id": "aercY7nutY4a"
      }
    },
    {
      "cell_type": "code",
      "source": [
        "fig, ax = plt.subplots(figsize=(15, 6))\n",
        "plot_acf(data_f[\"value\"], ax=ax)\n",
        "plt.xlabel(\"Lag [hours]\")\n",
        "plt.ylabel(\"Correlation Coefficient\");"
      ],
      "metadata": {
        "id": "w_w65AAxqnAl",
        "colab": {
          "base_uri": "https://localhost:8080/",
          "height": 404
        },
        "outputId": "4cb31c45-993e-41d9-c3b0-27bad895b3ac"
      },
      "execution_count": null,
      "outputs": [
        {
          "output_type": "display_data",
          "data": {
            "text/plain": [
              "<Figure size 1080x432 with 1 Axes>"
            ],
            "image/png": "[encoded data removed]"
          },
          "metadata": {
            "needs_background": "light"
          }
        }
      ]
    },
    {
      "cell_type": "code",
      "source": [
        "fig, ax = plt.subplots(figsize=(15, 6))\n",
        "plot_pacf(data_f[\"value\"], ax=ax)\n",
        "plt.xlabel(\"Lag [hours]\")\n",
        "plt.ylabel(\"Correlation Coefficient\");"
      ],
      "metadata": {
        "colab": {
          "base_uri": "https://localhost:8080/",
          "height": 404
        },
        "id": "dREeUiM6vHCN",
        "outputId": "6e60fdb9-5290-43ae-eb9e-bb66f0364bae"
      },
      "execution_count": null,
      "outputs": [
        {
          "output_type": "display_data",
          "data": {
            "text/plain": [
              "<Figure size 1080x432 with 1 Axes>"
            ],
            "image/png": "[encoded data removed]"
          },
          "metadata": {
            "needs_background": "light"
          }
        }
      ]
    },
    {
      "cell_type": "code",
      "source": [
        "#split the data\n",
        "cutoff_test = int(len(data_f[\"value\"])*0.95)\n",
        "\n",
        "y_train = data_f[\"value\"].iloc[:cutoff_test]\n",
        "y_test = data_f[\"value\"].iloc[cutoff_test:]\n",
        "# the x value\n"
      ],
      "metadata": {
        "id": "s_clhSnhvVaQ"
      },
      "execution_count": null,
      "outputs": []
    },
    {
      "cell_type": "code",
      "source": [
        "len(y_train)+len(y_test)==len(data_f[\"value\"])"
      ],
      "metadata": {
        "colab": {
          "base_uri": "https://localhost:8080/"
        },
        "id": "SMm6B5ITx6oY",
        "outputId": "d0cf2d8d-e643-4c7f-a2f0-6db1cfdadf3b"
      },
      "execution_count": null,
      "outputs": [
        {
          "output_type": "execute_result",
          "data": {
            "text/plain": [
              "True"
            ]
          },
          "metadata": {},
          "execution_count": 30
        }
      ]
    },
    {
      "cell_type": "markdown",
      "source": [
        "build model"
      ],
      "metadata": {
        "id": "482Q9lCkzLvk"
      }
    },
    {
      "cell_type": "code",
      "source": [
        "y_train_mean = y_train.mean()\n",
        "y_pred_baseline = [y_train_mean] * len(y_train)\n",
        "mae_baseline = mean_absolute_error(y_train, y_pred_baseline)\n",
        "\n",
        "print(\"Mean P2 Reading:\", round(y_train_mean, 2))\n",
        "print(\"Baseline MAE:\", round(mae_baseline, 2))\n"
      ],
      "metadata": {
        "colab": {
          "base_uri": "https://localhost:8080/"
        },
        "id": "NKbWGo7ey-Ga",
        "outputId": "391e236e-87e3-4973-9b91-5f483ea6d4eb"
      },
      "execution_count": null,
      "outputs": [
        {
          "output_type": "stream",
          "name": "stdout",
          "text": [
            "Mean P2 Reading: 11.45\n",
            "Baseline MAE: 7.97\n"
          ]
        }
      ]
    },
    {
      "cell_type": "code",
      "source": [
        "#fit the model\n",
        "model = AutoReg(y_train, lags=26).fit()"
      ],
      "metadata": {
        "id": "UyxgvMt_zXxY"
      },
      "execution_count": null,
      "outputs": []
    },
    {
      "cell_type": "code",
      "source": [
        "model.predict().isnull().sum()"
      ],
      "metadata": {
        "colab": {
          "base_uri": "https://localhost:8080/"
        },
        "id": "RpWA6xhSA0HW",
        "outputId": "4e0ad839-30d9-466e-f2f6-c549af437221"
      },
      "execution_count": null,
      "outputs": [
        {
          "output_type": "execute_result",
          "data": {
            "text/plain": [
              "26"
            ]
          },
          "metadata": {},
          "execution_count": 35
        }
      ]
    },
    {
      "cell_type": "code",
      "source": [
        "#model evaluation\n",
        "y_pred = model.predict().dropna()\n",
        "training_mae = mean_absolute_error(y_train.iloc[26:], y_pred)\n",
        "print(\"Training MAE:\", training_mae)"
      ],
      "metadata": {
        "colab": {
          "base_uri": "https://localhost:8080/"
        },
        "id": "8DFBhvdiBUjk",
        "outputId": "655e54d7-5020-4b32-bca8-df3e4264c2c1"
      },
      "execution_count": null,
      "outputs": [
        {
          "output_type": "stream",
          "name": "stdout",
          "text": [
            "Training MAE: 2.6753826004727577\n"
          ]
        }
      ]
    },
    {
      "cell_type": "code",
      "source": [
        "y_train_resid =model.resid # stat models\n",
        "fig, ax = plt.subplots(figsize=(15, 6))\n",
        "y_train_resid.plot(ylabel=\"Residual Value\", ax=ax); # timeseries plot"
      ],
      "metadata": {
        "colab": {
          "base_uri": "https://localhost:8080/",
          "height": 400
        },
        "id": "lckc-cgIBiw8",
        "outputId": "e674e840-e0cb-4cfd-d3db-fd90c1a270a5"
      },
      "execution_count": null,
      "outputs": [
        {
          "output_type": "display_data",
          "data": {
            "text/plain": [
              "<Figure size 1080x432 with 1 Axes>"
            ],
            "image/png": "[encoded data removed]"
          },
          "metadata": {
            "needs_background": "light"
          }
        }
      ]
    },
    {
      "cell_type": "code",
      "source": [
        "# histogram of residuals\n",
        "y_train_resid.hist()\n",
        "plt.xlabel(\"Residual value\")\n",
        "plt.ylabel(\"Frequency\")\n",
        "plt.title(\"AR(26), Distribution of Residuals\");"
      ],
      "metadata": {
        "colab": {
          "base_uri": "https://localhost:8080/",
          "height": 295
        },
        "id": "tKFLNaXAC0n0",
        "outputId": "874fefe5-b6df-4958-d076-f423157b16f5"
      },
      "execution_count": null,
      "outputs": [
        {
          "output_type": "display_data",
          "data": {
            "text/plain": [
              "<Figure size 432x288 with 1 Axes>"
            ],
            "image/png": "[encoded data removed]"
          },
          "metadata": {
            "needs_background": "light"
          }
        }
      ]
    },
    {
      "cell_type": "code",
      "source": [
        "# autocorrelation of the residuals\n",
        "fig, ax = plt.subplots(figsize=(15, 6))\n",
        "plot_acf(y_train_resid, ax=ax)"
      ],
      "metadata": {
        "colab": {
          "base_uri": "https://localhost:8080/",
          "height": 763
        },
        "id": "xqoMkiidDXNT",
        "outputId": "a7daa0a3-b49a-4043-9f21-8e8742b47db2"
      },
      "execution_count": null,
      "outputs": [
        {
          "output_type": "execute_result",
          "data": {
            "text/plain": [
              "<Figure size 1080x432 with 1 Axes>"
            ],
            "image/png": "[encoded data removed]"
          },
          "metadata": {},
          "execution_count": 41
        },
        {
          "output_type": "display_data",
          "data": {
            "text/plain": [
              "<Figure size 1080x432 with 1 Axes>"
            ],
            "image/png": "[encoded data removed]"
          },
          "metadata": {
            "needs_background": "light"
          }
        }
      ]
    },
    {
      "cell_type": "markdown",
      "source": [
        "There is no signal left in the residuals which we can use to predict"
      ],
      "metadata": {
        "id": "-FJrGP2-HF79"
      }
    },
    {
      "cell_type": "code",
      "source": [
        "#out of sample prediction evaluation, can our model generalise\n",
        "y_pred_test = model.predict(y_test.index.min(),y_test.index.max())\n",
        "test_mae = mean_absolute_error(y_test, y_pred_test)\n",
        "print(\"Test MAE:\", test_mae)"
      ],
      "metadata": {
        "colab": {
          "base_uri": "https://localhost:8080/"
        },
        "id": "a0ksLiMsGcrS",
        "outputId": "d4a2d5e9-86bc-4b9d-bba1-4d030d825716"
      },
      "execution_count": null,
      "outputs": [
        {
          "output_type": "stream",
          "name": "stdout",
          "text": [
            "Test MAE: 5.548844360404642\n"
          ]
        }
      ]
    },
    {
      "cell_type": "code",
      "source": [
        "df_pred_test = pd.DataFrame(\n",
        "    {\"y_test\": y_test, \"y_pred\": y_pred_test}, index=y_test.index\n",
        ")\n",
        "df_pred_test.head()\n"
      ],
      "metadata": {
        "colab": {
          "base_uri": "https://localhost:8080/",
          "height": 238
        },
        "id": "Rcb0Y0LxHfVw",
        "outputId": "4b50f208-02c0-4324-a2d5-c1ba714b6b4c"
      },
      "execution_count": null,
      "outputs": [
        {
          "output_type": "execute_result",
          "data": {
            "text/plain": [
              "                           y_test    y_pred\n",
              "timestamp                                  \n",
              "2018-05-25 13:00:00+03:00   6.715  7.158529\n",
              "2018-05-25 14:00:00+03:00  11.130  7.507310\n",
              "2018-05-25 15:00:00+03:00   9.625  7.780765\n",
              "2018-05-25 16:00:00+03:00   4.152  8.059237\n",
              "2018-05-25 17:00:00+03:00   5.085  8.318020"
            ],
            "text/html": [
              "\n",
              "  <div id=\"df-cdcaef14-34d9-4d54-ac4c-291b10d49b79\">\n",
              "    <div class=\"colab-df-container\">\n",
              "      <div>\n",
              "<style scoped>\n",
              "    .dataframe tbody tr th:only-of-type {\n",
              "        vertical-align: middle;\n",
              "    }\n",
              "\n",
              "    .dataframe tbody tr th {\n",
              "        vertical-align: top;\n",
              "    }\n",
              "\n",
              "    .dataframe thead th {\n",
              "        text-align: right;\n",
              "    }\n",
              "</style>\n",
              "<table border=\"1\" class=\"dataframe\">\n",
              "  <thead>\n",
              "    <tr style=\"text-align: right;\">\n",
              "      <th></th>\n",
              "      <th>y_test</th>\n",
              "      <th>y_pred</th>\n",
              "    </tr>\n",
              "    <tr>\n",
              "      <th>timestamp</th>\n",
              "      <th></th>\n",
              "      <th></th>\n",
              "    </tr>\n",
              "  </thead>\n",
              "  <tbody>\n",
              "    <tr>\n",
              "      <th>2018-05-25 13:00:00+03:00</th>\n",
              "      <td>6.715</td>\n",
              "      <td>7.158529</td>\n",
              "    </tr>\n",
              "    <tr>\n",
              "      <th>2018-05-25 14:00:00+03:00</th>\n",
              "      <td>11.130</td>\n",
              "      <td>7.507310</td>\n",
              "    </tr>\n",
              "    <tr>\n",
              "      <th>2018-05-25 15:00:00+03:00</th>\n",
              "      <td>9.625</td>\n",
              "      <td>7.780765</td>\n",
              "    </tr>\n",
              "    <tr>\n",
              "      <th>2018-05-25 16:00:00+03:00</th>\n",
              "      <td>4.152</td>\n",
              "      <td>8.059237</td>\n",
              "    </tr>\n",
              "    <tr>\n",
              "      <th>2018-05-25 17:00:00+03:00</th>\n",
              "      <td>5.085</td>\n",
              "      <td>8.318020</td>\n",
              "    </tr>\n",
              "  </tbody>\n",
              "</table>\n",
              "</div>\n",
              "      <button class=\"colab-df-convert\" onclick=\"convertToInteractive('df-cdcaef14-34d9-4d54-ac4c-291b10d49b79')\"\n",
              "              title=\"Convert this dataframe to an interactive table.\"\n",
              "              style=\"display:none;\">\n",
              "        \n",
              "  <svg xmlns=\"http://www.w3.org/2000/svg\" height=\"24px\"viewBox=\"0 0 24 24\"\n",
              "       width=\"24px\">\n",
              "    <path d=\"M0 0h24v24H0V0z\" fill=\"none\"/>\n",
              "    <path d=\"M18.56 5.44l.94 2.06.94-2.06 2.06-.94-2.06-.94-.94-2.06-.94 2.06-2.06.94zm-11 1L8.5 8.5l.94-2.06 2.06-.94-2.06-.94L8.5 2.5l-.94 2.06-2.06.94zm10 10l.94 2.06.94-2.06 2.06-.94-2.06-.94-.94-2.06-.94 2.06-2.06.94z\"/><path d=\"M17.41 7.96l-1.37-1.37c-.4-.4-.92-.59-1.43-.59-.52 0-1.04.2-1.43.59L10.3 9.45l-7.72 7.72c-.78.78-.78 2.05 0 2.83L4 21.41c.39.39.9.59 1.41.59.51 0 1.02-.2 1.41-.59l7.78-7.78 2.81-2.81c.8-.78.8-2.07 0-2.86zM5.41 20L4 18.59l7.72-7.72 1.47 1.35L5.41 20z\"/>\n",
              "  </svg>\n",
              "      </button>\n",
              "      \n",
              "  <style>\n",
              "    .colab-df-container {\n",
              "      display:flex;\n",
              "      flex-wrap:wrap;\n",
              "      gap: 12px;\n",
              "    }\n",
              "\n",
              "    .colab-df-convert {\n",
              "      background-color: #E8F0FE;\n",
              "      border: none;\n",
              "      border-radius: 50%;\n",
              "      cursor: pointer;\n",
              "      display: none;\n",
              "      fill: #1967D2;\n",
              "      height: 32px;\n",
              "      padding: 0 0 0 0;\n",
              "      width: 32px;\n",
              "    }\n",
              "\n",
              "    .colab-df-convert:hover {\n",
              "      background-color: #E2EBFA;\n",
              "      box-shadow: 0px 1px 2px rgba(60, 64, 67, 0.3), 0px 1px 3px 1px rgba(60, 64, 67, 0.15);\n",
              "      fill: #174EA6;\n",
              "    }\n",
              "\n",
              "    [theme=dark] .colab-df-convert {\n",
              "      background-color: #3B4455;\n",
              "      fill: #D2E3FC;\n",
              "    }\n",
              "\n",
              "    [theme=dark] .colab-df-convert:hover {\n",
              "      background-color: #434B5C;\n",
              "      box-shadow: 0px 1px 3px 1px rgba(0, 0, 0, 0.15);\n",
              "      filter: drop-shadow(0px 1px 2px rgba(0, 0, 0, 0.3));\n",
              "      fill: #FFFFFF;\n",
              "    }\n",
              "  </style>\n",
              "\n",
              "      <script>\n",
              "        const buttonEl =\n",
              "          document.querySelector('#df-cdcaef14-34d9-4d54-ac4c-291b10d49b79 button.colab-df-convert');\n",
              "        buttonEl.style.display =\n",
              "          google.colab.kernel.accessAllowed ? 'block' : 'none';\n",
              "\n",
              "        async function convertToInteractive(key) {\n",
              "          const element = document.querySelector('#df-cdcaef14-34d9-4d54-ac4c-291b10d49b79');\n",
              "          const dataTable =\n",
              "            await google.colab.kernel.invokeFunction('convertToInteractive',\n",
              "                                                     [key], {});\n",
              "          if (!dataTable) return;\n",
              "\n",
              "          const docLinkHtml = 'Like what you see? Visit the ' +\n",
              "            '<a target=\"_blank\" href=https://colab.research.google.com/notebooks/data_table.ipynb>data table notebook</a>'\n",
              "            + ' to learn more about interactive tables.';\n",
              "          element.innerHTML = '';\n",
              "          dataTable['output_type'] = 'display_data';\n",
              "          await google.colab.output.renderOutput(dataTable, element);\n",
              "          const docLink = document.createElement('div');\n",
              "          docLink.innerHTML = docLinkHtml;\n",
              "          element.appendChild(docLink);\n",
              "        }\n",
              "      </script>\n",
              "    </div>\n",
              "  </div>\n",
              "  "
            ]
          },
          "metadata": {},
          "execution_count": 43
        }
      ]
    },
    {
      "cell_type": "code",
      "source": [
        "fig = px.line(df_pred_test, labels={\"value\": \"P2\"})\n",
        "fig.show()"
      ],
      "metadata": {
        "colab": {
          "base_uri": "https://localhost:8080/",
          "height": 542
        },
        "id": "rCV4A9YpWFVv",
        "outputId": "85f13fec-c631-46ec-dfd4-04b198493c65"
      },
      "execution_count": null,
      "outputs": [
        {
          "output_type": "display_data",
          "data": {
            "text/html": [
              "<html>\n",
              "<head><meta charset=\"utf-8\" /></head>\n",
              "<body>\n",
              "    <div>            <script src=\"https://cdnjs.cloudflare.com/ajax/libs/mathjax/2.7.5/MathJax.js?config=TeX-AMS-MML_SVG\"></script><script type=\"text/javascript\">if (window.MathJax) {MathJax.Hub.Config({SVG: {font: \"STIX-Web\"}});}</script>                <script type=\"text/javascript\">window.PlotlyConfig = {MathJaxConfig: 'local'};</script>\n",
              "        <script src=\"https://cdn.plot.ly/plotly-2.8.3.min.js\"></script>                <div id=\"f28efa14-2064-491a-b721-eafaf42abe1c\" class=\"plotly-graph-div\" style=\"height:525px; width:100%;\"></div>            <script type=\"text/javascript\">                                    window.PLOTLYENV=window.PLOTLYENV || {};                                    if (document.getElementById(\"f28efa14-2064-491a-b721-eafaf42abe1c\")) {                    Plotly.newPlot(                        \"f28efa14-2064-491a-b721-eafaf42abe1c\",                        [{\"hovertemplate\":\"variable=y_test<br>timestamp=%{x}<br>P2=%{y}<extra></extra>\",\"legendgroup\":\"y_test\",\"line\":{\"color\":\"#636efa\",\"dash\":\"solid\"},\"marker\":{\"symbol\":\"circle\"},\"mode\":\"lines\",\"name\":\"y_test\",\"orientation\":\"v\",\"showlegend\":true,\"x\":[\"2018-05-25T13:00:00+03:00\",\"2018-05-25T14:00:00+03:00\",\"2018-05-25T15:00:00+03:00\",\"2018-05-25T16:00:00+03:00\",\"2018-05-25T17:00:00+03:00\",\"2018-05-25T18:00:00+03:00\",\"2018-05-25T19:00:00+03:00\",\"2018-05-25T20:00:00+03:00\",\"2018-05-25T21:00:00+03:00\",\"2018-05-25T22:00:00+03:00\",\"2018-05-25T23:00:00+03:00\",\"2018-05-26T00:00:00+03:00\",\"2018-05-26T01:00:00+03:00\",\"2018-05-26T02:00:00+03:00\",\"2018-05-26T03:00:00+03:00\",\"2018-05-26T04:00:00+03:00\",\"2018-05-26T05:00:00+03:00\",\"2018-05-26T06:00:00+03:00\",\"2018-05-26T07:00:00+03:00\",\"2018-05-26T08:00:00+03:00\",\"2018-05-26T09:00:00+03:00\",\"2018-05-26T10:00:00+03:00\",\"2018-05-26T11:00:00+03:00\",\"2018-05-26T12:00:00+03:00\",\"2018-05-26T13:00:00+03:00\",\"2018-05-26T14:00:00+03:00\",\"2018-05-26T15:00:00+03:00\",\"2018-05-26T16:00:00+03:00\",\"2018-05-26T17:00:00+03:00\",\"2018-05-26T18:00:00+03:00\",\"2018-05-26T19:00:00+03:00\",\"2018-05-26T20:00:00+03:00\",\"2018-05-26T21:00:00+03:00\",\"2018-05-26T22:00:00+03:00\",\"2018-05-26T23:00:00+03:00\",\"2018-05-27T00:00:00+03:00\",\"2018-05-27T01:00:00+03:00\",\"2018-05-27T02:00:00+03:00\",\"2018-05-27T03:00:00+03:00\",\"2018-05-27T04:00:00+03:00\",\"2018-05-27T05:00:00+03:00\",\"2018-05-27T06:00:00+03:00\",\"2018-05-27T07:00:00+03:00\",\"2018-05-27T08:00:00+03:00\",\"2018-05-27T09:00:00+03:00\",\"2018-05-27T10:00:00+03:00\",\"2018-05-27T11:00:00+03:00\",\"2018-05-27T12:00:00+03:00\",\"2018-05-27T13:00:00+03:00\",\"2018-05-27T14:00:00+03:00\",\"2018-05-27T15:00:00+03:00\",\"2018-05-27T16:00:00+03:00\",\"2018-05-27T17:00:00+03:00\",\"2018-05-27T18:00:00+03:00\",\"2018-05-27T19:00:00+03:00\",\"2018-05-27T20:00:00+03:00\",\"2018-05-27T21:00:00+03:00\",\"2018-05-27T22:00:00+03:00\",\"2018-05-27T23:00:00+03:00\",\"2018-05-28T00:00:00+03:00\",\"2018-05-28T01:00:00+03:00\",\"2018-05-28T02:00:00+03:00\",\"2018-05-28T03:00:00+03:00\",\"2018-05-28T04:00:00+03:00\",\"2018-05-28T05:00:00+03:00\",\"2018-05-28T06:00:00+03:00\",\"2018-05-28T07:00:00+03:00\",\"2018-05-28T08:00:00+03:00\",\"2018-05-28T09:00:00+03:00\",\"2018-05-28T10:00:00+03:00\",\"2018-05-28T11:00:00+03:00\",\"2018-05-28T12:00:00+03:00\",\"2018-05-28T13:00:00+03:00\",\"2018-05-28T14:00:00+03:00\",\"2018-05-28T15:00:00+03:00\",\"2018-05-28T16:00:00+03:00\",\"2018-05-28T17:00:00+03:00\",\"2018-05-28T18:00:00+03:00\",\"2018-05-28T19:00:00+03:00\",\"2018-05-28T20:00:00+03:00\",\"2018-05-28T21:00:00+03:00\",\"2018-05-28T22:00:00+03:00\",\"2018-05-28T23:00:00+03:00\",\"2018-05-29T00:00:00+03:00\",\"2018-05-29T01:00:00+03:00\",\"2018-05-29T02:00:00+03:00\",\"2018-05-29T03:00:00+03:00\",\"2018-05-29T04:00:00+03:00\",\"2018-05-29T05:00:00+03:00\",\"2018-05-29T06:00:00+03:00\",\"2018-05-29T07:00:00+03:00\",\"2018-05-29T08:00:00+03:00\",\"2018-05-29T09:00:00+03:00\",\"2018-05-29T10:00:00+03:00\",\"2018-05-29T11:00:00+03:00\",\"2018-05-29T12:00:00+03:00\",\"2018-05-29T13:00:00+03:00\",\"2018-05-29T14:00:00+03:00\",\"2018-05-29T15:00:00+03:00\",\"2018-05-29T16:00:00+03:00\",\"2018-05-29T17:00:00+03:00\",\"2018-05-29T18:00:00+03:00\",\"2018-05-29T19:00:00+03:00\",\"2018-05-29T20:00:00+03:00\",\"2018-05-29T21:00:00+03:00\",\"2018-05-29T22:00:00+03:00\",\"2018-05-29T23:00:00+03:00\",\"2018-05-30T00:00:00+03:00\",\"2018-05-30T01:00:00+03:00\",\"2018-05-30T02:00:00+03:00\",\"2018-05-30T03:00:00+03:00\",\"2018-05-30T04:00:00+03:00\",\"2018-05-30T05:00:00+03:00\",\"2018-05-30T06:00:00+03:00\",\"2018-05-30T07:00:00+03:00\",\"2018-05-30T08:00:00+03:00\",\"2018-05-30T09:00:00+03:00\",\"2018-05-30T10:00:00+03:00\"],\"xaxis\":\"x\",\"y\":[6.715,11.13,9.625,4.152,5.085,5.234999999999999,5.234999999999999,5.234999999999999,5.234999999999999,5.234999999999999,5.234999999999999,5.234999999999999,5.234999999999999,5.234999999999999,5.234999999999999,5.234999999999999,5.234999999999999,5.234999999999999,5.234999999999999,5.234999999999999,5.234999999999999,5.234999999999999,5.234999999999999,13.07,16.27,9.465,7.75,7.75,7.75,7.75,7.75,7.75,7.75,7.75,7.75,7.75,7.75,7.75,7.75,7.75,7.75,7.75,7.75,7.75,8.23,8.23,8.23,8.23,8.23,8.23,8.23,4.17,4.17,4.17,4.17,4.17,4.17,4.17,4.17,4.17,4.17,4.17,4.17,4.17,4.17,4.17,4.17,11.235,8.7325,6.876363636363636,2.432857142857143,2.054,2.2072727272727275,1.9966666666666666,3.04,3.16,3.16,3.37,3.37,3.37,3.37,3.37,3.37,3.37,4.8,4.8,4.8,4.8,4.8,4.8,4.8,4.8,4.8,2.87,2.7,3.5,2.515,2.29,2.6399999999999997,3.28375,3.25,4.69,10.108333333333333,16.825499999999998,15.032222222222222,12.63,10.366666666666667,8.076666666666666,11.925,5.975,6.49,6.1,6.784000000000001,19.148,32.125,32.125,6.768421052631578,4.87],\"yaxis\":\"y\",\"type\":\"scatter\"},{\"hovertemplate\":\"variable=y_pred<br>timestamp=%{x}<br>P2=%{y}<extra></extra>\",\"legendgroup\":\"y_pred\",\"line\":{\"color\":\"#EF553B\",\"dash\":\"solid\"},\"marker\":{\"symbol\":\"circle\"},\"mode\":\"lines\",\"name\":\"y_pred\",\"orientation\":\"v\",\"showlegend\":true,\"x\":[\"2018-05-25T13:00:00+03:00\",\"2018-05-25T14:00:00+03:00\",\"2018-05-25T15:00:00+03:00\",\"2018-05-25T16:00:00+03:00\",\"2018-05-25T17:00:00+03:00\",\"2018-05-25T18:00:00+03:00\",\"2018-05-25T19:00:00+03:00\",\"2018-05-25T20:00:00+03:00\",\"2018-05-25T21:00:00+03:00\",\"2018-05-25T22:00:00+03:00\",\"2018-05-25T23:00:00+03:00\",\"2018-05-26T00:00:00+03:00\",\"2018-05-26T01:00:00+03:00\",\"2018-05-26T02:00:00+03:00\",\"2018-05-26T03:00:00+03:00\",\"2018-05-26T04:00:00+03:00\",\"2018-05-26T05:00:00+03:00\",\"2018-05-26T06:00:00+03:00\",\"2018-05-26T07:00:00+03:00\",\"2018-05-26T08:00:00+03:00\",\"2018-05-26T09:00:00+03:00\",\"2018-05-26T10:00:00+03:00\",\"2018-05-26T11:00:00+03:00\",\"2018-05-26T12:00:00+03:00\",\"2018-05-26T13:00:00+03:00\",\"2018-05-26T14:00:00+03:00\",\"2018-05-26T15:00:00+03:00\",\"2018-05-26T16:00:00+03:00\",\"2018-05-26T17:00:00+03:00\",\"2018-05-26T18:00:00+03:00\",\"2018-05-26T19:00:00+03:00\",\"2018-05-26T20:00:00+03:00\",\"2018-05-26T21:00:00+03:00\",\"2018-05-26T22:00:00+03:00\",\"2018-05-26T23:00:00+03:00\",\"2018-05-27T00:00:00+03:00\",\"2018-05-27T01:00:00+03:00\",\"2018-05-27T02:00:00+03:00\",\"2018-05-27T03:00:00+03:00\",\"2018-05-27T04:00:00+03:00\",\"2018-05-27T05:00:00+03:00\",\"2018-05-27T06:00:00+03:00\",\"2018-05-27T07:00:00+03:00\",\"2018-05-27T08:00:00+03:00\",\"2018-05-27T09:00:00+03:00\",\"2018-05-27T10:00:00+03:00\",\"2018-05-27T11:00:00+03:00\",\"2018-05-27T12:00:00+03:00\",\"2018-05-27T13:00:00+03:00\",\"2018-05-27T14:00:00+03:00\",\"2018-05-27T15:00:00+03:00\",\"2018-05-27T16:00:00+03:00\",\"2018-05-27T17:00:00+03:00\",\"2018-05-27T18:00:00+03:00\",\"2018-05-27T19:00:00+03:00\",\"2018-05-27T20:00:00+03:00\",\"2018-05-27T21:00:00+03:00\",\"2018-05-27T22:00:00+03:00\",\"2018-05-27T23:00:00+03:00\",\"2018-05-28T00:00:00+03:00\",\"2018-05-28T01:00:00+03:00\",\"2018-05-28T02:00:00+03:00\",\"2018-05-28T03:00:00+03:00\",\"2018-05-28T04:00:00+03:00\",\"2018-05-28T05:00:00+03:00\",\"2018-05-28T06:00:00+03:00\",\"2018-05-28T07:00:00+03:00\",\"2018-05-28T08:00:00+03:00\",\"2018-05-28T09:00:00+03:00\",\"2018-05-28T10:00:00+03:00\",\"2018-05-28T11:00:00+03:00\",\"2018-05-28T12:00:00+03:00\",\"2018-05-28T13:00:00+03:00\",\"2018-05-28T14:00:00+03:00\",\"2018-05-28T15:00:00+03:00\",\"2018-05-28T16:00:00+03:00\",\"2018-05-28T17:00:00+03:00\",\"2018-05-28T18:00:00+03:00\",\"2018-05-28T19:00:00+03:00\",\"2018-05-28T20:00:00+03:00\",\"2018-05-28T21:00:00+03:00\",\"2018-05-28T22:00:00+03:00\",\"2018-05-28T23:00:00+03:00\",\"2018-05-29T00:00:00+03:00\",\"2018-05-29T01:00:00+03:00\",\"2018-05-29T02:00:00+03:00\",\"2018-05-29T03:00:00+03:00\",\"2018-05-29T04:00:00+03:00\",\"2018-05-29T05:00:00+03:00\",\"2018-05-29T06:00:00+03:00\",\"2018-05-29T07:00:00+03:00\",\"2018-05-29T08:00:00+03:00\",\"2018-05-29T09:00:00+03:00\",\"2018-05-29T10:00:00+03:00\",\"2018-05-29T11:00:00+03:00\",\"2018-05-29T12:00:00+03:00\",\"2018-05-29T13:00:00+03:00\",\"2018-05-29T14:00:00+03:00\",\"2018-05-29T15:00:00+03:00\",\"2018-05-29T16:00:00+03:00\",\"2018-05-29T17:00:00+03:00\",\"2018-05-29T18:00:00+03:00\",\"2018-05-29T19:00:00+03:00\",\"2018-05-29T20:00:00+03:00\",\"2018-05-29T21:00:00+03:00\",\"2018-05-29T22:00:00+03:00\",\"2018-05-29T23:00:00+03:00\",\"2018-05-30T00:00:00+03:00\",\"2018-05-30T01:00:00+03:00\",\"2018-05-30T02:00:00+03:00\",\"2018-05-30T03:00:00+03:00\",\"2018-05-30T04:00:00+03:00\",\"2018-05-30T05:00:00+03:00\",\"2018-05-30T06:00:00+03:00\",\"2018-05-30T07:00:00+03:00\",\"2018-05-30T08:00:00+03:00\",\"2018-05-30T09:00:00+03:00\",\"2018-05-30T10:00:00+03:00\"],\"xaxis\":\"x\",\"y\":[7.158528834375658,7.507310349218659,7.780765406657879,8.059236540225545,8.318020013900146,8.534687498997519,8.741513815533674,8.935417231476851,9.122574996483603,9.301426139569443,9.473892744532867,9.640814660716467,9.800973279597258,9.959089314098108,10.108262669684638,10.247493774100274,10.37473411675072,10.49879150372353,10.628465741920474,10.72255985718557,10.797712218863417,10.800897155023064,10.856561575433313,10.911930351591552,10.873479985060898,10.89074378025968,10.927145134907029,10.939432602837071,10.955506614208426,10.979202978376057,10.994915555363011,11.008572878840589,11.018799092067603,11.027017997698687,11.031752725787053,11.037327871979521,11.04300032169278,11.045478226097693,11.047623578167213,11.04895694453991,11.063100866662326,11.073306183239845,11.086386163539977,11.097091377124038,11.112216427611418,11.14883071049641,11.151535701798277,11.158437932047368,11.189403282763962,11.196947340698092,11.201293953348745,11.217224876768348,11.228191518157084,11.236829308794283,11.248415063961895,11.259331388329707,11.269237705391967,11.279081730832882,11.289979673149427,11.298385346705626,11.306060632852756,11.311738997705698,11.318915272830697,11.324919255955693,11.32632807069792,11.329840864885755,11.330721307771983,11.336927448350389,11.338735144375292,11.334123974507314,11.342873311923352,11.346467193556784,11.342358619276377,11.347089952082662,11.350545441367009,11.34929428807248,11.350801540596958,11.352439117244625,11.352529611318365,11.352841114116366,11.354079438168121,11.354727079153225,11.355106762430072,11.355963783004807,11.356982905369447,11.358908251429229,11.359112721259987,11.360165308725644,11.361687509858132,11.362681651538546,11.364520678014735,11.363280893293453,11.364836500488783,11.36783041893719,11.3657172845407,11.366556844318556,11.369405903761983,11.36861243208316,11.368988224290542,11.370744113976858,11.371029661954548,11.371305240205812,11.372259521574348,11.372878234651425,11.373000787639153,11.373478726222253,11.373839039506338,11.37428538584687,11.374440280676703,11.374350914311208,11.374998173220863,11.375081049702132,11.375349544282765,11.375406452476492,11.375269629480629,11.376395407655675,11.375997798765434,11.375453079377195],\"yaxis\":\"y\",\"type\":\"scatter\"}],                        {\"template\":{\"data\":{\"bar\":[{\"error_x\":{\"color\":\"#2a3f5f\"},\"error_y\":{\"color\":\"#2a3f5f\"},\"marker\":{\"line\":{\"color\":\"#E5ECF6\",\"width\":0.5},\"pattern\":{\"fillmode\":\"overlay\",\"size\":10,\"solidity\":0.2}},\"type\":\"bar\"}],\"barpolar\":[{\"marker\":{\"line\":{\"color\":\"#E5ECF6\",\"width\":0.5},\"pattern\":{\"fillmode\":\"overlay\",\"size\":10,\"solidity\":0.2}},\"type\":\"barpolar\"}],\"carpet\":[{\"aaxis\":{\"endlinecolor\":\"#2a3f5f\",\"gridcolor\":\"white\",\"linecolor\":\"white\",\"minorgridcolor\":\"white\",\"startlinecolor\":\"#2a3f5f\"},\"baxis\":{\"endlinecolor\":\"#2a3f5f\",\"gridcolor\":\"white\",\"linecolor\":\"white\",\"minorgridcolor\":\"white\",\"startlinecolor\":\"#2a3f5f\"},\"type\":\"carpet\"}],\"choropleth\":[{\"colorbar\":{\"outlinewidth\":0,\"ticks\":\"\"},\"type\":\"choropleth\"}],\"contour\":[{\"colorbar\":{\"outlinewidth\":0,\"ticks\":\"\"},\"colorscale\":[[0.0,\"#0d0887\"],[0.1111111111111111,\"#46039f\"],[0.2222222222222222,\"#7201a8\"],[0.3333333333333333,\"#9c179e\"],[0.4444444444444444,\"#bd3786\"],[0.5555555555555556,\"#d8576b\"],[0.6666666666666666,\"#ed7953\"],[0.7777777777777778,\"#fb9f3a\"],[0.8888888888888888,\"#fdca26\"],[1.0,\"#f0f921\"]],\"type\":\"contour\"}],\"contourcarpet\":[{\"colorbar\":{\"outlinewidth\":0,\"ticks\":\"\"},\"type\":\"contourcarpet\"}],\"heatmap\":[{\"colorbar\":{\"outlinewidth\":0,\"ticks\":\"\"},\"colorscale\":[[0.0,\"#0d0887\"],[0.1111111111111111,\"#46039f\"],[0.2222222222222222,\"#7201a8\"],[0.3333333333333333,\"#9c179e\"],[0.4444444444444444,\"#bd3786\"],[0.5555555555555556,\"#d8576b\"],[0.6666666666666666,\"#ed7953\"],[0.7777777777777778,\"#fb9f3a\"],[0.8888888888888888,\"#fdca26\"],[1.0,\"#f0f921\"]],\"type\":\"heatmap\"}],\"heatmapgl\":[{\"colorbar\":{\"outlinewidth\":0,\"ticks\":\"\"},\"colorscale\":[[0.0,\"#0d0887\"],[0.1111111111111111,\"#46039f\"],[0.2222222222222222,\"#7201a8\"],[0.3333333333333333,\"#9c179e\"],[0.4444444444444444,\"#bd3786\"],[0.5555555555555556,\"#d8576b\"],[0.6666666666666666,\"#ed7953\"],[0.7777777777777778,\"#fb9f3a\"],[0.8888888888888888,\"#fdca26\"],[1.0,\"#f0f921\"]],\"type\":\"heatmapgl\"}],\"histogram\":[{\"marker\":{\"pattern\":{\"fillmode\":\"overlay\",\"size\":10,\"solidity\":0.2}},\"type\":\"histogram\"}],\"histogram2d\":[{\"colorbar\":{\"outlinewidth\":0,\"ticks\":\"\"},\"colorscale\":[[0.0,\"#0d0887\"],[0.1111111111111111,\"#46039f\"],[0.2222222222222222,\"#7201a8\"],[0.3333333333333333,\"#9c179e\"],[0.4444444444444444,\"#bd3786\"],[0.5555555555555556,\"#d8576b\"],[0.6666666666666666,\"#ed7953\"],[0.7777777777777778,\"#fb9f3a\"],[0.8888888888888888,\"#fdca26\"],[1.0,\"#f0f921\"]],\"type\":\"histogram2d\"}],\"histogram2dcontour\":[{\"colorbar\":{\"outlinewidth\":0,\"ticks\":\"\"},\"colorscale\":[[0.0,\"#0d0887\"],[0.1111111111111111,\"#46039f\"],[0.2222222222222222,\"#7201a8\"],[0.3333333333333333,\"#9c179e\"],[0.4444444444444444,\"#bd3786\"],[0.5555555555555556,\"#d8576b\"],[0.6666666666666666,\"#ed7953\"],[0.7777777777777778,\"#fb9f3a\"],[0.8888888888888888,\"#fdca26\"],[1.0,\"#f0f921\"]],\"type\":\"histogram2dcontour\"}],\"mesh3d\":[{\"colorbar\":{\"outlinewidth\":0,\"ticks\":\"\"},\"type\":\"mesh3d\"}],\"parcoords\":[{\"line\":{\"colorbar\":{\"outlinewidth\":0,\"ticks\":\"\"}},\"type\":\"parcoords\"}],\"pie\":[{\"automargin\":true,\"type\":\"pie\"}],\"scatter\":[{\"marker\":{\"colorbar\":{\"outlinewidth\":0,\"ticks\":\"\"}},\"type\":\"scatter\"}],\"scatter3d\":[{\"line\":{\"colorbar\":{\"outlinewidth\":0,\"ticks\":\"\"}},\"marker\":{\"colorbar\":{\"outlinewidth\":0,\"ticks\":\"\"}},\"type\":\"scatter3d\"}],\"scattercarpet\":[{\"marker\":{\"colorbar\":{\"outlinewidth\":0,\"ticks\":\"\"}},\"type\":\"scattercarpet\"}],\"scattergeo\":[{\"marker\":{\"colorbar\":{\"outlinewidth\":0,\"ticks\":\"\"}},\"type\":\"scattergeo\"}],\"scattergl\":[{\"marker\":{\"colorbar\":{\"outlinewidth\":0,\"ticks\":\"\"}},\"type\":\"scattergl\"}],\"scattermapbox\":[{\"marker\":{\"colorbar\":{\"outlinewidth\":0,\"ticks\":\"\"}},\"type\":\"scattermapbox\"}],\"scatterpolar\":[{\"marker\":{\"colorbar\":{\"outlinewidth\":0,\"ticks\":\"\"}},\"type\":\"scatterpolar\"}],\"scatterpolargl\":[{\"marker\":{\"colorbar\":{\"outlinewidth\":0,\"ticks\":\"\"}},\"type\":\"scatterpolargl\"}],\"scatterternary\":[{\"marker\":{\"colorbar\":{\"outlinewidth\":0,\"ticks\":\"\"}},\"type\":\"scatterternary\"}],\"surface\":[{\"colorbar\":{\"outlinewidth\":0,\"ticks\":\"\"},\"colorscale\":[[0.0,\"#0d0887\"],[0.1111111111111111,\"#46039f\"],[0.2222222222222222,\"#7201a8\"],[0.3333333333333333,\"#9c179e\"],[0.4444444444444444,\"#bd3786\"],[0.5555555555555556,\"#d8576b\"],[0.6666666666666666,\"#ed7953\"],[0.7777777777777778,\"#fb9f3a\"],[0.8888888888888888,\"#fdca26\"],[1.0,\"#f0f921\"]],\"type\":\"surface\"}],\"table\":[{\"cells\":{\"fill\":{\"color\":\"#EBF0F8\"},\"line\":{\"color\":\"white\"}},\"header\":{\"fill\":{\"color\":\"#C8D4E3\"},\"line\":{\"color\":\"white\"}},\"type\":\"table\"}]},\"layout\":{\"annotationdefaults\":{\"arrowcolor\":\"#2a3f5f\",\"arrowhead\":0,\"arrowwidth\":1},\"autotypenumbers\":\"strict\",\"coloraxis\":{\"colorbar\":{\"outlinewidth\":0,\"ticks\":\"\"}},\"colorscale\":{\"diverging\":[[0,\"#8e0152\"],[0.1,\"#c51b7d\"],[0.2,\"#de77ae\"],[0.3,\"#f1b6da\"],[0.4,\"#fde0ef\"],[0.5,\"#f7f7f7\"],[0.6,\"#e6f5d0\"],[0.7,\"#b8e186\"],[0.8,\"#7fbc41\"],[0.9,\"#4d9221\"],[1,\"#276419\"]],\"sequential\":[[0.0,\"#0d0887\"],[0.1111111111111111,\"#46039f\"],[0.2222222222222222,\"#7201a8\"],[0.3333333333333333,\"#9c179e\"],[0.4444444444444444,\"#bd3786\"],[0.5555555555555556,\"#d8576b\"],[0.6666666666666666,\"#ed7953\"],[0.7777777777777778,\"#fb9f3a\"],[0.8888888888888888,\"#fdca26\"],[1.0,\"#f0f921\"]],\"sequentialminus\":[[0.0,\"#0d0887\"],[0.1111111111111111,\"#46039f\"],[0.2222222222222222,\"#7201a8\"],[0.3333333333333333,\"#9c179e\"],[0.4444444444444444,\"#bd3786\"],[0.5555555555555556,\"#d8576b\"],[0.6666666666666666,\"#ed7953\"],[0.7777777777777778,\"#fb9f3a\"],[0.8888888888888888,\"#fdca26\"],[1.0,\"#f0f921\"]]},\"colorway\":[\"#636efa\",\"#EF553B\",\"#00cc96\",\"#ab63fa\",\"#FFA15A\",\"#19d3f3\",\"#FF6692\",\"#B6E880\",\"#FF97FF\",\"#FECB52\"],\"font\":{\"color\":\"#2a3f5f\"},\"geo\":{\"bgcolor\":\"white\",\"lakecolor\":\"white\",\"landcolor\":\"#E5ECF6\",\"showlakes\":true,\"showland\":true,\"subunitcolor\":\"white\"},\"hoverlabel\":{\"align\":\"left\"},\"hovermode\":\"closest\",\"mapbox\":{\"style\":\"light\"},\"paper_bgcolor\":\"white\",\"plot_bgcolor\":\"#E5ECF6\",\"polar\":{\"angularaxis\":{\"gridcolor\":\"white\",\"linecolor\":\"white\",\"ticks\":\"\"},\"bgcolor\":\"#E5ECF6\",\"radialaxis\":{\"gridcolor\":\"white\",\"linecolor\":\"white\",\"ticks\":\"\"}},\"scene\":{\"xaxis\":{\"backgroundcolor\":\"#E5ECF6\",\"gridcolor\":\"white\",\"gridwidth\":2,\"linecolor\":\"white\",\"showbackground\":true,\"ticks\":\"\",\"zerolinecolor\":\"white\"},\"yaxis\":{\"backgroundcolor\":\"#E5ECF6\",\"gridcolor\":\"white\",\"gridwidth\":2,\"linecolor\":\"white\",\"showbackground\":true,\"ticks\":\"\",\"zerolinecolor\":\"white\"},\"zaxis\":{\"backgroundcolor\":\"#E5ECF6\",\"gridcolor\":\"white\",\"gridwidth\":2,\"linecolor\":\"white\",\"showbackground\":true,\"ticks\":\"\",\"zerolinecolor\":\"white\"}},\"shapedefaults\":{\"line\":{\"color\":\"#2a3f5f\"}},\"ternary\":{\"aaxis\":{\"gridcolor\":\"white\",\"linecolor\":\"white\",\"ticks\":\"\"},\"baxis\":{\"gridcolor\":\"white\",\"linecolor\":\"white\",\"ticks\":\"\"},\"bgcolor\":\"#E5ECF6\",\"caxis\":{\"gridcolor\":\"white\",\"linecolor\":\"white\",\"ticks\":\"\"}},\"title\":{\"x\":0.05},\"xaxis\":{\"automargin\":true,\"gridcolor\":\"white\",\"linecolor\":\"white\",\"ticks\":\"\",\"title\":{\"standoff\":15},\"zerolinecolor\":\"white\",\"zerolinewidth\":2},\"yaxis\":{\"automargin\":true,\"gridcolor\":\"white\",\"linecolor\":\"white\",\"ticks\":\"\",\"title\":{\"standoff\":15},\"zerolinecolor\":\"white\",\"zerolinewidth\":2}}},\"xaxis\":{\"anchor\":\"y\",\"domain\":[0.0,1.0],\"title\":{\"text\":\"timestamp\"}},\"yaxis\":{\"anchor\":\"x\",\"domain\":[0.0,1.0],\"title\":{\"text\":\"P2\"}},\"legend\":{\"title\":{\"text\":\"variable\"},\"tracegroupgap\":0},\"margin\":{\"t\":60}},                        {\"responsive\": true}                    ).then(function(){\n",
              "                            \n",
              "var gd = document.getElementById('f28efa14-2064-491a-b721-eafaf42abe1c');\n",
              "var x = new MutationObserver(function (mutations, observer) {{\n",
              "        var display = window.getComputedStyle(gd).display;\n",
              "        if (!display || display === 'none') {{\n",
              "            console.log([gd, 'removed!']);\n",
              "            Plotly.purge(gd);\n",
              "            observer.disconnect();\n",
              "        }}\n",
              "}});\n",
              "\n",
              "// Listen for the removal of the full notebook cells\n",
              "var notebookContainer = gd.closest('#notebook-container');\n",
              "if (notebookContainer) {{\n",
              "    x.observe(notebookContainer, {childList: true});\n",
              "}}\n",
              "\n",
              "// Listen for the clearing of the current output cell\n",
              "var outputEl = gd.closest('.output');\n",
              "if (outputEl) {{\n",
              "    x.observe(outputEl, {childList: true});\n",
              "}}\n",
              "\n",
              "                        })                };                            </script>        </div>\n",
              "</body>\n",
              "</html>"
            ]
          },
          "metadata": {}
        }
      ]
    },
    {
      "cell_type": "markdown",
      "source": [
        "Traditional MAE does not work with timeseries data. thus there is need for walk foward validation"
      ],
      "metadata": {
        "id": "YrjP9YueWntl"
      }
    },
    {
      "cell_type": "code",
      "source": [
        "# Expanding window validation"
      ],
      "metadata": {
        "id": "XC4FBEjSWLiL"
      },
      "execution_count": null,
      "outputs": []
    },
    {
      "cell_type": "code",
      "source": [
        "%%capture\n",
        "\n",
        "y_pred_wfv =pd.Series()\n",
        "history = y_train.copy()\n",
        "for i in range(len(y_test)):\n",
        "    model=AutoReg(history, lags=26).fit()\n",
        "    next_pred=model.forecast()\n",
        "    y_pred_wfv=y_pred_wfv.append(next_pred)\n",
        "    history= history.append(y_test[next_pred.index])"
      ],
      "metadata": {
        "id": "6j-NV-8ZXcCo"
      },
      "execution_count": null,
      "outputs": []
    },
    {
      "cell_type": "code",
      "source": [
        "len(y_pred_wfv)"
      ],
      "metadata": {
        "colab": {
          "base_uri": "https://localhost:8080/"
        },
        "id": "GQQvdFfhZ7EI",
        "outputId": "f9761ce4-9fd7-40fb-f3a0-e311b29bc137"
      },
      "execution_count": null,
      "outputs": [
        {
          "output_type": "execute_result",
          "data": {
            "text/plain": [
              "118"
            ]
          },
          "metadata": {},
          "execution_count": 47
        }
      ]
    },
    {
      "cell_type": "code",
      "source": [
        "model=AutoReg(history, lags=26).fit()\n",
        "model.forecast()"
      ],
      "metadata": {
        "colab": {
          "base_uri": "https://localhost:8080/"
        },
        "id": "LE49yVQnaC1y",
        "outputId": "b77e8b55-76e2-487f-f51b-e379b7295bea"
      },
      "execution_count": null,
      "outputs": [
        {
          "output_type": "execute_result",
          "data": {
            "text/plain": [
              "2018-05-30 11:00:00+03:00    8.141707\n",
              "Freq: H, dtype: float64"
            ]
          },
          "metadata": {},
          "execution_count": 48
        }
      ]
    },
    {
      "cell_type": "code",
      "source": [
        "test_mae = mean_absolute_error(y_test, y_pred_wfv)\n",
        "print(\"Test MAE (walk forward validation):\", round(test_mae, 2))"
      ],
      "metadata": {
        "colab": {
          "base_uri": "https://localhost:8080/"
        },
        "id": "_kCUEupPaLpZ",
        "outputId": "39c29e35-8d5a-4bec-ad08-68b7f7a85bb6"
      },
      "execution_count": null,
      "outputs": [
        {
          "output_type": "stream",
          "name": "stdout",
          "text": [
            "Test MAE (walk forward validation): 1.7\n"
          ]
        }
      ]
    },
    {
      "cell_type": "code",
      "source": [
        "print(model.params)"
      ],
      "metadata": {
        "colab": {
          "base_uri": "https://localhost:8080/"
        },
        "id": "3eZYI_baaVZ0",
        "outputId": "219bfc75-2bf2-4d32-b6b7-77bb9021b459"
      },
      "execution_count": null,
      "outputs": [
        {
          "output_type": "stream",
          "name": "stdout",
          "text": [
            "intercept    1.054861\n",
            "value.L1     0.788898\n",
            "value.L2    -0.005929\n",
            "value.L3     0.143259\n",
            "value.L4    -0.022004\n",
            "value.L5    -0.038742\n",
            "value.L6     0.038595\n",
            "value.L7    -0.003595\n",
            "value.L8     0.025270\n",
            "value.L9    -0.002332\n",
            "value.L10    0.006894\n",
            "value.L11    0.004245\n",
            "value.L12   -0.001192\n",
            "value.L13    0.010520\n",
            "value.L14   -0.013048\n",
            "value.L15   -0.003327\n",
            "value.L16   -0.011072\n",
            "value.L17    0.015106\n",
            "value.L18    0.023631\n",
            "value.L19   -0.080239\n",
            "value.L20    0.007072\n",
            "value.L21   -0.144157\n",
            "value.L22    0.232974\n",
            "value.L23   -0.065293\n",
            "value.L24   -0.170387\n",
            "value.L25    0.216489\n",
            "value.L26   -0.046414\n",
            "dtype: float64\n"
          ]
        }
      ]
    },
    {
      "cell_type": "code",
      "source": [
        "df_pred_test = pd.DataFrame(\n",
        "    {\"y_test\":y_test, \"y_pred_wfv\":y_pred_wfv}\n",
        ")\n",
        "fig=px.line(df_pred_test, labels={\"value\":\"PM.5\"})\n",
        "fig.show()"
      ],
      "metadata": {
        "colab": {
          "base_uri": "https://localhost:8080/",
          "height": 542
        },
        "id": "5NCytVWvady8",
        "outputId": "a87aab77-5474-454d-80bd-b6c26c311877"
      },
      "execution_count": null,
      "outputs": [
        {
          "output_type": "display_data",
          "data": {
            "text/html": [
              "<html>\n",
              "<head><meta charset=\"utf-8\" /></head>\n",
              "<body>\n",
              "    <div>            <script src=\"https://cdnjs.cloudflare.com/ajax/libs/mathjax/2.7.5/MathJax.js?config=TeX-AMS-MML_SVG\"></script><script type=\"text/javascript\">if (window.MathJax) {MathJax.Hub.Config({SVG: {font: \"STIX-Web\"}});}</script>                <script type=\"text/javascript\">window.PlotlyConfig = {MathJaxConfig: 'local'};</script>\n",
              "        <script src=\"https://cdn.plot.ly/plotly-2.8.3.min.js\"></script>                <div id=\"f2272788-eb60-43a1-9fe7-c4e2e94fb428\" class=\"plotly-graph-div\" style=\"height:525px; width:100%;\"></div>            <script type=\"text/javascript\">                                    window.PLOTLYENV=window.PLOTLYENV || {};                                    if (document.getElementById(\"f2272788-eb60-43a1-9fe7-c4e2e94fb428\")) {                    Plotly.newPlot(                        \"f2272788-eb60-43a1-9fe7-c4e2e94fb428\",                        [{\"hovertemplate\":\"variable=y_test<br>index=%{x}<br>PM.5=%{y}<extra></extra>\",\"legendgroup\":\"y_test\",\"line\":{\"color\":\"#636efa\",\"dash\":\"solid\"},\"marker\":{\"symbol\":\"circle\"},\"mode\":\"lines\",\"name\":\"y_test\",\"orientation\":\"v\",\"showlegend\":true,\"x\":[\"2018-05-25T13:00:00+03:00\",\"2018-05-25T14:00:00+03:00\",\"2018-05-25T15:00:00+03:00\",\"2018-05-25T16:00:00+03:00\",\"2018-05-25T17:00:00+03:00\",\"2018-05-25T18:00:00+03:00\",\"2018-05-25T19:00:00+03:00\",\"2018-05-25T20:00:00+03:00\",\"2018-05-25T21:00:00+03:00\",\"2018-05-25T22:00:00+03:00\",\"2018-05-25T23:00:00+03:00\",\"2018-05-26T00:00:00+03:00\",\"2018-05-26T01:00:00+03:00\",\"2018-05-26T02:00:00+03:00\",\"2018-05-26T03:00:00+03:00\",\"2018-05-26T04:00:00+03:00\",\"2018-05-26T05:00:00+03:00\",\"2018-05-26T06:00:00+03:00\",\"2018-05-26T07:00:00+03:00\",\"2018-05-26T08:00:00+03:00\",\"2018-05-26T09:00:00+03:00\",\"2018-05-26T10:00:00+03:00\",\"2018-05-26T11:00:00+03:00\",\"2018-05-26T12:00:00+03:00\",\"2018-05-26T13:00:00+03:00\",\"2018-05-26T14:00:00+03:00\",\"2018-05-26T15:00:00+03:00\",\"2018-05-26T16:00:00+03:00\",\"2018-05-26T17:00:00+03:00\",\"2018-05-26T18:00:00+03:00\",\"2018-05-26T19:00:00+03:00\",\"2018-05-26T20:00:00+03:00\",\"2018-05-26T21:00:00+03:00\",\"2018-05-26T22:00:00+03:00\",\"2018-05-26T23:00:00+03:00\",\"2018-05-27T00:00:00+03:00\",\"2018-05-27T01:00:00+03:00\",\"2018-05-27T02:00:00+03:00\",\"2018-05-27T03:00:00+03:00\",\"2018-05-27T04:00:00+03:00\",\"2018-05-27T05:00:00+03:00\",\"2018-05-27T06:00:00+03:00\",\"2018-05-27T07:00:00+03:00\",\"2018-05-27T08:00:00+03:00\",\"2018-05-27T09:00:00+03:00\",\"2018-05-27T10:00:00+03:00\",\"2018-05-27T11:00:00+03:00\",\"2018-05-27T12:00:00+03:00\",\"2018-05-27T13:00:00+03:00\",\"2018-05-27T14:00:00+03:00\",\"2018-05-27T15:00:00+03:00\",\"2018-05-27T16:00:00+03:00\",\"2018-05-27T17:00:00+03:00\",\"2018-05-27T18:00:00+03:00\",\"2018-05-27T19:00:00+03:00\",\"2018-05-27T20:00:00+03:00\",\"2018-05-27T21:00:00+03:00\",\"2018-05-27T22:00:00+03:00\",\"2018-05-27T23:00:00+03:00\",\"2018-05-28T00:00:00+03:00\",\"2018-05-28T01:00:00+03:00\",\"2018-05-28T02:00:00+03:00\",\"2018-05-28T03:00:00+03:00\",\"2018-05-28T04:00:00+03:00\",\"2018-05-28T05:00:00+03:00\",\"2018-05-28T06:00:00+03:00\",\"2018-05-28T07:00:00+03:00\",\"2018-05-28T08:00:00+03:00\",\"2018-05-28T09:00:00+03:00\",\"2018-05-28T10:00:00+03:00\",\"2018-05-28T11:00:00+03:00\",\"2018-05-28T12:00:00+03:00\",\"2018-05-28T13:00:00+03:00\",\"2018-05-28T14:00:00+03:00\",\"2018-05-28T15:00:00+03:00\",\"2018-05-28T16:00:00+03:00\",\"2018-05-28T17:00:00+03:00\",\"2018-05-28T18:00:00+03:00\",\"2018-05-28T19:00:00+03:00\",\"2018-05-28T20:00:00+03:00\",\"2018-05-28T21:00:00+03:00\",\"2018-05-28T22:00:00+03:00\",\"2018-05-28T23:00:00+03:00\",\"2018-05-29T00:00:00+03:00\",\"2018-05-29T01:00:00+03:00\",\"2018-05-29T02:00:00+03:00\",\"2018-05-29T03:00:00+03:00\",\"2018-05-29T04:00:00+03:00\",\"2018-05-29T05:00:00+03:00\",\"2018-05-29T06:00:00+03:00\",\"2018-05-29T07:00:00+03:00\",\"2018-05-29T08:00:00+03:00\",\"2018-05-29T09:00:00+03:00\",\"2018-05-29T10:00:00+03:00\",\"2018-05-29T11:00:00+03:00\",\"2018-05-29T12:00:00+03:00\",\"2018-05-29T13:00:00+03:00\",\"2018-05-29T14:00:00+03:00\",\"2018-05-29T15:00:00+03:00\",\"2018-05-29T16:00:00+03:00\",\"2018-05-29T17:00:00+03:00\",\"2018-05-29T18:00:00+03:00\",\"2018-05-29T19:00:00+03:00\",\"2018-05-29T20:00:00+03:00\",\"2018-05-29T21:00:00+03:00\",\"2018-05-29T22:00:00+03:00\",\"2018-05-29T23:00:00+03:00\",\"2018-05-30T00:00:00+03:00\",\"2018-05-30T01:00:00+03:00\",\"2018-05-30T02:00:00+03:00\",\"2018-05-30T03:00:00+03:00\",\"2018-05-30T04:00:00+03:00\",\"2018-05-30T05:00:00+03:00\",\"2018-05-30T06:00:00+03:00\",\"2018-05-30T07:00:00+03:00\",\"2018-05-30T08:00:00+03:00\",\"2018-05-30T09:00:00+03:00\",\"2018-05-30T10:00:00+03:00\"],\"xaxis\":\"x\",\"y\":[6.715,11.13,9.625,4.152,5.085,5.234999999999999,5.234999999999999,5.234999999999999,5.234999999999999,5.234999999999999,5.234999999999999,5.234999999999999,5.234999999999999,5.234999999999999,5.234999999999999,5.234999999999999,5.234999999999999,5.234999999999999,5.234999999999999,5.234999999999999,5.234999999999999,5.234999999999999,5.234999999999999,13.07,16.27,9.465,7.75,7.75,7.75,7.75,7.75,7.75,7.75,7.75,7.75,7.75,7.75,7.75,7.75,7.75,7.75,7.75,7.75,7.75,8.23,8.23,8.23,8.23,8.23,8.23,8.23,4.17,4.17,4.17,4.17,4.17,4.17,4.17,4.17,4.17,4.17,4.17,4.17,4.17,4.17,4.17,4.17,11.235,8.7325,6.876363636363636,2.432857142857143,2.054,2.2072727272727275,1.9966666666666666,3.04,3.16,3.16,3.37,3.37,3.37,3.37,3.37,3.37,3.37,4.8,4.8,4.8,4.8,4.8,4.8,4.8,4.8,4.8,2.87,2.7,3.5,2.515,2.29,2.6399999999999997,3.28375,3.25,4.69,10.108333333333333,16.825499999999998,15.032222222222222,12.63,10.366666666666667,8.076666666666666,11.925,5.975,6.49,6.1,6.784000000000001,19.148,32.125,32.125,6.768421052631578,4.87],\"yaxis\":\"y\",\"type\":\"scatter\"},{\"hovertemplate\":\"variable=y_pred_wfv<br>index=%{x}<br>PM.5=%{y}<extra></extra>\",\"legendgroup\":\"y_pred_wfv\",\"line\":{\"color\":\"#EF553B\",\"dash\":\"solid\"},\"marker\":{\"symbol\":\"circle\"},\"mode\":\"lines\",\"name\":\"y_pred_wfv\",\"orientation\":\"v\",\"showlegend\":true,\"x\":[\"2018-05-25T13:00:00+03:00\",\"2018-05-25T14:00:00+03:00\",\"2018-05-25T15:00:00+03:00\",\"2018-05-25T16:00:00+03:00\",\"2018-05-25T17:00:00+03:00\",\"2018-05-25T18:00:00+03:00\",\"2018-05-25T19:00:00+03:00\",\"2018-05-25T20:00:00+03:00\",\"2018-05-25T21:00:00+03:00\",\"2018-05-25T22:00:00+03:00\",\"2018-05-25T23:00:00+03:00\",\"2018-05-26T00:00:00+03:00\",\"2018-05-26T01:00:00+03:00\",\"2018-05-26T02:00:00+03:00\",\"2018-05-26T03:00:00+03:00\",\"2018-05-26T04:00:00+03:00\",\"2018-05-26T05:00:00+03:00\",\"2018-05-26T06:00:00+03:00\",\"2018-05-26T07:00:00+03:00\",\"2018-05-26T08:00:00+03:00\",\"2018-05-26T09:00:00+03:00\",\"2018-05-26T10:00:00+03:00\",\"2018-05-26T11:00:00+03:00\",\"2018-05-26T12:00:00+03:00\",\"2018-05-26T13:00:00+03:00\",\"2018-05-26T14:00:00+03:00\",\"2018-05-26T15:00:00+03:00\",\"2018-05-26T16:00:00+03:00\",\"2018-05-26T17:00:00+03:00\",\"2018-05-26T18:00:00+03:00\",\"2018-05-26T19:00:00+03:00\",\"2018-05-26T20:00:00+03:00\",\"2018-05-26T21:00:00+03:00\",\"2018-05-26T22:00:00+03:00\",\"2018-05-26T23:00:00+03:00\",\"2018-05-27T00:00:00+03:00\",\"2018-05-27T01:00:00+03:00\",\"2018-05-27T02:00:00+03:00\",\"2018-05-27T03:00:00+03:00\",\"2018-05-27T04:00:00+03:00\",\"2018-05-27T05:00:00+03:00\",\"2018-05-27T06:00:00+03:00\",\"2018-05-27T07:00:00+03:00\",\"2018-05-27T08:00:00+03:00\",\"2018-05-27T09:00:00+03:00\",\"2018-05-27T10:00:00+03:00\",\"2018-05-27T11:00:00+03:00\",\"2018-05-27T12:00:00+03:00\",\"2018-05-27T13:00:00+03:00\",\"2018-05-27T14:00:00+03:00\",\"2018-05-27T15:00:00+03:00\",\"2018-05-27T16:00:00+03:00\",\"2018-05-27T17:00:00+03:00\",\"2018-05-27T18:00:00+03:00\",\"2018-05-27T19:00:00+03:00\",\"2018-05-27T20:00:00+03:00\",\"2018-05-27T21:00:00+03:00\",\"2018-05-27T22:00:00+03:00\",\"2018-05-27T23:00:00+03:00\",\"2018-05-28T00:00:00+03:00\",\"2018-05-28T01:00:00+03:00\",\"2018-05-28T02:00:00+03:00\",\"2018-05-28T03:00:00+03:00\",\"2018-05-28T04:00:00+03:00\",\"2018-05-28T05:00:00+03:00\",\"2018-05-28T06:00:00+03:00\",\"2018-05-28T07:00:00+03:00\",\"2018-05-28T08:00:00+03:00\",\"2018-05-28T09:00:00+03:00\",\"2018-05-28T10:00:00+03:00\",\"2018-05-28T11:00:00+03:00\",\"2018-05-28T12:00:00+03:00\",\"2018-05-28T13:00:00+03:00\",\"2018-05-28T14:00:00+03:00\",\"2018-05-28T15:00:00+03:00\",\"2018-05-28T16:00:00+03:00\",\"2018-05-28T17:00:00+03:00\",\"2018-05-28T18:00:00+03:00\",\"2018-05-28T19:00:00+03:00\",\"2018-05-28T20:00:00+03:00\",\"2018-05-28T21:00:00+03:00\",\"2018-05-28T22:00:00+03:00\",\"2018-05-28T23:00:00+03:00\",\"2018-05-29T00:00:00+03:00\",\"2018-05-29T01:00:00+03:00\",\"2018-05-29T02:00:00+03:00\",\"2018-05-29T03:00:00+03:00\",\"2018-05-29T04:00:00+03:00\",\"2018-05-29T05:00:00+03:00\",\"2018-05-29T06:00:00+03:00\",\"2018-05-29T07:00:00+03:00\",\"2018-05-29T08:00:00+03:00\",\"2018-05-29T09:00:00+03:00\",\"2018-05-29T10:00:00+03:00\",\"2018-05-29T11:00:00+03:00\",\"2018-05-29T12:00:00+03:00\",\"2018-05-29T13:00:00+03:00\",\"2018-05-29T14:00:00+03:00\",\"2018-05-29T15:00:00+03:00\",\"2018-05-29T16:00:00+03:00\",\"2018-05-29T17:00:00+03:00\",\"2018-05-29T18:00:00+03:00\",\"2018-05-29T19:00:00+03:00\",\"2018-05-29T20:00:00+03:00\",\"2018-05-29T21:00:00+03:00\",\"2018-05-29T22:00:00+03:00\",\"2018-05-29T23:00:00+03:00\",\"2018-05-30T00:00:00+03:00\",\"2018-05-30T01:00:00+03:00\",\"2018-05-30T02:00:00+03:00\",\"2018-05-30T03:00:00+03:00\",\"2018-05-30T04:00:00+03:00\",\"2018-05-30T05:00:00+03:00\",\"2018-05-30T06:00:00+03:00\",\"2018-05-30T07:00:00+03:00\",\"2018-05-30T08:00:00+03:00\",\"2018-05-30T09:00:00+03:00\",\"2018-05-30T10:00:00+03:00\"],\"xaxis\":\"x\",\"y\":[7.158528834375658,7.158296631771255,10.632190141978066,9.44004925471764,5.774267851678327,6.200498336898274,5.381021045301074,5.869715785507257,6.015721339444345,5.887649599462067,5.885052056602539,5.771823112030318,5.817982510837695,5.778293578692482,5.819673009199638,5.7550584263561815,5.690213434612147,5.724037995623171,5.817404157150409,5.957017036975113,5.473260505876412,5.507620497231789,5.3252603242790295,6.458316998412784,12.770956221796018,13.212074929139474,10.743251035685727,10.072807137061744,7.42147781653083,7.927632019884163,8.321543805847188,8.317681085358613,8.339391297136908,8.201389762933882,8.220767631334557,8.189921929197334,8.249291919113123,8.190762374643594,8.040531101245794,8.002298813891851,8.128778953317578,8.446306444517854,7.8098436432566976,7.419970274258816,6.820766846955735,8.653979154450314,9.857655362590155,7.0433203325329075,8.221001024051503,9.80509915155195,8.499307865297663,8.439554327781071,5.335224093448277,5.3425384451913756,4.757860027739392,4.851382043621774,5.013584142560746,4.863498484596904,4.873004515948944,4.763288313978266,4.769632106957171,4.75283217664825,4.7504216870660905,4.715087943185372,4.668987294848108,4.649959627302813,4.776559460796023,4.791696575099488,10.211195912578725,8.233033824191715,8.103341264604074,4.058500010187928,3.858906531726655,2.8062769350179435,2.8994084846617785,4.74846368361563,3.693430663643579,4.030557947813455,4.102013224782317,4.025735830764404,4.152693257930101,4.008504982024753,4.01317759520551,3.9170766583842718,4.113472406952242,5.4235533772888305,4.812878567279241,5.178460783241299,4.137616905832891,6.419382824318513,5.690429023232139,4.84050914922105,6.015411466550622,5.55512275060053,4.606343591766987,3.467659701396324,4.136383940128222,3.443187544251556,3.178093004504289,3.4841748173818603,3.896197476642879,3.9235098382637243,5.190775406091432,9.302108519995244,14.75342952076226,13.896313326581538,13.109868369785568,10.698563801627248,8.300778756762162,11.730478229318331,6.808546118189835,7.963637828736816,6.870689599977561,7.382481955428896,17.599294128696055,27.275006894750177,29.15868584591815,10.975169551504663],\"yaxis\":\"y\",\"type\":\"scatter\"}],                        {\"template\":{\"data\":{\"bar\":[{\"error_x\":{\"color\":\"#2a3f5f\"},\"error_y\":{\"color\":\"#2a3f5f\"},\"marker\":{\"line\":{\"color\":\"#E5ECF6\",\"width\":0.5},\"pattern\":{\"fillmode\":\"overlay\",\"size\":10,\"solidity\":0.2}},\"type\":\"bar\"}],\"barpolar\":[{\"marker\":{\"line\":{\"color\":\"#E5ECF6\",\"width\":0.5},\"pattern\":{\"fillmode\":\"overlay\",\"size\":10,\"solidity\":0.2}},\"type\":\"barpolar\"}],\"carpet\":[{\"aaxis\":{\"endlinecolor\":\"#2a3f5f\",\"gridcolor\":\"white\",\"linecolor\":\"white\",\"minorgridcolor\":\"white\",\"startlinecolor\":\"#2a3f5f\"},\"baxis\":{\"endlinecolor\":\"#2a3f5f\",\"gridcolor\":\"white\",\"linecolor\":\"white\",\"minorgridcolor\":\"white\",\"startlinecolor\":\"#2a3f5f\"},\"type\":\"carpet\"}],\"choropleth\":[{\"colorbar\":{\"outlinewidth\":0,\"ticks\":\"\"},\"type\":\"choropleth\"}],\"contour\":[{\"colorbar\":{\"outlinewidth\":0,\"ticks\":\"\"},\"colorscale\":[[0.0,\"#0d0887\"],[0.1111111111111111,\"#46039f\"],[0.2222222222222222,\"#7201a8\"],[0.3333333333333333,\"#9c179e\"],[0.4444444444444444,\"#bd3786\"],[0.5555555555555556,\"#d8576b\"],[0.6666666666666666,\"#ed7953\"],[0.7777777777777778,\"#fb9f3a\"],[0.8888888888888888,\"#fdca26\"],[1.0,\"#f0f921\"]],\"type\":\"contour\"}],\"contourcarpet\":[{\"colorbar\":{\"outlinewidth\":0,\"ticks\":\"\"},\"type\":\"contourcarpet\"}],\"heatmap\":[{\"colorbar\":{\"outlinewidth\":0,\"ticks\":\"\"},\"colorscale\":[[0.0,\"#0d0887\"],[0.1111111111111111,\"#46039f\"],[0.2222222222222222,\"#7201a8\"],[0.3333333333333333,\"#9c179e\"],[0.4444444444444444,\"#bd3786\"],[0.5555555555555556,\"#d8576b\"],[0.6666666666666666,\"#ed7953\"],[0.7777777777777778,\"#fb9f3a\"],[0.8888888888888888,\"#fdca26\"],[1.0,\"#f0f921\"]],\"type\":\"heatmap\"}],\"heatmapgl\":[{\"colorbar\":{\"outlinewidth\":0,\"ticks\":\"\"},\"colorscale\":[[0.0,\"#0d0887\"],[0.1111111111111111,\"#46039f\"],[0.2222222222222222,\"#7201a8\"],[0.3333333333333333,\"#9c179e\"],[0.4444444444444444,\"#bd3786\"],[0.5555555555555556,\"#d8576b\"],[0.6666666666666666,\"#ed7953\"],[0.7777777777777778,\"#fb9f3a\"],[0.8888888888888888,\"#fdca26\"],[1.0,\"#f0f921\"]],\"type\":\"heatmapgl\"}],\"histogram\":[{\"marker\":{\"pattern\":{\"fillmode\":\"overlay\",\"size\":10,\"solidity\":0.2}},\"type\":\"histogram\"}],\"histogram2d\":[{\"colorbar\":{\"outlinewidth\":0,\"ticks\":\"\"},\"colorscale\":[[0.0,\"#0d0887\"],[0.1111111111111111,\"#46039f\"],[0.2222222222222222,\"#7201a8\"],[0.3333333333333333,\"#9c179e\"],[0.4444444444444444,\"#bd3786\"],[0.5555555555555556,\"#d8576b\"],[0.6666666666666666,\"#ed7953\"],[0.7777777777777778,\"#fb9f3a\"],[0.8888888888888888,\"#fdca26\"],[1.0,\"#f0f921\"]],\"type\":\"histogram2d\"}],\"histogram2dcontour\":[{\"colorbar\":{\"outlinewidth\":0,\"ticks\":\"\"},\"colorscale\":[[0.0,\"#0d0887\"],[0.1111111111111111,\"#46039f\"],[0.2222222222222222,\"#7201a8\"],[0.3333333333333333,\"#9c179e\"],[0.4444444444444444,\"#bd3786\"],[0.5555555555555556,\"#d8576b\"],[0.6666666666666666,\"#ed7953\"],[0.7777777777777778,\"#fb9f3a\"],[0.8888888888888888,\"#fdca26\"],[1.0,\"#f0f921\"]],\"type\":\"histogram2dcontour\"}],\"mesh3d\":[{\"colorbar\":{\"outlinewidth\":0,\"ticks\":\"\"},\"type\":\"mesh3d\"}],\"parcoords\":[{\"line\":{\"colorbar\":{\"outlinewidth\":0,\"ticks\":\"\"}},\"type\":\"parcoords\"}],\"pie\":[{\"automargin\":true,\"type\":\"pie\"}],\"scatter\":[{\"marker\":{\"colorbar\":{\"outlinewidth\":0,\"ticks\":\"\"}},\"type\":\"scatter\"}],\"scatter3d\":[{\"line\":{\"colorbar\":{\"outlinewidth\":0,\"ticks\":\"\"}},\"marker\":{\"colorbar\":{\"outlinewidth\":0,\"ticks\":\"\"}},\"type\":\"scatter3d\"}],\"scattercarpet\":[{\"marker\":{\"colorbar\":{\"outlinewidth\":0,\"ticks\":\"\"}},\"type\":\"scattercarpet\"}],\"scattergeo\":[{\"marker\":{\"colorbar\":{\"outlinewidth\":0,\"ticks\":\"\"}},\"type\":\"scattergeo\"}],\"scattergl\":[{\"marker\":{\"colorbar\":{\"outlinewidth\":0,\"ticks\":\"\"}},\"type\":\"scattergl\"}],\"scattermapbox\":[{\"marker\":{\"colorbar\":{\"outlinewidth\":0,\"ticks\":\"\"}},\"type\":\"scattermapbox\"}],\"scatterpolar\":[{\"marker\":{\"colorbar\":{\"outlinewidth\":0,\"ticks\":\"\"}},\"type\":\"scatterpolar\"}],\"scatterpolargl\":[{\"marker\":{\"colorbar\":{\"outlinewidth\":0,\"ticks\":\"\"}},\"type\":\"scatterpolargl\"}],\"scatterternary\":[{\"marker\":{\"colorbar\":{\"outlinewidth\":0,\"ticks\":\"\"}},\"type\":\"scatterternary\"}],\"surface\":[{\"colorbar\":{\"outlinewidth\":0,\"ticks\":\"\"},\"colorscale\":[[0.0,\"#0d0887\"],[0.1111111111111111,\"#46039f\"],[0.2222222222222222,\"#7201a8\"],[0.3333333333333333,\"#9c179e\"],[0.4444444444444444,\"#bd3786\"],[0.5555555555555556,\"#d8576b\"],[0.6666666666666666,\"#ed7953\"],[0.7777777777777778,\"#fb9f3a\"],[0.8888888888888888,\"#fdca26\"],[1.0,\"#f0f921\"]],\"type\":\"surface\"}],\"table\":[{\"cells\":{\"fill\":{\"color\":\"#EBF0F8\"},\"line\":{\"color\":\"white\"}},\"header\":{\"fill\":{\"color\":\"#C8D4E3\"},\"line\":{\"color\":\"white\"}},\"type\":\"table\"}]},\"layout\":{\"annotationdefaults\":{\"arrowcolor\":\"#2a3f5f\",\"arrowhead\":0,\"arrowwidth\":1},\"autotypenumbers\":\"strict\",\"coloraxis\":{\"colorbar\":{\"outlinewidth\":0,\"ticks\":\"\"}},\"colorscale\":{\"diverging\":[[0,\"#8e0152\"],[0.1,\"#c51b7d\"],[0.2,\"#de77ae\"],[0.3,\"#f1b6da\"],[0.4,\"#fde0ef\"],[0.5,\"#f7f7f7\"],[0.6,\"#e6f5d0\"],[0.7,\"#b8e186\"],[0.8,\"#7fbc41\"],[0.9,\"#4d9221\"],[1,\"#276419\"]],\"sequential\":[[0.0,\"#0d0887\"],[0.1111111111111111,\"#46039f\"],[0.2222222222222222,\"#7201a8\"],[0.3333333333333333,\"#9c179e\"],[0.4444444444444444,\"#bd3786\"],[0.5555555555555556,\"#d8576b\"],[0.6666666666666666,\"#ed7953\"],[0.7777777777777778,\"#fb9f3a\"],[0.8888888888888888,\"#fdca26\"],[1.0,\"#f0f921\"]],\"sequentialminus\":[[0.0,\"#0d0887\"],[0.1111111111111111,\"#46039f\"],[0.2222222222222222,\"#7201a8\"],[0.3333333333333333,\"#9c179e\"],[0.4444444444444444,\"#bd3786\"],[0.5555555555555556,\"#d8576b\"],[0.6666666666666666,\"#ed7953\"],[0.7777777777777778,\"#fb9f3a\"],[0.8888888888888888,\"#fdca26\"],[1.0,\"#f0f921\"]]},\"colorway\":[\"#636efa\",\"#EF553B\",\"#00cc96\",\"#ab63fa\",\"#FFA15A\",\"#19d3f3\",\"#FF6692\",\"#B6E880\",\"#FF97FF\",\"#FECB52\"],\"font\":{\"color\":\"#2a3f5f\"},\"geo\":{\"bgcolor\":\"white\",\"lakecolor\":\"white\",\"landcolor\":\"#E5ECF6\",\"showlakes\":true,\"showland\":true,\"subunitcolor\":\"white\"},\"hoverlabel\":{\"align\":\"left\"},\"hovermode\":\"closest\",\"mapbox\":{\"style\":\"light\"},\"paper_bgcolor\":\"white\",\"plot_bgcolor\":\"#E5ECF6\",\"polar\":{\"angularaxis\":{\"gridcolor\":\"white\",\"linecolor\":\"white\",\"ticks\":\"\"},\"bgcolor\":\"#E5ECF6\",\"radialaxis\":{\"gridcolor\":\"white\",\"linecolor\":\"white\",\"ticks\":\"\"}},\"scene\":{\"xaxis\":{\"backgroundcolor\":\"#E5ECF6\",\"gridcolor\":\"white\",\"gridwidth\":2,\"linecolor\":\"white\",\"showbackground\":true,\"ticks\":\"\",\"zerolinecolor\":\"white\"},\"yaxis\":{\"backgroundcolor\":\"#E5ECF6\",\"gridcolor\":\"white\",\"gridwidth\":2,\"linecolor\":\"white\",\"showbackground\":true,\"ticks\":\"\",\"zerolinecolor\":\"white\"},\"zaxis\":{\"backgroundcolor\":\"#E5ECF6\",\"gridcolor\":\"white\",\"gridwidth\":2,\"linecolor\":\"white\",\"showbackground\":true,\"ticks\":\"\",\"zerolinecolor\":\"white\"}},\"shapedefaults\":{\"line\":{\"color\":\"#2a3f5f\"}},\"ternary\":{\"aaxis\":{\"gridcolor\":\"white\",\"linecolor\":\"white\",\"ticks\":\"\"},\"baxis\":{\"gridcolor\":\"white\",\"linecolor\":\"white\",\"ticks\":\"\"},\"bgcolor\":\"#E5ECF6\",\"caxis\":{\"gridcolor\":\"white\",\"linecolor\":\"white\",\"ticks\":\"\"}},\"title\":{\"x\":0.05},\"xaxis\":{\"automargin\":true,\"gridcolor\":\"white\",\"linecolor\":\"white\",\"ticks\":\"\",\"title\":{\"standoff\":15},\"zerolinecolor\":\"white\",\"zerolinewidth\":2},\"yaxis\":{\"automargin\":true,\"gridcolor\":\"white\",\"linecolor\":\"white\",\"ticks\":\"\",\"title\":{\"standoff\":15},\"zerolinecolor\":\"white\",\"zerolinewidth\":2}}},\"xaxis\":{\"anchor\":\"y\",\"domain\":[0.0,1.0],\"title\":{\"text\":\"index\"}},\"yaxis\":{\"anchor\":\"x\",\"domain\":[0.0,1.0],\"title\":{\"text\":\"PM.5\"}},\"legend\":{\"title\":{\"text\":\"variable\"},\"tracegroupgap\":0},\"margin\":{\"t\":60}},                        {\"responsive\": true}                    ).then(function(){\n",
              "                            \n",
              "var gd = document.getElementById('f2272788-eb60-43a1-9fe7-c4e2e94fb428');\n",
              "var x = new MutationObserver(function (mutations, observer) {{\n",
              "        var display = window.getComputedStyle(gd).display;\n",
              "        if (!display || display === 'none') {{\n",
              "            console.log([gd, 'removed!']);\n",
              "            Plotly.purge(gd);\n",
              "            observer.disconnect();\n",
              "        }}\n",
              "}});\n",
              "\n",
              "// Listen for the removal of the full notebook cells\n",
              "var notebookContainer = gd.closest('#notebook-container');\n",
              "if (notebookContainer) {{\n",
              "    x.observe(notebookContainer, {childList: true});\n",
              "}}\n",
              "\n",
              "// Listen for the clearing of the current output cell\n",
              "var outputEl = gd.closest('.output');\n",
              "if (outputEl) {{\n",
              "    x.observe(outputEl, {childList: true});\n",
              "}}\n",
              "\n",
              "                        })                };                            </script>        </div>\n",
              "</body>\n",
              "</html>"
            ]
          },
          "metadata": {}
        }
      ]
    },
    {
      "cell_type": "code",
      "source": [],
      "metadata": {
        "id": "NFOGfyPDajz1"
      },
      "execution_count": null,
      "outputs": []
    },
    {
      "cell_type": "markdown",
      "source": [
        "# ARIMA models"
      ],
      "metadata": {
        "id": "3edCals6ayD7"
      }
    },
    {
      "cell_type": "code",
      "source": [
        "#display(data_f.head(), data_f.tail())"
      ],
      "metadata": {
        "id": "0c2gF6aCa1hZ"
      },
      "execution_count": null,
      "outputs": []
    },
    {
      "cell_type": "code",
      "source": [
        "cutoff_testa = int(len(data_f[\"value\"])*0.98)\n",
        "\n",
        "y_traina = data_f[\"value\"].iloc[:cutoff_testa]\n",
        "y_testa = data_f[\"value\"].iloc[cutoff_testa:]\n",
        "# the x value"
      ],
      "metadata": {
        "id": "8wUc2V1FeO-T"
      },
      "execution_count": null,
      "outputs": []
    },
    {
      "cell_type": "code",
      "source": [
        "len(y_testa)"
      ],
      "metadata": {
        "colab": {
          "base_uri": "https://localhost:8080/"
        },
        "id": "OJ9024Wdej-f",
        "outputId": "a24e5e89-693a-40ad-8d9e-9645da7530d4"
      },
      "execution_count": null,
      "outputs": [
        {
          "output_type": "execute_result",
          "data": {
            "text/plain": [
              "48"
            ]
          },
          "metadata": {},
          "execution_count": 59
        }
      ]
    },
    {
      "cell_type": "code",
      "source": [
        "#model\n",
        "y_train_meana = y_traina.mean()\n",
        "y_pred_baselinea = [y_train_meana] * len(y_traina)\n",
        "mae_baselinea = mean_absolute_error(y_traina, y_pred_baselinea)\n",
        "print(\"Mean P2 Reading:\", round(y_train_meana, 2))\n",
        "print(\"Baseline MAE:\", round(mae_baselinea, 2))"
      ],
      "metadata": {
        "colab": {
          "base_uri": "https://localhost:8080/"
        },
        "id": "qdWkI6KQex3O",
        "outputId": "336680c6-44ba-4ef7-c480-7b9376266eda"
      },
      "execution_count": null,
      "outputs": [
        {
          "output_type": "stream",
          "name": "stdout",
          "text": [
            "Mean P2 Reading: 11.3\n",
            "Baseline MAE: 7.83\n"
          ]
        }
      ]
    },
    {
      "cell_type": "code",
      "source": [],
      "metadata": {
        "id": "cfZ6C6A7fET8"
      },
      "execution_count": null,
      "outputs": []
    }
  ]
}